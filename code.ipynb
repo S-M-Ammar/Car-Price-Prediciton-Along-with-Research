{
 "cells": [
  {
   "cell_type": "code",
   "execution_count": 1,
   "id": "2b4b89bc",
   "metadata": {},
   "outputs": [],
   "source": [
    "import pandas as pd\n",
    "import numpy as np\n",
    "from matplotlib import pyplot as plt\n",
    "import seaborn as sns\n",
    "from sklearn.model_selection import train_test_split\n",
    "from scipy import stats\n",
    "import tensorflow as tf\n",
    "from keras import metrics\n",
    "from keras import backend as K\n",
    "from statsmodels.stats.multicomp import pairwise_tukeyhsd\n",
    "%matplotlib inline"
   ]
  },
  {
   "cell_type": "markdown",
   "id": "28774279",
   "metadata": {},
   "source": [
    "### Importing Dataset & Analysis"
   ]
  },
  {
   "cell_type": "code",
   "execution_count": 2,
   "id": "c035f4a7",
   "metadata": {},
   "outputs": [
    {
     "data": {
      "text/html": [
       "<div>\n",
       "<style scoped>\n",
       "    .dataframe tbody tr th:only-of-type {\n",
       "        vertical-align: middle;\n",
       "    }\n",
       "\n",
       "    .dataframe tbody tr th {\n",
       "        vertical-align: top;\n",
       "    }\n",
       "\n",
       "    .dataframe thead th {\n",
       "        text-align: right;\n",
       "    }\n",
       "</style>\n",
       "<table border=\"1\" class=\"dataframe\">\n",
       "  <thead>\n",
       "    <tr style=\"text-align: right;\">\n",
       "      <th></th>\n",
       "      <th>manufacturer_name</th>\n",
       "      <th>model_name</th>\n",
       "      <th>transmission</th>\n",
       "      <th>color</th>\n",
       "      <th>odometer_value</th>\n",
       "      <th>year_produced</th>\n",
       "      <th>engine_fuel</th>\n",
       "      <th>engine_has_gas</th>\n",
       "      <th>engine_type</th>\n",
       "      <th>engine_capacity</th>\n",
       "      <th>...</th>\n",
       "      <th>feature_1</th>\n",
       "      <th>feature_2</th>\n",
       "      <th>feature_3</th>\n",
       "      <th>feature_4</th>\n",
       "      <th>feature_5</th>\n",
       "      <th>feature_6</th>\n",
       "      <th>feature_7</th>\n",
       "      <th>feature_8</th>\n",
       "      <th>feature_9</th>\n",
       "      <th>duration_listed</th>\n",
       "    </tr>\n",
       "  </thead>\n",
       "  <tbody>\n",
       "    <tr>\n",
       "      <th>0</th>\n",
       "      <td>Subaru</td>\n",
       "      <td>Outback</td>\n",
       "      <td>automatic</td>\n",
       "      <td>silver</td>\n",
       "      <td>190000</td>\n",
       "      <td>2010</td>\n",
       "      <td>gasoline</td>\n",
       "      <td>False</td>\n",
       "      <td>gasoline</td>\n",
       "      <td>2.5</td>\n",
       "      <td>...</td>\n",
       "      <td>True</td>\n",
       "      <td>True</td>\n",
       "      <td>True</td>\n",
       "      <td>False</td>\n",
       "      <td>True</td>\n",
       "      <td>False</td>\n",
       "      <td>True</td>\n",
       "      <td>True</td>\n",
       "      <td>True</td>\n",
       "      <td>16</td>\n",
       "    </tr>\n",
       "    <tr>\n",
       "      <th>1</th>\n",
       "      <td>Subaru</td>\n",
       "      <td>Outback</td>\n",
       "      <td>automatic</td>\n",
       "      <td>blue</td>\n",
       "      <td>290000</td>\n",
       "      <td>2002</td>\n",
       "      <td>gasoline</td>\n",
       "      <td>False</td>\n",
       "      <td>gasoline</td>\n",
       "      <td>3.0</td>\n",
       "      <td>...</td>\n",
       "      <td>True</td>\n",
       "      <td>False</td>\n",
       "      <td>False</td>\n",
       "      <td>True</td>\n",
       "      <td>True</td>\n",
       "      <td>False</td>\n",
       "      <td>False</td>\n",
       "      <td>False</td>\n",
       "      <td>True</td>\n",
       "      <td>83</td>\n",
       "    </tr>\n",
       "    <tr>\n",
       "      <th>2</th>\n",
       "      <td>Subaru</td>\n",
       "      <td>Forester</td>\n",
       "      <td>automatic</td>\n",
       "      <td>red</td>\n",
       "      <td>402000</td>\n",
       "      <td>2001</td>\n",
       "      <td>gasoline</td>\n",
       "      <td>False</td>\n",
       "      <td>gasoline</td>\n",
       "      <td>2.5</td>\n",
       "      <td>...</td>\n",
       "      <td>True</td>\n",
       "      <td>False</td>\n",
       "      <td>False</td>\n",
       "      <td>False</td>\n",
       "      <td>False</td>\n",
       "      <td>False</td>\n",
       "      <td>False</td>\n",
       "      <td>True</td>\n",
       "      <td>True</td>\n",
       "      <td>151</td>\n",
       "    </tr>\n",
       "    <tr>\n",
       "      <th>3</th>\n",
       "      <td>Subaru</td>\n",
       "      <td>Impreza</td>\n",
       "      <td>mechanical</td>\n",
       "      <td>blue</td>\n",
       "      <td>10000</td>\n",
       "      <td>1999</td>\n",
       "      <td>gasoline</td>\n",
       "      <td>False</td>\n",
       "      <td>gasoline</td>\n",
       "      <td>3.0</td>\n",
       "      <td>...</td>\n",
       "      <td>False</td>\n",
       "      <td>False</td>\n",
       "      <td>False</td>\n",
       "      <td>False</td>\n",
       "      <td>False</td>\n",
       "      <td>False</td>\n",
       "      <td>False</td>\n",
       "      <td>False</td>\n",
       "      <td>False</td>\n",
       "      <td>86</td>\n",
       "    </tr>\n",
       "    <tr>\n",
       "      <th>4</th>\n",
       "      <td>Subaru</td>\n",
       "      <td>Legacy</td>\n",
       "      <td>automatic</td>\n",
       "      <td>black</td>\n",
       "      <td>280000</td>\n",
       "      <td>2001</td>\n",
       "      <td>gasoline</td>\n",
       "      <td>False</td>\n",
       "      <td>gasoline</td>\n",
       "      <td>2.5</td>\n",
       "      <td>...</td>\n",
       "      <td>True</td>\n",
       "      <td>False</td>\n",
       "      <td>True</td>\n",
       "      <td>True</td>\n",
       "      <td>False</td>\n",
       "      <td>False</td>\n",
       "      <td>False</td>\n",
       "      <td>False</td>\n",
       "      <td>True</td>\n",
       "      <td>7</td>\n",
       "    </tr>\n",
       "    <tr>\n",
       "      <th>...</th>\n",
       "      <td>...</td>\n",
       "      <td>...</td>\n",
       "      <td>...</td>\n",
       "      <td>...</td>\n",
       "      <td>...</td>\n",
       "      <td>...</td>\n",
       "      <td>...</td>\n",
       "      <td>...</td>\n",
       "      <td>...</td>\n",
       "      <td>...</td>\n",
       "      <td>...</td>\n",
       "      <td>...</td>\n",
       "      <td>...</td>\n",
       "      <td>...</td>\n",
       "      <td>...</td>\n",
       "      <td>...</td>\n",
       "      <td>...</td>\n",
       "      <td>...</td>\n",
       "      <td>...</td>\n",
       "      <td>...</td>\n",
       "      <td>...</td>\n",
       "    </tr>\n",
       "    <tr>\n",
       "      <th>38526</th>\n",
       "      <td>Chrysler</td>\n",
       "      <td>300</td>\n",
       "      <td>automatic</td>\n",
       "      <td>silver</td>\n",
       "      <td>290000</td>\n",
       "      <td>2000</td>\n",
       "      <td>gasoline</td>\n",
       "      <td>False</td>\n",
       "      <td>gasoline</td>\n",
       "      <td>3.5</td>\n",
       "      <td>...</td>\n",
       "      <td>True</td>\n",
       "      <td>False</td>\n",
       "      <td>False</td>\n",
       "      <td>True</td>\n",
       "      <td>True</td>\n",
       "      <td>False</td>\n",
       "      <td>False</td>\n",
       "      <td>True</td>\n",
       "      <td>True</td>\n",
       "      <td>301</td>\n",
       "    </tr>\n",
       "    <tr>\n",
       "      <th>38527</th>\n",
       "      <td>Chrysler</td>\n",
       "      <td>PT Cruiser</td>\n",
       "      <td>mechanical</td>\n",
       "      <td>blue</td>\n",
       "      <td>321000</td>\n",
       "      <td>2004</td>\n",
       "      <td>diesel</td>\n",
       "      <td>False</td>\n",
       "      <td>diesel</td>\n",
       "      <td>2.2</td>\n",
       "      <td>...</td>\n",
       "      <td>True</td>\n",
       "      <td>False</td>\n",
       "      <td>False</td>\n",
       "      <td>True</td>\n",
       "      <td>True</td>\n",
       "      <td>False</td>\n",
       "      <td>False</td>\n",
       "      <td>True</td>\n",
       "      <td>True</td>\n",
       "      <td>317</td>\n",
       "    </tr>\n",
       "    <tr>\n",
       "      <th>38528</th>\n",
       "      <td>Chrysler</td>\n",
       "      <td>300</td>\n",
       "      <td>automatic</td>\n",
       "      <td>blue</td>\n",
       "      <td>777957</td>\n",
       "      <td>2000</td>\n",
       "      <td>gasoline</td>\n",
       "      <td>False</td>\n",
       "      <td>gasoline</td>\n",
       "      <td>3.5</td>\n",
       "      <td>...</td>\n",
       "      <td>True</td>\n",
       "      <td>False</td>\n",
       "      <td>False</td>\n",
       "      <td>True</td>\n",
       "      <td>True</td>\n",
       "      <td>False</td>\n",
       "      <td>False</td>\n",
       "      <td>True</td>\n",
       "      <td>True</td>\n",
       "      <td>369</td>\n",
       "    </tr>\n",
       "    <tr>\n",
       "      <th>38529</th>\n",
       "      <td>Chrysler</td>\n",
       "      <td>PT Cruiser</td>\n",
       "      <td>mechanical</td>\n",
       "      <td>black</td>\n",
       "      <td>20000</td>\n",
       "      <td>2001</td>\n",
       "      <td>gasoline</td>\n",
       "      <td>False</td>\n",
       "      <td>gasoline</td>\n",
       "      <td>2.0</td>\n",
       "      <td>...</td>\n",
       "      <td>True</td>\n",
       "      <td>False</td>\n",
       "      <td>False</td>\n",
       "      <td>False</td>\n",
       "      <td>False</td>\n",
       "      <td>False</td>\n",
       "      <td>False</td>\n",
       "      <td>False</td>\n",
       "      <td>True</td>\n",
       "      <td>490</td>\n",
       "    </tr>\n",
       "    <tr>\n",
       "      <th>38530</th>\n",
       "      <td>Chrysler</td>\n",
       "      <td>Voyager</td>\n",
       "      <td>automatic</td>\n",
       "      <td>silver</td>\n",
       "      <td>297729</td>\n",
       "      <td>2000</td>\n",
       "      <td>gasoline</td>\n",
       "      <td>False</td>\n",
       "      <td>gasoline</td>\n",
       "      <td>2.4</td>\n",
       "      <td>...</td>\n",
       "      <td>False</td>\n",
       "      <td>False</td>\n",
       "      <td>False</td>\n",
       "      <td>False</td>\n",
       "      <td>False</td>\n",
       "      <td>False</td>\n",
       "      <td>False</td>\n",
       "      <td>False</td>\n",
       "      <td>True</td>\n",
       "      <td>632</td>\n",
       "    </tr>\n",
       "  </tbody>\n",
       "</table>\n",
       "<p>38531 rows × 30 columns</p>\n",
       "</div>"
      ],
      "text/plain": [
       "      manufacturer_name  model_name transmission   color  odometer_value  \\\n",
       "0                Subaru     Outback    automatic  silver          190000   \n",
       "1                Subaru     Outback    automatic    blue          290000   \n",
       "2                Subaru    Forester    automatic     red          402000   \n",
       "3                Subaru     Impreza   mechanical    blue           10000   \n",
       "4                Subaru      Legacy    automatic   black          280000   \n",
       "...                 ...         ...          ...     ...             ...   \n",
       "38526          Chrysler         300    automatic  silver          290000   \n",
       "38527          Chrysler  PT Cruiser   mechanical    blue          321000   \n",
       "38528          Chrysler         300    automatic    blue          777957   \n",
       "38529          Chrysler  PT Cruiser   mechanical   black           20000   \n",
       "38530          Chrysler     Voyager    automatic  silver          297729   \n",
       "\n",
       "       year_produced engine_fuel  engine_has_gas engine_type  engine_capacity  \\\n",
       "0               2010    gasoline           False    gasoline              2.5   \n",
       "1               2002    gasoline           False    gasoline              3.0   \n",
       "2               2001    gasoline           False    gasoline              2.5   \n",
       "3               1999    gasoline           False    gasoline              3.0   \n",
       "4               2001    gasoline           False    gasoline              2.5   \n",
       "...              ...         ...             ...         ...              ...   \n",
       "38526           2000    gasoline           False    gasoline              3.5   \n",
       "38527           2004      diesel           False      diesel              2.2   \n",
       "38528           2000    gasoline           False    gasoline              3.5   \n",
       "38529           2001    gasoline           False    gasoline              2.0   \n",
       "38530           2000    gasoline           False    gasoline              2.4   \n",
       "\n",
       "       ... feature_1  feature_2 feature_3 feature_4  feature_5  feature_6  \\\n",
       "0      ...      True       True      True     False       True      False   \n",
       "1      ...      True      False     False      True       True      False   \n",
       "2      ...      True      False     False     False      False      False   \n",
       "3      ...     False      False     False     False      False      False   \n",
       "4      ...      True      False      True      True      False      False   \n",
       "...    ...       ...        ...       ...       ...        ...        ...   \n",
       "38526  ...      True      False     False      True       True      False   \n",
       "38527  ...      True      False     False      True       True      False   \n",
       "38528  ...      True      False     False      True       True      False   \n",
       "38529  ...      True      False     False     False      False      False   \n",
       "38530  ...     False      False     False     False      False      False   \n",
       "\n",
       "      feature_7  feature_8  feature_9  duration_listed  \n",
       "0          True       True       True               16  \n",
       "1         False      False       True               83  \n",
       "2         False       True       True              151  \n",
       "3         False      False      False               86  \n",
       "4         False      False       True                7  \n",
       "...         ...        ...        ...              ...  \n",
       "38526     False       True       True              301  \n",
       "38527     False       True       True              317  \n",
       "38528     False       True       True              369  \n",
       "38529     False      False       True              490  \n",
       "38530     False      False       True              632  \n",
       "\n",
       "[38531 rows x 30 columns]"
      ]
     },
     "execution_count": 2,
     "metadata": {},
     "output_type": "execute_result"
    }
   ],
   "source": [
    "df_org = pd.read_csv(\"cars.csv\")\n",
    "df_org"
   ]
  },
  {
   "cell_type": "code",
   "execution_count": 3,
   "id": "b1d279ff",
   "metadata": {},
   "outputs": [
    {
     "data": {
      "text/plain": [
       "Index(['manufacturer_name', 'model_name', 'transmission', 'color',\n",
       "       'odometer_value', 'year_produced', 'engine_fuel', 'engine_has_gas',\n",
       "       'engine_type', 'engine_capacity', 'body_type', 'has_warranty', 'state',\n",
       "       'drivetrain', 'price_usd', 'is_exchangeable', 'location_region',\n",
       "       'number_of_photos', 'up_counter', 'feature_0', 'feature_1', 'feature_2',\n",
       "       'feature_3', 'feature_4', 'feature_5', 'feature_6', 'feature_7',\n",
       "       'feature_8', 'feature_9', 'duration_listed'],\n",
       "      dtype='object')"
      ]
     },
     "execution_count": 3,
     "metadata": {},
     "output_type": "execute_result"
    }
   ],
   "source": [
    "df_org.columns"
   ]
  },
  {
   "cell_type": "code",
   "execution_count": 4,
   "id": "bf6427a0",
   "metadata": {},
   "outputs": [
    {
     "name": "stdout",
     "output_type": "stream",
     "text": [
      "<class 'pandas.core.frame.DataFrame'>\n",
      "RangeIndex: 38531 entries, 0 to 38530\n",
      "Data columns (total 30 columns):\n",
      " #   Column             Non-Null Count  Dtype  \n",
      "---  ------             --------------  -----  \n",
      " 0   manufacturer_name  38531 non-null  object \n",
      " 1   model_name         38531 non-null  object \n",
      " 2   transmission       38531 non-null  object \n",
      " 3   color              38531 non-null  object \n",
      " 4   odometer_value     38531 non-null  int64  \n",
      " 5   year_produced      38531 non-null  int64  \n",
      " 6   engine_fuel        38531 non-null  object \n",
      " 7   engine_has_gas     38531 non-null  bool   \n",
      " 8   engine_type        38531 non-null  object \n",
      " 9   engine_capacity    38521 non-null  float64\n",
      " 10  body_type          38531 non-null  object \n",
      " 11  has_warranty       38531 non-null  bool   \n",
      " 12  state              38531 non-null  object \n",
      " 13  drivetrain         38531 non-null  object \n",
      " 14  price_usd          38531 non-null  float64\n",
      " 15  is_exchangeable    38531 non-null  bool   \n",
      " 16  location_region    38531 non-null  object \n",
      " 17  number_of_photos   38531 non-null  int64  \n",
      " 18  up_counter         38531 non-null  int64  \n",
      " 19  feature_0          38531 non-null  bool   \n",
      " 20  feature_1          38531 non-null  bool   \n",
      " 21  feature_2          38531 non-null  bool   \n",
      " 22  feature_3          38531 non-null  bool   \n",
      " 23  feature_4          38531 non-null  bool   \n",
      " 24  feature_5          38531 non-null  bool   \n",
      " 25  feature_6          38531 non-null  bool   \n",
      " 26  feature_7          38531 non-null  bool   \n",
      " 27  feature_8          38531 non-null  bool   \n",
      " 28  feature_9          38531 non-null  bool   \n",
      " 29  duration_listed    38531 non-null  int64  \n",
      "dtypes: bool(13), float64(2), int64(5), object(10)\n",
      "memory usage: 5.5+ MB\n"
     ]
    }
   ],
   "source": [
    "df_org.info()"
   ]
  },
  {
   "cell_type": "code",
   "execution_count": 5,
   "id": "4b39a0cf",
   "metadata": {},
   "outputs": [
    {
     "data": {
      "text/html": [
       "<div>\n",
       "<style scoped>\n",
       "    .dataframe tbody tr th:only-of-type {\n",
       "        vertical-align: middle;\n",
       "    }\n",
       "\n",
       "    .dataframe tbody tr th {\n",
       "        vertical-align: top;\n",
       "    }\n",
       "\n",
       "    .dataframe thead th {\n",
       "        text-align: right;\n",
       "    }\n",
       "</style>\n",
       "<table border=\"1\" class=\"dataframe\">\n",
       "  <thead>\n",
       "    <tr style=\"text-align: right;\">\n",
       "      <th></th>\n",
       "      <th>transmission</th>\n",
       "      <th>odometer_value</th>\n",
       "      <th>year_produced</th>\n",
       "      <th>engine_fuel</th>\n",
       "      <th>engine_has_gas</th>\n",
       "      <th>engine_type</th>\n",
       "      <th>engine_capacity</th>\n",
       "      <th>body_type</th>\n",
       "      <th>has_warranty</th>\n",
       "      <th>state</th>\n",
       "      <th>...</th>\n",
       "      <th>feature_0</th>\n",
       "      <th>feature_1</th>\n",
       "      <th>feature_2</th>\n",
       "      <th>feature_3</th>\n",
       "      <th>feature_4</th>\n",
       "      <th>feature_5</th>\n",
       "      <th>feature_6</th>\n",
       "      <th>feature_7</th>\n",
       "      <th>feature_8</th>\n",
       "      <th>feature_9</th>\n",
       "    </tr>\n",
       "  </thead>\n",
       "  <tbody>\n",
       "    <tr>\n",
       "      <th>0</th>\n",
       "      <td>automatic</td>\n",
       "      <td>190000</td>\n",
       "      <td>2010</td>\n",
       "      <td>gasoline</td>\n",
       "      <td>False</td>\n",
       "      <td>gasoline</td>\n",
       "      <td>2.5</td>\n",
       "      <td>universal</td>\n",
       "      <td>False</td>\n",
       "      <td>owned</td>\n",
       "      <td>...</td>\n",
       "      <td>False</td>\n",
       "      <td>True</td>\n",
       "      <td>True</td>\n",
       "      <td>True</td>\n",
       "      <td>False</td>\n",
       "      <td>True</td>\n",
       "      <td>False</td>\n",
       "      <td>True</td>\n",
       "      <td>True</td>\n",
       "      <td>True</td>\n",
       "    </tr>\n",
       "    <tr>\n",
       "      <th>1</th>\n",
       "      <td>automatic</td>\n",
       "      <td>290000</td>\n",
       "      <td>2002</td>\n",
       "      <td>gasoline</td>\n",
       "      <td>False</td>\n",
       "      <td>gasoline</td>\n",
       "      <td>3.0</td>\n",
       "      <td>universal</td>\n",
       "      <td>False</td>\n",
       "      <td>owned</td>\n",
       "      <td>...</td>\n",
       "      <td>False</td>\n",
       "      <td>True</td>\n",
       "      <td>False</td>\n",
       "      <td>False</td>\n",
       "      <td>True</td>\n",
       "      <td>True</td>\n",
       "      <td>False</td>\n",
       "      <td>False</td>\n",
       "      <td>False</td>\n",
       "      <td>True</td>\n",
       "    </tr>\n",
       "    <tr>\n",
       "      <th>2</th>\n",
       "      <td>automatic</td>\n",
       "      <td>402000</td>\n",
       "      <td>2001</td>\n",
       "      <td>gasoline</td>\n",
       "      <td>False</td>\n",
       "      <td>gasoline</td>\n",
       "      <td>2.5</td>\n",
       "      <td>suv</td>\n",
       "      <td>False</td>\n",
       "      <td>owned</td>\n",
       "      <td>...</td>\n",
       "      <td>False</td>\n",
       "      <td>True</td>\n",
       "      <td>False</td>\n",
       "      <td>False</td>\n",
       "      <td>False</td>\n",
       "      <td>False</td>\n",
       "      <td>False</td>\n",
       "      <td>False</td>\n",
       "      <td>True</td>\n",
       "      <td>True</td>\n",
       "    </tr>\n",
       "    <tr>\n",
       "      <th>3</th>\n",
       "      <td>mechanical</td>\n",
       "      <td>10000</td>\n",
       "      <td>1999</td>\n",
       "      <td>gasoline</td>\n",
       "      <td>False</td>\n",
       "      <td>gasoline</td>\n",
       "      <td>3.0</td>\n",
       "      <td>sedan</td>\n",
       "      <td>False</td>\n",
       "      <td>owned</td>\n",
       "      <td>...</td>\n",
       "      <td>True</td>\n",
       "      <td>False</td>\n",
       "      <td>False</td>\n",
       "      <td>False</td>\n",
       "      <td>False</td>\n",
       "      <td>False</td>\n",
       "      <td>False</td>\n",
       "      <td>False</td>\n",
       "      <td>False</td>\n",
       "      <td>False</td>\n",
       "    </tr>\n",
       "    <tr>\n",
       "      <th>4</th>\n",
       "      <td>automatic</td>\n",
       "      <td>280000</td>\n",
       "      <td>2001</td>\n",
       "      <td>gasoline</td>\n",
       "      <td>False</td>\n",
       "      <td>gasoline</td>\n",
       "      <td>2.5</td>\n",
       "      <td>universal</td>\n",
       "      <td>False</td>\n",
       "      <td>owned</td>\n",
       "      <td>...</td>\n",
       "      <td>False</td>\n",
       "      <td>True</td>\n",
       "      <td>False</td>\n",
       "      <td>True</td>\n",
       "      <td>True</td>\n",
       "      <td>False</td>\n",
       "      <td>False</td>\n",
       "      <td>False</td>\n",
       "      <td>False</td>\n",
       "      <td>True</td>\n",
       "    </tr>\n",
       "    <tr>\n",
       "      <th>...</th>\n",
       "      <td>...</td>\n",
       "      <td>...</td>\n",
       "      <td>...</td>\n",
       "      <td>...</td>\n",
       "      <td>...</td>\n",
       "      <td>...</td>\n",
       "      <td>...</td>\n",
       "      <td>...</td>\n",
       "      <td>...</td>\n",
       "      <td>...</td>\n",
       "      <td>...</td>\n",
       "      <td>...</td>\n",
       "      <td>...</td>\n",
       "      <td>...</td>\n",
       "      <td>...</td>\n",
       "      <td>...</td>\n",
       "      <td>...</td>\n",
       "      <td>...</td>\n",
       "      <td>...</td>\n",
       "      <td>...</td>\n",
       "      <td>...</td>\n",
       "    </tr>\n",
       "    <tr>\n",
       "      <th>38526</th>\n",
       "      <td>automatic</td>\n",
       "      <td>290000</td>\n",
       "      <td>2000</td>\n",
       "      <td>gasoline</td>\n",
       "      <td>False</td>\n",
       "      <td>gasoline</td>\n",
       "      <td>3.5</td>\n",
       "      <td>sedan</td>\n",
       "      <td>False</td>\n",
       "      <td>owned</td>\n",
       "      <td>...</td>\n",
       "      <td>False</td>\n",
       "      <td>True</td>\n",
       "      <td>False</td>\n",
       "      <td>False</td>\n",
       "      <td>True</td>\n",
       "      <td>True</td>\n",
       "      <td>False</td>\n",
       "      <td>False</td>\n",
       "      <td>True</td>\n",
       "      <td>True</td>\n",
       "    </tr>\n",
       "    <tr>\n",
       "      <th>38527</th>\n",
       "      <td>mechanical</td>\n",
       "      <td>321000</td>\n",
       "      <td>2004</td>\n",
       "      <td>diesel</td>\n",
       "      <td>False</td>\n",
       "      <td>diesel</td>\n",
       "      <td>2.2</td>\n",
       "      <td>hatchback</td>\n",
       "      <td>False</td>\n",
       "      <td>owned</td>\n",
       "      <td>...</td>\n",
       "      <td>False</td>\n",
       "      <td>True</td>\n",
       "      <td>False</td>\n",
       "      <td>False</td>\n",
       "      <td>True</td>\n",
       "      <td>True</td>\n",
       "      <td>False</td>\n",
       "      <td>False</td>\n",
       "      <td>True</td>\n",
       "      <td>True</td>\n",
       "    </tr>\n",
       "    <tr>\n",
       "      <th>38528</th>\n",
       "      <td>automatic</td>\n",
       "      <td>777957</td>\n",
       "      <td>2000</td>\n",
       "      <td>gasoline</td>\n",
       "      <td>False</td>\n",
       "      <td>gasoline</td>\n",
       "      <td>3.5</td>\n",
       "      <td>sedan</td>\n",
       "      <td>False</td>\n",
       "      <td>owned</td>\n",
       "      <td>...</td>\n",
       "      <td>False</td>\n",
       "      <td>True</td>\n",
       "      <td>False</td>\n",
       "      <td>False</td>\n",
       "      <td>True</td>\n",
       "      <td>True</td>\n",
       "      <td>False</td>\n",
       "      <td>False</td>\n",
       "      <td>True</td>\n",
       "      <td>True</td>\n",
       "    </tr>\n",
       "    <tr>\n",
       "      <th>38529</th>\n",
       "      <td>mechanical</td>\n",
       "      <td>20000</td>\n",
       "      <td>2001</td>\n",
       "      <td>gasoline</td>\n",
       "      <td>False</td>\n",
       "      <td>gasoline</td>\n",
       "      <td>2.0</td>\n",
       "      <td>minivan</td>\n",
       "      <td>False</td>\n",
       "      <td>owned</td>\n",
       "      <td>...</td>\n",
       "      <td>False</td>\n",
       "      <td>True</td>\n",
       "      <td>False</td>\n",
       "      <td>False</td>\n",
       "      <td>False</td>\n",
       "      <td>False</td>\n",
       "      <td>False</td>\n",
       "      <td>False</td>\n",
       "      <td>False</td>\n",
       "      <td>True</td>\n",
       "    </tr>\n",
       "    <tr>\n",
       "      <th>38530</th>\n",
       "      <td>automatic</td>\n",
       "      <td>297729</td>\n",
       "      <td>2000</td>\n",
       "      <td>gasoline</td>\n",
       "      <td>False</td>\n",
       "      <td>gasoline</td>\n",
       "      <td>2.4</td>\n",
       "      <td>minivan</td>\n",
       "      <td>False</td>\n",
       "      <td>owned</td>\n",
       "      <td>...</td>\n",
       "      <td>False</td>\n",
       "      <td>False</td>\n",
       "      <td>False</td>\n",
       "      <td>False</td>\n",
       "      <td>False</td>\n",
       "      <td>False</td>\n",
       "      <td>False</td>\n",
       "      <td>False</td>\n",
       "      <td>False</td>\n",
       "      <td>True</td>\n",
       "    </tr>\n",
       "  </tbody>\n",
       "</table>\n",
       "<p>38531 rows × 23 columns</p>\n",
       "</div>"
      ],
      "text/plain": [
       "      transmission  odometer_value  year_produced engine_fuel  engine_has_gas  \\\n",
       "0        automatic          190000           2010    gasoline           False   \n",
       "1        automatic          290000           2002    gasoline           False   \n",
       "2        automatic          402000           2001    gasoline           False   \n",
       "3       mechanical           10000           1999    gasoline           False   \n",
       "4        automatic          280000           2001    gasoline           False   \n",
       "...            ...             ...            ...         ...             ...   \n",
       "38526    automatic          290000           2000    gasoline           False   \n",
       "38527   mechanical          321000           2004      diesel           False   \n",
       "38528    automatic          777957           2000    gasoline           False   \n",
       "38529   mechanical           20000           2001    gasoline           False   \n",
       "38530    automatic          297729           2000    gasoline           False   \n",
       "\n",
       "      engine_type  engine_capacity  body_type  has_warranty  state  ...  \\\n",
       "0        gasoline              2.5  universal         False  owned  ...   \n",
       "1        gasoline              3.0  universal         False  owned  ...   \n",
       "2        gasoline              2.5        suv         False  owned  ...   \n",
       "3        gasoline              3.0      sedan         False  owned  ...   \n",
       "4        gasoline              2.5  universal         False  owned  ...   \n",
       "...           ...              ...        ...           ...    ...  ...   \n",
       "38526    gasoline              3.5      sedan         False  owned  ...   \n",
       "38527      diesel              2.2  hatchback         False  owned  ...   \n",
       "38528    gasoline              3.5      sedan         False  owned  ...   \n",
       "38529    gasoline              2.0    minivan         False  owned  ...   \n",
       "38530    gasoline              2.4    minivan         False  owned  ...   \n",
       "\n",
       "      feature_0  feature_1  feature_2  feature_3  feature_4  feature_5  \\\n",
       "0         False       True       True       True      False       True   \n",
       "1         False       True      False      False       True       True   \n",
       "2         False       True      False      False      False      False   \n",
       "3          True      False      False      False      False      False   \n",
       "4         False       True      False       True       True      False   \n",
       "...         ...        ...        ...        ...        ...        ...   \n",
       "38526     False       True      False      False       True       True   \n",
       "38527     False       True      False      False       True       True   \n",
       "38528     False       True      False      False       True       True   \n",
       "38529     False       True      False      False      False      False   \n",
       "38530     False      False      False      False      False      False   \n",
       "\n",
       "       feature_6  feature_7  feature_8  feature_9  \n",
       "0          False       True       True       True  \n",
       "1          False      False      False       True  \n",
       "2          False      False       True       True  \n",
       "3          False      False      False      False  \n",
       "4          False      False      False       True  \n",
       "...          ...        ...        ...        ...  \n",
       "38526      False      False       True       True  \n",
       "38527      False      False       True       True  \n",
       "38528      False      False       True       True  \n",
       "38529      False      False      False       True  \n",
       "38530      False      False      False       True  \n",
       "\n",
       "[38531 rows x 23 columns]"
      ]
     },
     "execution_count": 5,
     "metadata": {},
     "output_type": "execute_result"
    }
   ],
   "source": [
    "# Removing unnecessay columns \n",
    "df_org.drop(labels=['duration_listed','color','manufacturer_name', 'model_name','up_counter','number_of_photos','location_region'],axis=1,inplace=True)\n",
    "df_org"
   ]
  },
  {
   "cell_type": "code",
   "execution_count": 6,
   "id": "aa2e2e09",
   "metadata": {},
   "outputs": [],
   "source": [
    "# Removing values with NaN\n",
    "df_org.dropna(axis=0,inplace=True)"
   ]
  },
  {
   "cell_type": "code",
   "execution_count": 7,
   "id": "7ce2b5a7",
   "metadata": {},
   "outputs": [
    {
     "name": "stdout",
     "output_type": "stream",
     "text": [
      "<class 'pandas.core.frame.DataFrame'>\n",
      "Int64Index: 38521 entries, 0 to 38530\n",
      "Data columns (total 23 columns):\n",
      " #   Column           Non-Null Count  Dtype  \n",
      "---  ------           --------------  -----  \n",
      " 0   transmission     38521 non-null  object \n",
      " 1   odometer_value   38521 non-null  int64  \n",
      " 2   year_produced    38521 non-null  int64  \n",
      " 3   engine_fuel      38521 non-null  object \n",
      " 4   engine_has_gas   38521 non-null  bool   \n",
      " 5   engine_type      38521 non-null  object \n",
      " 6   engine_capacity  38521 non-null  float64\n",
      " 7   body_type        38521 non-null  object \n",
      " 8   has_warranty     38521 non-null  bool   \n",
      " 9   state            38521 non-null  object \n",
      " 10  drivetrain       38521 non-null  object \n",
      " 11  price_usd        38521 non-null  float64\n",
      " 12  is_exchangeable  38521 non-null  bool   \n",
      " 13  feature_0        38521 non-null  bool   \n",
      " 14  feature_1        38521 non-null  bool   \n",
      " 15  feature_2        38521 non-null  bool   \n",
      " 16  feature_3        38521 non-null  bool   \n",
      " 17  feature_4        38521 non-null  bool   \n",
      " 18  feature_5        38521 non-null  bool   \n",
      " 19  feature_6        38521 non-null  bool   \n",
      " 20  feature_7        38521 non-null  bool   \n",
      " 21  feature_8        38521 non-null  bool   \n",
      " 22  feature_9        38521 non-null  bool   \n",
      "dtypes: bool(13), float64(2), int64(2), object(6)\n",
      "memory usage: 3.7+ MB\n"
     ]
    }
   ],
   "source": [
    "df_org.info()"
   ]
  },
  {
   "cell_type": "markdown",
   "id": "6df1b411",
   "metadata": {},
   "source": [
    "#### Checking  all binary features (point bi-serial) with target class (price_usd)"
   ]
  },
  {
   "cell_type": "code",
   "execution_count": 8,
   "id": "4b96a678",
   "metadata": {},
   "outputs": [
    {
     "name": "stdout",
     "output_type": "stream",
     "text": [
      "transmission\n",
      "engine_has_gas\n",
      "engine_type\n",
      "has_warranty\n",
      "is_exchangeable\n",
      "feature_0\n",
      "feature_1\n",
      "feature_2\n",
      "feature_3\n",
      "feature_4\n",
      "feature_5\n",
      "feature_6\n",
      "feature_7\n",
      "feature_8\n",
      "feature_9\n"
     ]
    }
   ],
   "source": [
    "df = df_org.copy()\n",
    "for x in df.columns:\n",
    "    if((df[x].dtypes==object or df[x].dtypes==bool) and len(df[x].unique())==2):\n",
    "        print(x)"
   ]
  },
  {
   "cell_type": "code",
   "execution_count": 9,
   "id": "6b2278ef",
   "metadata": {},
   "outputs": [
    {
     "data": {
      "text/plain": [
       "array(['automatic', 'mechanical'], dtype=object)"
      ]
     },
     "execution_count": 9,
     "metadata": {},
     "output_type": "execute_result"
    }
   ],
   "source": [
    "df['transmission'].unique()"
   ]
  },
  {
   "cell_type": "code",
   "execution_count": 10,
   "id": "dcba326f",
   "metadata": {},
   "outputs": [
    {
     "data": {
      "text/plain": [
       "array([False,  True])"
      ]
     },
     "execution_count": 10,
     "metadata": {},
     "output_type": "execute_result"
    }
   ],
   "source": [
    "df['engine_has_gas'].unique()"
   ]
  },
  {
   "cell_type": "code",
   "execution_count": 11,
   "id": "3933031a",
   "metadata": {},
   "outputs": [
    {
     "data": {
      "text/plain": [
       "array([False,  True])"
      ]
     },
     "execution_count": 11,
     "metadata": {},
     "output_type": "execute_result"
    }
   ],
   "source": [
    "df['has_warranty'].unique()"
   ]
  },
  {
   "cell_type": "code",
   "execution_count": 12,
   "id": "24ea2845",
   "metadata": {},
   "outputs": [
    {
     "data": {
      "text/plain": [
       "array([False,  True])"
      ]
     },
     "execution_count": 12,
     "metadata": {},
     "output_type": "execute_result"
    }
   ],
   "source": [
    "df['is_exchangeable'].unique()"
   ]
  },
  {
   "cell_type": "code",
   "execution_count": 13,
   "id": "6facf8f2",
   "metadata": {},
   "outputs": [
    {
     "data": {
      "text/plain": [
       "array(['gasoline', 'diesel'], dtype=object)"
      ]
     },
     "execution_count": 13,
     "metadata": {},
     "output_type": "execute_result"
    }
   ],
   "source": [
    "df['engine_type'].unique()"
   ]
  },
  {
   "cell_type": "code",
   "execution_count": 14,
   "id": "4bdcf4b0",
   "metadata": {},
   "outputs": [],
   "source": [
    "# converting to numerical format (binary -> 1 or 0)\n",
    "df['transmission'] = df['transmission'].map({'automatic':1,'mechanical':0})\n",
    "df['engine_has_gas'] = df['engine_has_gas'].map({True:1,False:0})\n",
    "df['has_warranty'] = df['has_warranty'].map({True:1,False:0})\n",
    "df['is_exchangeable'] = df['is_exchangeable'].map({True:1,False:0})\n",
    "df['engine_type'] = df['engine_type'].map({'gasoline':1,'diesel':0})\n"
   ]
  },
  {
   "cell_type": "code",
   "execution_count": 15,
   "id": "52d5f3e2",
   "metadata": {},
   "outputs": [],
   "source": [
    "binary_features_selected = []\n",
    "for x in df.columns:\n",
    "    if((df[x].dtypes=='int64' or df[x].dtypes==bool) and len(df[x].unique())==2):\n",
    "        correlation = stats.pointbiserialr(df[x],df['price_usd'])[0]\n",
    "        if(correlation>=0.45):\n",
    "            binary_features_selected.append(x)\n",
    "        elif(correlation<=-0.45):\n",
    "            binary_features_selected.append(x)\n",
    "            "
   ]
  },
  {
   "cell_type": "code",
   "execution_count": 16,
   "id": "86ebfb16",
   "metadata": {},
   "outputs": [
    {
     "data": {
      "text/plain": [
       "['transmission', 'feature_3', 'feature_6', 'feature_7']"
      ]
     },
     "execution_count": 16,
     "metadata": {},
     "output_type": "execute_result"
    }
   ],
   "source": [
    "# We need to select following binary features \n",
    "binary_features_selected"
   ]
  },
  {
   "cell_type": "markdown",
   "id": "5ae3b9c1",
   "metadata": {},
   "source": [
    "#### Checking  all numerical features for target class (price_usd)"
   ]
  },
  {
   "cell_type": "code",
   "execution_count": 17,
   "id": "44a46955",
   "metadata": {},
   "outputs": [
    {
     "name": "stdout",
     "output_type": "stream",
     "text": [
      "odometer_value\n",
      "year_produced\n",
      "engine_capacity\n",
      "price_usd\n"
     ]
    }
   ],
   "source": [
    "df_1 = df_org.copy()\n",
    "for x in df_1.columns:\n",
    "    if(df_1[x].dtypes!=object and df_1[x].dtypes!=bool):\n",
    "          print(x)"
   ]
  },
  {
   "cell_type": "code",
   "execution_count": 18,
   "id": "3b19d525",
   "metadata": {},
   "outputs": [
    {
     "data": {
      "text/plain": [
       "<AxesSubplot:xlabel='odometer_value', ylabel='price_usd'>"
      ]
     },
     "execution_count": 18,
     "metadata": {},
     "output_type": "execute_result"
    },
    {
     "data": {
      "image/png": "[encoded data removed]",
      "text/plain": [
       "<Figure size 1080x360 with 1 Axes>"
      ]
     },
     "metadata": {
      "needs_background": "light"
     },
     "output_type": "display_data"
    }
   ],
   "source": [
    "plt.figure(figsize=(15,5))\n",
    "sns.scatterplot(x=df['odometer_value'],y=df['price_usd'],color=\"grey\")"
   ]
  },
  {
   "cell_type": "code",
   "execution_count": 19,
   "id": "c0a7104f",
   "metadata": {},
   "outputs": [
    {
     "data": {
      "text/plain": [
       "<AxesSubplot:xlabel='year_produced', ylabel='price_usd'>"
      ]
     },
     "execution_count": 19,
     "metadata": {},
     "output_type": "execute_result"
    },
    {
     "data": {
      "image/png": "[encoded data removed]",
      "text/plain": [
       "<Figure size 1080x360 with 1 Axes>"
      ]
     },
     "metadata": {
      "needs_background": "light"
     },
     "output_type": "display_data"
    }
   ],
   "source": [
    "plt.figure(figsize=(15,5))\n",
    "sns.scatterplot(x=df['year_produced'],y=df['price_usd'],color=\"blue\")\n"
   ]
  },
  {
   "cell_type": "code",
   "execution_count": 20,
   "id": "b3b63008",
   "metadata": {},
   "outputs": [
    {
     "data": {
      "text/plain": [
       "<AxesSubplot:xlabel='engine_capacity', ylabel='price_usd'>"
      ]
     },
     "execution_count": 20,
     "metadata": {},
     "output_type": "execute_result"
    },
    {
     "data": {
      "image/png": "[encoded data removed]",
      "text/plain": [
       "<Figure size 1080x360 with 1 Axes>"
      ]
     },
     "metadata": {
      "needs_background": "light"
     },
     "output_type": "display_data"
    }
   ],
   "source": [
    "plt.figure(figsize=(15,5))\n",
    "sns.scatterplot(x=df['engine_capacity'],y=df['price_usd'],color=\"blue\")"
   ]
  },
  {
   "cell_type": "code",
   "execution_count": 21,
   "id": "ecc386c8",
   "metadata": {},
   "outputs": [],
   "source": [
    "# using pearson for linear relationship and kendall for non-linear correlation"
   ]
  },
  {
   "cell_type": "code",
   "execution_count": 22,
   "id": "9d0d5e0d",
   "metadata": {},
   "outputs": [
    {
     "data": {
      "text/plain": [
       "(-0.42096537932176603, 0.0)"
      ]
     },
     "execution_count": 22,
     "metadata": {},
     "output_type": "execute_result"
    }
   ],
   "source": [
    "stats.pearsonr(df['odometer_value'],df['price_usd'])"
   ]
  },
  {
   "cell_type": "code",
   "execution_count": 23,
   "id": "4d4ac2c0",
   "metadata": {},
   "outputs": [
    {
     "data": {
      "text/plain": [
       "(0.7054393045004084, 0.0)"
      ]
     },
     "execution_count": 23,
     "metadata": {},
     "output_type": "execute_result"
    }
   ],
   "source": [
    "stats.pearsonr(df['year_produced'],df['price_usd'])"
   ]
  },
  {
   "cell_type": "code",
   "execution_count": 24,
   "id": "cc4a8ae0",
   "metadata": {},
   "outputs": [
    {
     "data": {
      "text/plain": [
       "KendalltauResult(correlation=0.17418760860741284, pvalue=0.0)"
      ]
     },
     "execution_count": 24,
     "metadata": {},
     "output_type": "execute_result"
    }
   ],
   "source": [
    "stats.kendalltau(df['engine_capacity'],df['price_usd'])"
   ]
  },
  {
   "cell_type": "code",
   "execution_count": 25,
   "id": "37b9540a",
   "metadata": {},
   "outputs": [],
   "source": [
    "# We will select odometer & year."
   ]
  },
  {
   "cell_type": "markdown",
   "id": "01eeee70",
   "metadata": {},
   "source": [
    "#### Checking  all categorical features for target class (price_usd)"
   ]
  },
  {
   "cell_type": "code",
   "execution_count": 26,
   "id": "cc19a3ad",
   "metadata": {},
   "outputs": [
    {
     "name": "stdout",
     "output_type": "stream",
     "text": [
      "engine_fuel\n",
      "body_type\n",
      "state\n",
      "drivetrain\n"
     ]
    }
   ],
   "source": [
    "df_2 = df_org.copy()\n",
    "for x in df_2.columns:\n",
    "    if(df[x].dtypes==object):\n",
    "        print(x)"
   ]
  },
  {
   "cell_type": "code",
   "execution_count": 27,
   "id": "381d48e6",
   "metadata": {},
   "outputs": [],
   "source": [
    "# plt.figure(figsize=(40,5))\n",
    "# series_1 = df_2['manufacturer_name'].value_counts()\n",
    "# res = sns.barplot(x=series_1.index,y=series_1.values)\n",
    "# res.set_xticklabels(labels=list(series_1.index), fontsize = 8)\n",
    "# \"\""
   ]
  },
  {
   "cell_type": "code",
   "execution_count": 28,
   "id": "d40085ec",
   "metadata": {},
   "outputs": [],
   "source": [
    "# series_2 = df_2['model_name'].value_counts()\n",
    "# res = sns.barplot(x=series_2.index,y=series_2.values)\n",
    "# res.set_xticklabels(labels=list(series_2.index), fontsize = 8)\n",
    "# \"\""
   ]
  },
  {
   "cell_type": "code",
   "execution_count": 29,
   "id": "37a71c1a",
   "metadata": {},
   "outputs": [],
   "source": [
    "# first_group = series_2[series_2 < 500]\n",
    "# first_group"
   ]
  },
  {
   "cell_type": "code",
   "execution_count": 30,
   "id": "36048a7e",
   "metadata": {},
   "outputs": [],
   "source": [
    "# second_group = series_2[series_2 > 500]\n",
    "# second_group"
   ]
  },
  {
   "cell_type": "code",
   "execution_count": 31,
   "id": "3946d976",
   "metadata": {},
   "outputs": [],
   "source": [
    "# df[df['Your_Column'].isin([3, 6])]"
   ]
  },
  {
   "cell_type": "code",
   "execution_count": 32,
   "id": "a5e3e0d5",
   "metadata": {},
   "outputs": [],
   "source": [
    "# series_3 = df_2['color'].value_counts()\n",
    "# res = sns.barplot(x=series_3.index,y=series_3.values)\n",
    "# res.set_xticklabels(labels=list(series_3.index), fontsize = 8)\n",
    "# \"\""
   ]
  },
  {
   "cell_type": "code",
   "execution_count": 33,
   "id": "e8deaf97",
   "metadata": {},
   "outputs": [
    {
     "data": {
      "text/plain": [
       "''"
      ]
     },
     "execution_count": 33,
     "metadata": {},
     "output_type": "execute_result"
    },
    {
     "data": {
      "image/png": "[encoded data removed]",
      "text/plain": [
       "<Figure size 432x288 with 1 Axes>"
      ]
     },
     "metadata": {
      "needs_background": "light"
     },
     "output_type": "display_data"
    }
   ],
   "source": [
    "series_4 = df_2['engine_fuel'].value_counts()\n",
    "res = sns.barplot(x=series_4.index,y=series_4.values)\n",
    "res.set_xticklabels(labels=list(series_4.index), fontsize = 8)\n",
    "\"\""
   ]
  },
  {
   "cell_type": "code",
   "execution_count": 34,
   "id": "f0c7c00b",
   "metadata": {},
   "outputs": [
    {
     "data": {
      "text/plain": [
       "''"
      ]
     },
     "execution_count": 34,
     "metadata": {},
     "output_type": "execute_result"
    },
    {
     "data": {
      "image/png": "[encoded data removed]",
      "text/plain": [
       "<Figure size 1440x360 with 1 Axes>"
      ]
     },
     "metadata": {
      "needs_background": "light"
     },
     "output_type": "display_data"
    }
   ],
   "source": [
    "plt.figure(figsize=(20,5))\n",
    "series_5 = df_2['body_type'].value_counts()\n",
    "res = sns.barplot(x=series_5.index,y=series_5.values)\n",
    "res.set_xticklabels(labels=list(series_5.index), fontsize = 8)\n",
    "\"\""
   ]
  },
  {
   "cell_type": "code",
   "execution_count": 35,
   "id": "e9e0c9c4",
   "metadata": {},
   "outputs": [
    {
     "data": {
      "text/plain": [
       "''"
      ]
     },
     "execution_count": 35,
     "metadata": {},
     "output_type": "execute_result"
    },
    {
     "data": {
      "image/png": "[encoded data removed]",
      "text/plain": [
       "<Figure size 1440x360 with 1 Axes>"
      ]
     },
     "metadata": {
      "needs_background": "light"
     },
     "output_type": "display_data"
    }
   ],
   "source": [
    "plt.figure(figsize=(20,5))\n",
    "series_6 = df_2['state'].value_counts()\n",
    "res = sns.barplot(x=series_6.index,y=series_6.values)\n",
    "res.set_xticklabels(labels=list(series_6.index), fontsize = 8)\n",
    "\"\""
   ]
  },
  {
   "cell_type": "code",
   "execution_count": 36,
   "id": "2182d70f",
   "metadata": {},
   "outputs": [
    {
     "data": {
      "text/plain": [
       "''"
      ]
     },
     "execution_count": 36,
     "metadata": {},
     "output_type": "execute_result"
    },
    {
     "data": {
      "image/png": "[encoded data removed]",
      "text/plain": [
       "<Figure size 1440x360 with 1 Axes>"
      ]
     },
     "metadata": {
      "needs_background": "light"
     },
     "output_type": "display_data"
    }
   ],
   "source": [
    "plt.figure(figsize=(20,5))\n",
    "series_7 = df_2['drivetrain'].value_counts()\n",
    "res = sns.barplot(x=series_7.index,y=series_7.values)\n",
    "res.set_xticklabels(labels=list(series_7.index), fontsize = 8)\n",
    "\"\""
   ]
  },
  {
   "cell_type": "code",
   "execution_count": 37,
   "id": "f7efd08b",
   "metadata": {},
   "outputs": [
    {
     "data": {
      "text/html": [
       "<div>\n",
       "<style scoped>\n",
       "    .dataframe tbody tr th:only-of-type {\n",
       "        vertical-align: middle;\n",
       "    }\n",
       "\n",
       "    .dataframe tbody tr th {\n",
       "        vertical-align: top;\n",
       "    }\n",
       "\n",
       "    .dataframe thead th {\n",
       "        text-align: right;\n",
       "    }\n",
       "</style>\n",
       "<table border=\"1\" class=\"dataframe\">\n",
       "  <thead>\n",
       "    <tr style=\"text-align: right;\">\n",
       "      <th></th>\n",
       "      <th>engine_fuel</th>\n",
       "      <th>body_type</th>\n",
       "      <th>state</th>\n",
       "      <th>drivetrain</th>\n",
       "      <th>price_usd</th>\n",
       "    </tr>\n",
       "  </thead>\n",
       "  <tbody>\n",
       "    <tr>\n",
       "      <th>0</th>\n",
       "      <td>gasoline</td>\n",
       "      <td>universal</td>\n",
       "      <td>owned</td>\n",
       "      <td>all</td>\n",
       "      <td>10900.00</td>\n",
       "    </tr>\n",
       "    <tr>\n",
       "      <th>1</th>\n",
       "      <td>gasoline</td>\n",
       "      <td>universal</td>\n",
       "      <td>owned</td>\n",
       "      <td>all</td>\n",
       "      <td>5000.00</td>\n",
       "    </tr>\n",
       "    <tr>\n",
       "      <th>2</th>\n",
       "      <td>gasoline</td>\n",
       "      <td>suv</td>\n",
       "      <td>owned</td>\n",
       "      <td>all</td>\n",
       "      <td>2800.00</td>\n",
       "    </tr>\n",
       "    <tr>\n",
       "      <th>3</th>\n",
       "      <td>gasoline</td>\n",
       "      <td>sedan</td>\n",
       "      <td>owned</td>\n",
       "      <td>all</td>\n",
       "      <td>9999.00</td>\n",
       "    </tr>\n",
       "    <tr>\n",
       "      <th>4</th>\n",
       "      <td>gasoline</td>\n",
       "      <td>universal</td>\n",
       "      <td>owned</td>\n",
       "      <td>all</td>\n",
       "      <td>2134.11</td>\n",
       "    </tr>\n",
       "    <tr>\n",
       "      <th>...</th>\n",
       "      <td>...</td>\n",
       "      <td>...</td>\n",
       "      <td>...</td>\n",
       "      <td>...</td>\n",
       "      <td>...</td>\n",
       "    </tr>\n",
       "    <tr>\n",
       "      <th>38526</th>\n",
       "      <td>gasoline</td>\n",
       "      <td>sedan</td>\n",
       "      <td>owned</td>\n",
       "      <td>front</td>\n",
       "      <td>2750.00</td>\n",
       "    </tr>\n",
       "    <tr>\n",
       "      <th>38527</th>\n",
       "      <td>diesel</td>\n",
       "      <td>hatchback</td>\n",
       "      <td>owned</td>\n",
       "      <td>front</td>\n",
       "      <td>4800.00</td>\n",
       "    </tr>\n",
       "    <tr>\n",
       "      <th>38528</th>\n",
       "      <td>gasoline</td>\n",
       "      <td>sedan</td>\n",
       "      <td>owned</td>\n",
       "      <td>front</td>\n",
       "      <td>4300.00</td>\n",
       "    </tr>\n",
       "    <tr>\n",
       "      <th>38529</th>\n",
       "      <td>gasoline</td>\n",
       "      <td>minivan</td>\n",
       "      <td>owned</td>\n",
       "      <td>front</td>\n",
       "      <td>4000.00</td>\n",
       "    </tr>\n",
       "    <tr>\n",
       "      <th>38530</th>\n",
       "      <td>gasoline</td>\n",
       "      <td>minivan</td>\n",
       "      <td>owned</td>\n",
       "      <td>front</td>\n",
       "      <td>3200.00</td>\n",
       "    </tr>\n",
       "  </tbody>\n",
       "</table>\n",
       "<p>38521 rows × 5 columns</p>\n",
       "</div>"
      ],
      "text/plain": [
       "      engine_fuel  body_type  state drivetrain  price_usd\n",
       "0        gasoline  universal  owned        all   10900.00\n",
       "1        gasoline  universal  owned        all    5000.00\n",
       "2        gasoline        suv  owned        all    2800.00\n",
       "3        gasoline      sedan  owned        all    9999.00\n",
       "4        gasoline  universal  owned        all    2134.11\n",
       "...           ...        ...    ...        ...        ...\n",
       "38526    gasoline      sedan  owned      front    2750.00\n",
       "38527      diesel  hatchback  owned      front    4800.00\n",
       "38528    gasoline      sedan  owned      front    4300.00\n",
       "38529    gasoline    minivan  owned      front    4000.00\n",
       "38530    gasoline    minivan  owned      front    3200.00\n",
       "\n",
       "[38521 rows x 5 columns]"
      ]
     },
     "execution_count": 37,
     "metadata": {},
     "output_type": "execute_result"
    }
   ],
   "source": [
    "df_2 = df_2[['engine_fuel','body_type','state','drivetrain']]\n",
    "df_2['price_usd'] = df_org['price_usd']\n",
    "df_2"
   ]
  },
  {
   "cell_type": "code",
   "execution_count": 38,
   "id": "18b9ceaa",
   "metadata": {},
   "outputs": [
    {
     "data": {
      "text/plain": [
       "array(['gasoline', 'gas', 'diesel', 'hybrid-petrol', 'hybrid-diesel'],\n",
       "      dtype=object)"
      ]
     },
     "execution_count": 38,
     "metadata": {},
     "output_type": "execute_result"
    }
   ],
   "source": [
    "df_2['engine_fuel'].unique()"
   ]
  },
  {
   "cell_type": "code",
   "execution_count": 39,
   "id": "2d83ba73",
   "metadata": {},
   "outputs": [
    {
     "data": {
      "text/plain": [
       "F_onewayResult(statistic=132.11765962349222, pvalue=2.7665496116044154e-112)"
      ]
     },
     "execution_count": 39,
     "metadata": {},
     "output_type": "execute_result"
    }
   ],
   "source": [
    "import scipy.stats as stats\n",
    "\n",
    "stats.f_oneway(df_2['price_usd'][df_2['engine_fuel'] == 'gasoline'],\n",
    "               df_2['price_usd'][df_2['engine_fuel'] == 'gas'],\n",
    "               df_2['price_usd'][df_2['engine_fuel'] == 'diesel'],\n",
    "               df_2['price_usd'][df_2['engine_fuel'] == 'hybrid-petrol'],\n",
    "               df_2['price_usd'][df_2['engine_fuel'] == 'hybrid-diesel'])"
   ]
  },
  {
   "cell_type": "code",
   "execution_count": 40,
   "id": "3bfaf1a9",
   "metadata": {},
   "outputs": [],
   "source": [
    "tukey = pairwise_tukeyhsd(endog=df['price_usd'],groups=df['engine_fuel'],alpha=0.05)\n"
   ]
  },
  {
   "cell_type": "code",
   "execution_count": 41,
   "id": "fca31511",
   "metadata": {},
   "outputs": [
    {
     "name": "stdout",
     "output_type": "stream",
     "text": [
      "            Multiple Comparison of Means - Tukey HSD, FWER=0.05            \n",
      "===========================================================================\n",
      "    group1        group2     meandiff  p-adj     lower      upper    reject\n",
      "---------------------------------------------------------------------------\n",
      "       diesel           gas -2883.5317   -0.0  -3382.0793  -2384.984   True\n",
      "       diesel      gasoline -1115.4296   -0.0  -1305.5348  -925.3245   True\n",
      "       diesel hybrid-diesel -4761.7103 0.8294 -17072.8348  7549.4141  False\n",
      "       diesel hybrid-petrol  3829.9378   -0.0   2683.9666   4975.909   True\n",
      "          gas      gasoline   1768.102   -0.0   1280.6615  2255.5426   True\n",
      "          gas hybrid-diesel -1878.1787 0.9937 -14197.4824 10441.1251  False\n",
      "          gas hybrid-petrol  6713.4695   -0.0   5482.7346  7944.2043   True\n",
      "     gasoline hybrid-diesel -3646.2807 0.9283 -15956.9604   8664.399  False\n",
      "     gasoline hybrid-petrol  4945.3674   -0.0   3804.1845  6086.5503   True\n",
      "hybrid-diesel hybrid-petrol  8591.6481 0.3195  -3770.7927  20954.089  False\n",
      "---------------------------------------------------------------------------\n"
     ]
    }
   ],
   "source": [
    "print(tukey)"
   ]
  },
  {
   "cell_type": "code",
   "execution_count": 42,
   "id": "5a401b0a",
   "metadata": {},
   "outputs": [],
   "source": [
    "# We select diesel , gas , gasoline , hybrid petrol"
   ]
  },
  {
   "cell_type": "code",
   "execution_count": 43,
   "id": "9ff4410c",
   "metadata": {},
   "outputs": [
    {
     "data": {
      "text/plain": [
       "array(['universal', 'suv', 'sedan', 'hatchback', 'liftback', 'minivan',\n",
       "       'minibus', 'van', 'pickup', 'coupe', 'cabriolet', 'limousine'],\n",
       "      dtype=object)"
      ]
     },
     "execution_count": 43,
     "metadata": {},
     "output_type": "execute_result"
    }
   ],
   "source": [
    "df_2['body_type'].unique()"
   ]
  },
  {
   "cell_type": "code",
   "execution_count": 44,
   "id": "c09e9911",
   "metadata": {},
   "outputs": [
    {
     "data": {
      "text/plain": [
       "F_onewayResult(statistic=905.1105559585625, pvalue=0.0)"
      ]
     },
     "execution_count": 44,
     "metadata": {},
     "output_type": "execute_result"
    }
   ],
   "source": [
    "stats.f_oneway(df_2['price_usd'][df_2['body_type'] == 'universal'],\n",
    "               df_2['price_usd'][df_2['body_type'] == 'suv'],\n",
    "               df_2['price_usd'][df_2['body_type'] == 'sedan'],\n",
    "               df_2['price_usd'][df_2['body_type'] == 'hatchback'],\n",
    "               df_2['price_usd'][df_2['body_type'] == 'liftback'],\n",
    "              df_2['price_usd'][df_2['body_type'] == 'liftback'],\n",
    "              df_2['price_usd'][df_2['body_type'] == 'minivan'],\n",
    "              df_2['price_usd'][df_2['body_type'] == 'minibus'],\n",
    "              df_2['price_usd'][df_2['body_type'] == 'van'],\n",
    "               df_2['price_usd'][df_2['body_type'] == 'pickup'],\n",
    "              df_2['price_usd'][df_2['body_type'] == 'coupe'],\n",
    "              df_2['price_usd'][df_2['body_type'] == 'cabriolet'],\n",
    "              df_2['price_usd'][df_2['body_type'] == 'limousine'])"
   ]
  },
  {
   "cell_type": "code",
   "execution_count": 45,
   "id": "2e69b92a",
   "metadata": {},
   "outputs": [],
   "source": [
    "tukey = pairwise_tukeyhsd(endog=df['price_usd'],groups=df['body_type'],alpha=0.05)"
   ]
  },
  {
   "cell_type": "code",
   "execution_count": 46,
   "id": "b8c876a6",
   "metadata": {},
   "outputs": [
    {
     "name": "stdout",
     "output_type": "stream",
     "text": [
      "       Multiple Comparison of Means - Tukey HSD, FWER=0.05        \n",
      "==================================================================\n",
      "  group1    group2   meandiff  p-adj    lower      upper    reject\n",
      "------------------------------------------------------------------\n",
      "cabriolet     coupe -3517.7411    0.0  -5779.214 -1256.2681   True\n",
      "cabriolet hatchback -6950.9057   -0.0  -9103.045 -4798.7664   True\n",
      "cabriolet  liftback -3183.6715 0.0003 -5466.6754  -900.6677   True\n",
      "cabriolet limousine -2821.4473 0.9099 -8588.0097   2945.115  False\n",
      "cabriolet   minibus -2513.0469 0.0103 -4712.5767   -313.517   True\n",
      "cabriolet   minivan -4844.7319   -0.0 -7008.5242 -2680.9395   True\n",
      "cabriolet    pickup   772.6772 0.9987 -1920.5204  3465.8747  False\n",
      "cabriolet     sedan -5171.3645   -0.0 -7319.1757 -3023.5532   True\n",
      "cabriolet       suv  2796.7182 0.0014   639.5746  4953.8619   True\n",
      "cabriolet universal -5960.5481   -0.0 -8116.7299 -3804.3664   True\n",
      "cabriolet       van -4300.9847    0.0 -6539.8227 -2062.1468   True\n",
      "    coupe hatchback -3433.1646   -0.0 -4189.9047 -2676.4245   True\n",
      "    coupe  liftback   334.0695 0.9974  -739.7362  1407.8753  False\n",
      "    coupe limousine   696.2937    1.0 -4706.8713  6099.4588  False\n",
      "    coupe   minibus  1004.6942 0.0108   122.1504   1887.238   True\n",
      "    coupe   minivan -1326.9908    0.0 -2116.2622  -537.7194   True\n",
      "    coupe    pickup  4290.4182   -0.0  2503.1675   6077.669   True\n",
      "    coupe     sedan -1653.6234   -0.0 -2397.9654  -909.2814   True\n",
      "    coupe       suv  6314.4593   -0.0  5543.6022  7085.3165   True\n",
      "    coupe universal  -2442.807   -0.0 -3210.9683 -1674.6458   True\n",
      "    coupe       van  -783.2436 0.2673 -1759.6387   193.1514  False\n",
      "hatchback  liftback  3767.2341   -0.0   2948.392  4586.0763   True\n",
      "hatchback limousine  4129.4584  0.328 -1228.8657  9487.7824  False\n",
      "hatchback   minibus  4437.8588   -0.0  3893.4993  4982.2183   True\n",
      "hatchback   minivan  2106.1738   -0.0  1731.4832  2480.8644   True\n",
      "hatchback    pickup  7723.5829   -0.0  6076.8561  9370.3096   True\n",
      "hatchback     sedan  1779.5412   -0.0  1512.1674   2046.915   True\n",
      "hatchback       suv  9747.6239   -0.0  9413.4616 10081.7863   True\n",
      "hatchback universal   990.3576   -0.0   662.4621   1318.253   True\n",
      "hatchback       van   2649.921   -0.0  1963.7788  3336.0631   True\n",
      " liftback limousine   362.2242    1.0 -5049.9879  5774.4363  False\n",
      " liftback   minibus   670.6246 0.4473  -265.7142  1606.9635  False\n",
      " liftback   minivan -1661.0603    0.0 -2510.0575  -812.0631   True\n",
      " liftback    pickup  3956.3487    0.0  2141.9309  5770.7665   True\n",
      " liftback     sedan -1987.6929   -0.0 -2795.0912 -1180.2947   True\n",
      " liftback       suv  5980.3898   -0.0  5148.4837  6812.2958   True\n",
      " liftback universal -2776.8766   -0.0 -3606.2852  -1947.468   True\n",
      " liftback       van -1117.3132 0.0191 -2142.5908   -92.0356   True\n",
      "limousine   minibus   308.4004    1.0 -5069.1329  5685.9338  False\n",
      "limousine   minivan -2023.2845 0.9864 -7386.2996  3339.7305  False\n",
      "limousine    pickup  3594.1245 0.6239 -2003.4863  9191.7353  False\n",
      "limousine     sedan -2349.9171  0.957 -7706.5043    3006.67  False\n",
      "limousine       suv  5618.1656 0.0303   257.8296 10978.5016   True\n",
      "limousine universal -3139.1008 0.7507 -8499.0497  2220.8482  False\n",
      "limousine       van -1479.5374 0.9992 -6873.2679  3914.1931  False\n",
      "  minibus   minivan  -2331.685   -0.0 -2920.4303 -1742.9397   True\n",
      "  minibus    pickup  3285.7241    0.0  1577.5271   4993.921   True\n",
      "  minibus     sedan -2658.3176   -0.0 -3185.3059 -2131.3292   True\n",
      "  minibus       suv  5309.7651   -0.0  4745.9456  5873.5847   True\n",
      "  minibus universal -3447.5012   -0.0 -4007.6292 -2887.3732   True\n",
      "  minibus       van -1787.9378    0.0 -2610.7495  -965.1262   True\n",
      "  minivan    pickup   5617.409   -0.0  3955.4816  7279.3364   True\n",
      "  minivan     sedan  -326.6326 0.0923  -675.6061    22.3409  False\n",
      "  minivan       suv  7641.4501   -0.0  7239.0097  8043.8905   True\n",
      "  minivan universal -1115.8162   -0.0 -1513.0683  -718.5642   True\n",
      "  minivan       van   543.7472 0.3644  -178.1149  1265.6092  False\n",
      "   pickup     sedan -5944.0416   -0.0 -7585.1079 -4302.9754   True\n",
      "   pickup       suv  2024.0411 0.0037   370.7794  3677.3027   True\n",
      "   pickup universal -6733.2253   -0.0 -8385.2316 -5081.2189   True\n",
      "   pickup       van -5073.6619   -0.0 -6832.1842 -3315.1396   True\n",
      "    sedan       suv  7968.0827   -0.0  7663.0353  8273.1301   True\n",
      "    sedan universal  -789.1836   -0.0 -1087.3528  -491.0144   True\n",
      "    sedan       van   870.3797 0.0014   197.9361  1542.8234   True\n",
      "      suv universal -8757.2664   -0.0 -9116.5443 -8397.9884   True\n",
      "      suv       van  -7097.703   -0.0  -7799.384  -6396.022   True\n",
      "universal       van  1659.5634   -0.0   960.8452  2358.2816   True\n",
      "------------------------------------------------------------------\n"
     ]
    }
   ],
   "source": [
    "print(tukey)"
   ]
  },
  {
   "cell_type": "code",
   "execution_count": 47,
   "id": "de8b1b91",
   "metadata": {},
   "outputs": [],
   "source": [
    "# We will select cabriolet , hatchback, minibus, sedan suv , universal"
   ]
  },
  {
   "cell_type": "code",
   "execution_count": 48,
   "id": "0fbad01f",
   "metadata": {},
   "outputs": [
    {
     "data": {
      "text/plain": [
       "array(['owned', 'emergency', 'new'], dtype=object)"
      ]
     },
     "execution_count": 48,
     "metadata": {},
     "output_type": "execute_result"
    }
   ],
   "source": [
    "df_2['state'].unique()"
   ]
  },
  {
   "cell_type": "code",
   "execution_count": 49,
   "id": "13581012",
   "metadata": {},
   "outputs": [
    {
     "data": {
      "text/plain": [
       "F_onewayResult(statistic=2143.1552590033693, pvalue=0.0)"
      ]
     },
     "execution_count": 49,
     "metadata": {},
     "output_type": "execute_result"
    }
   ],
   "source": [
    "\n",
    "\n",
    "stats.f_oneway(df_2['price_usd'][df_2['state'] == 'owned'],\n",
    "               df_2['price_usd'][df_2['state'] == 'emergency'],\n",
    "               df_2['price_usd'][df_2['state'] == 'new'])"
   ]
  },
  {
   "cell_type": "code",
   "execution_count": 50,
   "id": "221e19ef",
   "metadata": {},
   "outputs": [
    {
     "name": "stdout",
     "output_type": "stream",
     "text": [
      "       Multiple Comparison of Means - Tukey HSD, FWER=0.05       \n",
      "=================================================================\n",
      "  group1  group2   meandiff  p-adj    lower       upper    reject\n",
      "-----------------------------------------------------------------\n",
      "emergency    new  23379.4665  -0.0  22370.7417  24388.1913   True\n",
      "emergency  owned   4754.2932  -0.0   4007.9749   5500.6116   True\n",
      "      new  owned -18625.1732  -0.0 -19311.7282 -17938.6183   True\n",
      "-----------------------------------------------------------------\n"
     ]
    }
   ],
   "source": [
    "tukey = pairwise_tukeyhsd(endog=df['price_usd'],groups=df['state'],alpha=0.05)\n",
    "print(tukey)"
   ]
  },
  {
   "cell_type": "code",
   "execution_count": 51,
   "id": "9170a7c4",
   "metadata": {},
   "outputs": [],
   "source": [
    "# We select all new , emeregency , owned"
   ]
  },
  {
   "cell_type": "code",
   "execution_count": 52,
   "id": "9d5f317d",
   "metadata": {},
   "outputs": [
    {
     "data": {
      "text/plain": [
       "array(['all', 'front', 'rear'], dtype=object)"
      ]
     },
     "execution_count": 52,
     "metadata": {},
     "output_type": "execute_result"
    }
   ],
   "source": [
    "df_2['drivetrain'].unique()"
   ]
  },
  {
   "cell_type": "code",
   "execution_count": 53,
   "id": "781a6f87",
   "metadata": {},
   "outputs": [
    {
     "data": {
      "text/plain": [
       "F_onewayResult(statistic=4667.024543510438, pvalue=0.0)"
      ]
     },
     "execution_count": 53,
     "metadata": {},
     "output_type": "execute_result"
    }
   ],
   "source": [
    "stats.f_oneway(df_2['price_usd'][df_2['drivetrain'] == 'all'],\n",
    "               df_2['price_usd'][df_2['drivetrain'] == 'front'],\n",
    "               df_2['price_usd'][df_2['drivetrain'] == 'rear'])"
   ]
  },
  {
   "cell_type": "code",
   "execution_count": 54,
   "id": "58592d7c",
   "metadata": {},
   "outputs": [
    {
     "name": "stdout",
     "output_type": "stream",
     "text": [
      "    Multiple Comparison of Means - Tukey HSD, FWER=0.05    \n",
      "===========================================================\n",
      "group1 group2  meandiff  p-adj   lower      upper    reject\n",
      "-----------------------------------------------------------\n",
      "   all  front -8271.8727  -0.0 -8473.0437 -8070.7017   True\n",
      "   all   rear -7501.8878  -0.0 -7762.1186 -7241.6569   True\n",
      " front   rear   769.9849  -0.0   568.9545   971.0154   True\n",
      "-----------------------------------------------------------\n"
     ]
    }
   ],
   "source": [
    "tukey = pairwise_tukeyhsd(endog=df['price_usd'],groups=df['drivetrain'],alpha=0.05)\n",
    "print(tukey)"
   ]
  },
  {
   "cell_type": "code",
   "execution_count": 55,
   "id": "d8fe3ccc",
   "metadata": {},
   "outputs": [],
   "source": [
    "# We will choose all,front,rear"
   ]
  },
  {
   "cell_type": "markdown",
   "id": "7dcdbda7",
   "metadata": {},
   "source": [
    "#### Final Features selected from all types (categorical , numerical , binary) features"
   ]
  },
  {
   "cell_type": "code",
   "execution_count": 56,
   "id": "441e8b2d",
   "metadata": {},
   "outputs": [],
   "source": [
    "# 'transmission', 'feature_3', 'feature_6', 'feature_7','year_produced','odometer_value','drive_train','state'\n",
    "# cabriolet , hatchback, minibus, sedan suv , universal\n",
    "# diesel , gas , gasoline , hybrid petrol"
   ]
  },
  {
   "cell_type": "code",
   "execution_count": 57,
   "id": "2bbb5bd6",
   "metadata": {},
   "outputs": [
    {
     "data": {
      "text/html": [
       "<div>\n",
       "<style scoped>\n",
       "    .dataframe tbody tr th:only-of-type {\n",
       "        vertical-align: middle;\n",
       "    }\n",
       "\n",
       "    .dataframe tbody tr th {\n",
       "        vertical-align: top;\n",
       "    }\n",
       "\n",
       "    .dataframe thead th {\n",
       "        text-align: right;\n",
       "    }\n",
       "</style>\n",
       "<table border=\"1\" class=\"dataframe\">\n",
       "  <thead>\n",
       "    <tr style=\"text-align: right;\">\n",
       "      <th></th>\n",
       "      <th>transmission</th>\n",
       "      <th>odometer_value</th>\n",
       "      <th>year_produced</th>\n",
       "      <th>engine_fuel</th>\n",
       "      <th>body_type</th>\n",
       "      <th>state</th>\n",
       "      <th>drivetrain</th>\n",
       "      <th>price_usd</th>\n",
       "      <th>feature_3</th>\n",
       "      <th>feature_6</th>\n",
       "      <th>feature_7</th>\n",
       "    </tr>\n",
       "  </thead>\n",
       "  <tbody>\n",
       "    <tr>\n",
       "      <th>0</th>\n",
       "      <td>1</td>\n",
       "      <td>190000</td>\n",
       "      <td>2010</td>\n",
       "      <td>gasoline</td>\n",
       "      <td>universal</td>\n",
       "      <td>owned</td>\n",
       "      <td>all</td>\n",
       "      <td>10900.00</td>\n",
       "      <td>True</td>\n",
       "      <td>False</td>\n",
       "      <td>True</td>\n",
       "    </tr>\n",
       "    <tr>\n",
       "      <th>1</th>\n",
       "      <td>1</td>\n",
       "      <td>290000</td>\n",
       "      <td>2002</td>\n",
       "      <td>gasoline</td>\n",
       "      <td>universal</td>\n",
       "      <td>owned</td>\n",
       "      <td>all</td>\n",
       "      <td>5000.00</td>\n",
       "      <td>False</td>\n",
       "      <td>False</td>\n",
       "      <td>False</td>\n",
       "    </tr>\n",
       "    <tr>\n",
       "      <th>2</th>\n",
       "      <td>1</td>\n",
       "      <td>402000</td>\n",
       "      <td>2001</td>\n",
       "      <td>gasoline</td>\n",
       "      <td>suv</td>\n",
       "      <td>owned</td>\n",
       "      <td>all</td>\n",
       "      <td>2800.00</td>\n",
       "      <td>False</td>\n",
       "      <td>False</td>\n",
       "      <td>False</td>\n",
       "    </tr>\n",
       "    <tr>\n",
       "      <th>3</th>\n",
       "      <td>0</td>\n",
       "      <td>10000</td>\n",
       "      <td>1999</td>\n",
       "      <td>gasoline</td>\n",
       "      <td>sedan</td>\n",
       "      <td>owned</td>\n",
       "      <td>all</td>\n",
       "      <td>9999.00</td>\n",
       "      <td>False</td>\n",
       "      <td>False</td>\n",
       "      <td>False</td>\n",
       "    </tr>\n",
       "    <tr>\n",
       "      <th>4</th>\n",
       "      <td>1</td>\n",
       "      <td>280000</td>\n",
       "      <td>2001</td>\n",
       "      <td>gasoline</td>\n",
       "      <td>universal</td>\n",
       "      <td>owned</td>\n",
       "      <td>all</td>\n",
       "      <td>2134.11</td>\n",
       "      <td>True</td>\n",
       "      <td>False</td>\n",
       "      <td>False</td>\n",
       "    </tr>\n",
       "    <tr>\n",
       "      <th>...</th>\n",
       "      <td>...</td>\n",
       "      <td>...</td>\n",
       "      <td>...</td>\n",
       "      <td>...</td>\n",
       "      <td>...</td>\n",
       "      <td>...</td>\n",
       "      <td>...</td>\n",
       "      <td>...</td>\n",
       "      <td>...</td>\n",
       "      <td>...</td>\n",
       "      <td>...</td>\n",
       "    </tr>\n",
       "    <tr>\n",
       "      <th>38526</th>\n",
       "      <td>1</td>\n",
       "      <td>290000</td>\n",
       "      <td>2000</td>\n",
       "      <td>gasoline</td>\n",
       "      <td>sedan</td>\n",
       "      <td>owned</td>\n",
       "      <td>front</td>\n",
       "      <td>2750.00</td>\n",
       "      <td>False</td>\n",
       "      <td>False</td>\n",
       "      <td>False</td>\n",
       "    </tr>\n",
       "    <tr>\n",
       "      <th>38527</th>\n",
       "      <td>0</td>\n",
       "      <td>321000</td>\n",
       "      <td>2004</td>\n",
       "      <td>diesel</td>\n",
       "      <td>hatchback</td>\n",
       "      <td>owned</td>\n",
       "      <td>front</td>\n",
       "      <td>4800.00</td>\n",
       "      <td>False</td>\n",
       "      <td>False</td>\n",
       "      <td>False</td>\n",
       "    </tr>\n",
       "    <tr>\n",
       "      <th>38528</th>\n",
       "      <td>1</td>\n",
       "      <td>777957</td>\n",
       "      <td>2000</td>\n",
       "      <td>gasoline</td>\n",
       "      <td>sedan</td>\n",
       "      <td>owned</td>\n",
       "      <td>front</td>\n",
       "      <td>4300.00</td>\n",
       "      <td>False</td>\n",
       "      <td>False</td>\n",
       "      <td>False</td>\n",
       "    </tr>\n",
       "    <tr>\n",
       "      <th>38529</th>\n",
       "      <td>0</td>\n",
       "      <td>20000</td>\n",
       "      <td>2001</td>\n",
       "      <td>gasoline</td>\n",
       "      <td>minivan</td>\n",
       "      <td>owned</td>\n",
       "      <td>front</td>\n",
       "      <td>4000.00</td>\n",
       "      <td>False</td>\n",
       "      <td>False</td>\n",
       "      <td>False</td>\n",
       "    </tr>\n",
       "    <tr>\n",
       "      <th>38530</th>\n",
       "      <td>1</td>\n",
       "      <td>297729</td>\n",
       "      <td>2000</td>\n",
       "      <td>gasoline</td>\n",
       "      <td>minivan</td>\n",
       "      <td>owned</td>\n",
       "      <td>front</td>\n",
       "      <td>3200.00</td>\n",
       "      <td>False</td>\n",
       "      <td>False</td>\n",
       "      <td>False</td>\n",
       "    </tr>\n",
       "  </tbody>\n",
       "</table>\n",
       "<p>38521 rows × 11 columns</p>\n",
       "</div>"
      ],
      "text/plain": [
       "       transmission  odometer_value  year_produced engine_fuel  body_type  \\\n",
       "0                 1          190000           2010    gasoline  universal   \n",
       "1                 1          290000           2002    gasoline  universal   \n",
       "2                 1          402000           2001    gasoline        suv   \n",
       "3                 0           10000           1999    gasoline      sedan   \n",
       "4                 1          280000           2001    gasoline  universal   \n",
       "...             ...             ...            ...         ...        ...   \n",
       "38526             1          290000           2000    gasoline      sedan   \n",
       "38527             0          321000           2004      diesel  hatchback   \n",
       "38528             1          777957           2000    gasoline      sedan   \n",
       "38529             0           20000           2001    gasoline    minivan   \n",
       "38530             1          297729           2000    gasoline    minivan   \n",
       "\n",
       "       state drivetrain  price_usd  feature_3  feature_6  feature_7  \n",
       "0      owned        all   10900.00       True      False       True  \n",
       "1      owned        all    5000.00      False      False      False  \n",
       "2      owned        all    2800.00      False      False      False  \n",
       "3      owned        all    9999.00      False      False      False  \n",
       "4      owned        all    2134.11       True      False      False  \n",
       "...      ...        ...        ...        ...        ...        ...  \n",
       "38526  owned      front    2750.00      False      False      False  \n",
       "38527  owned      front    4800.00      False      False      False  \n",
       "38528  owned      front    4300.00      False      False      False  \n",
       "38529  owned      front    4000.00      False      False      False  \n",
       "38530  owned      front    3200.00      False      False      False  \n",
       "\n",
       "[38521 rows x 11 columns]"
      ]
     },
     "execution_count": 57,
     "metadata": {},
     "output_type": "execute_result"
    }
   ],
   "source": [
    "df_org['transmission'] = df['transmission']\n",
    "df_org.drop(labels=['engine_has_gas','engine_type','engine_capacity','has_warranty','is_exchangeable','feature_0','feature_1','feature_2','feature_4','feature_5','feature_8','feature_9'],axis=1,inplace=True)\n",
    "df_org"
   ]
  },
  {
   "cell_type": "code",
   "execution_count": 58,
   "id": "e92ec29c",
   "metadata": {},
   "outputs": [],
   "source": [
    "def process_body_type(x):\n",
    "    if(x=='cabriolet' or x=='hatchback' or x=='minibus' or x=='sedan suv' or x=='universal'):\n",
    "        return x\n",
    "    else:\n",
    "        return \"other\"\n",
    "\n",
    "def process_engine_fuel(x):\n",
    "    if(x=='diesel' or x=='gas' or x=='gasoline' or x=='hybrid-petrol'):\n",
    "        return x\n",
    "    else:\n",
    "        return 'other'"
   ]
  },
  {
   "cell_type": "code",
   "execution_count": 59,
   "id": "6b834b48",
   "metadata": {},
   "outputs": [
    {
     "data": {
      "text/html": [
       "<div>\n",
       "<style scoped>\n",
       "    .dataframe tbody tr th:only-of-type {\n",
       "        vertical-align: middle;\n",
       "    }\n",
       "\n",
       "    .dataframe tbody tr th {\n",
       "        vertical-align: top;\n",
       "    }\n",
       "\n",
       "    .dataframe thead th {\n",
       "        text-align: right;\n",
       "    }\n",
       "</style>\n",
       "<table border=\"1\" class=\"dataframe\">\n",
       "  <thead>\n",
       "    <tr style=\"text-align: right;\">\n",
       "      <th></th>\n",
       "      <th>transmission</th>\n",
       "      <th>odometer_value</th>\n",
       "      <th>year_produced</th>\n",
       "      <th>engine_fuel</th>\n",
       "      <th>body_type</th>\n",
       "      <th>state</th>\n",
       "      <th>drivetrain</th>\n",
       "      <th>price_usd</th>\n",
       "      <th>feature_3</th>\n",
       "      <th>feature_6</th>\n",
       "      <th>feature_7</th>\n",
       "    </tr>\n",
       "  </thead>\n",
       "  <tbody>\n",
       "    <tr>\n",
       "      <th>0</th>\n",
       "      <td>1</td>\n",
       "      <td>190000</td>\n",
       "      <td>2010</td>\n",
       "      <td>gasoline</td>\n",
       "      <td>universal</td>\n",
       "      <td>owned</td>\n",
       "      <td>all</td>\n",
       "      <td>10900.00</td>\n",
       "      <td>True</td>\n",
       "      <td>False</td>\n",
       "      <td>True</td>\n",
       "    </tr>\n",
       "    <tr>\n",
       "      <th>1</th>\n",
       "      <td>1</td>\n",
       "      <td>290000</td>\n",
       "      <td>2002</td>\n",
       "      <td>gasoline</td>\n",
       "      <td>universal</td>\n",
       "      <td>owned</td>\n",
       "      <td>all</td>\n",
       "      <td>5000.00</td>\n",
       "      <td>False</td>\n",
       "      <td>False</td>\n",
       "      <td>False</td>\n",
       "    </tr>\n",
       "    <tr>\n",
       "      <th>2</th>\n",
       "      <td>1</td>\n",
       "      <td>402000</td>\n",
       "      <td>2001</td>\n",
       "      <td>gasoline</td>\n",
       "      <td>other</td>\n",
       "      <td>owned</td>\n",
       "      <td>all</td>\n",
       "      <td>2800.00</td>\n",
       "      <td>False</td>\n",
       "      <td>False</td>\n",
       "      <td>False</td>\n",
       "    </tr>\n",
       "    <tr>\n",
       "      <th>3</th>\n",
       "      <td>0</td>\n",
       "      <td>10000</td>\n",
       "      <td>1999</td>\n",
       "      <td>gasoline</td>\n",
       "      <td>other</td>\n",
       "      <td>owned</td>\n",
       "      <td>all</td>\n",
       "      <td>9999.00</td>\n",
       "      <td>False</td>\n",
       "      <td>False</td>\n",
       "      <td>False</td>\n",
       "    </tr>\n",
       "    <tr>\n",
       "      <th>4</th>\n",
       "      <td>1</td>\n",
       "      <td>280000</td>\n",
       "      <td>2001</td>\n",
       "      <td>gasoline</td>\n",
       "      <td>universal</td>\n",
       "      <td>owned</td>\n",
       "      <td>all</td>\n",
       "      <td>2134.11</td>\n",
       "      <td>True</td>\n",
       "      <td>False</td>\n",
       "      <td>False</td>\n",
       "    </tr>\n",
       "    <tr>\n",
       "      <th>...</th>\n",
       "      <td>...</td>\n",
       "      <td>...</td>\n",
       "      <td>...</td>\n",
       "      <td>...</td>\n",
       "      <td>...</td>\n",
       "      <td>...</td>\n",
       "      <td>...</td>\n",
       "      <td>...</td>\n",
       "      <td>...</td>\n",
       "      <td>...</td>\n",
       "      <td>...</td>\n",
       "    </tr>\n",
       "    <tr>\n",
       "      <th>38526</th>\n",
       "      <td>1</td>\n",
       "      <td>290000</td>\n",
       "      <td>2000</td>\n",
       "      <td>gasoline</td>\n",
       "      <td>other</td>\n",
       "      <td>owned</td>\n",
       "      <td>front</td>\n",
       "      <td>2750.00</td>\n",
       "      <td>False</td>\n",
       "      <td>False</td>\n",
       "      <td>False</td>\n",
       "    </tr>\n",
       "    <tr>\n",
       "      <th>38527</th>\n",
       "      <td>0</td>\n",
       "      <td>321000</td>\n",
       "      <td>2004</td>\n",
       "      <td>diesel</td>\n",
       "      <td>hatchback</td>\n",
       "      <td>owned</td>\n",
       "      <td>front</td>\n",
       "      <td>4800.00</td>\n",
       "      <td>False</td>\n",
       "      <td>False</td>\n",
       "      <td>False</td>\n",
       "    </tr>\n",
       "    <tr>\n",
       "      <th>38528</th>\n",
       "      <td>1</td>\n",
       "      <td>777957</td>\n",
       "      <td>2000</td>\n",
       "      <td>gasoline</td>\n",
       "      <td>other</td>\n",
       "      <td>owned</td>\n",
       "      <td>front</td>\n",
       "      <td>4300.00</td>\n",
       "      <td>False</td>\n",
       "      <td>False</td>\n",
       "      <td>False</td>\n",
       "    </tr>\n",
       "    <tr>\n",
       "      <th>38529</th>\n",
       "      <td>0</td>\n",
       "      <td>20000</td>\n",
       "      <td>2001</td>\n",
       "      <td>gasoline</td>\n",
       "      <td>other</td>\n",
       "      <td>owned</td>\n",
       "      <td>front</td>\n",
       "      <td>4000.00</td>\n",
       "      <td>False</td>\n",
       "      <td>False</td>\n",
       "      <td>False</td>\n",
       "    </tr>\n",
       "    <tr>\n",
       "      <th>38530</th>\n",
       "      <td>1</td>\n",
       "      <td>297729</td>\n",
       "      <td>2000</td>\n",
       "      <td>gasoline</td>\n",
       "      <td>other</td>\n",
       "      <td>owned</td>\n",
       "      <td>front</td>\n",
       "      <td>3200.00</td>\n",
       "      <td>False</td>\n",
       "      <td>False</td>\n",
       "      <td>False</td>\n",
       "    </tr>\n",
       "  </tbody>\n",
       "</table>\n",
       "<p>38521 rows × 11 columns</p>\n",
       "</div>"
      ],
      "text/plain": [
       "       transmission  odometer_value  year_produced engine_fuel  body_type  \\\n",
       "0                 1          190000           2010    gasoline  universal   \n",
       "1                 1          290000           2002    gasoline  universal   \n",
       "2                 1          402000           2001    gasoline      other   \n",
       "3                 0           10000           1999    gasoline      other   \n",
       "4                 1          280000           2001    gasoline  universal   \n",
       "...             ...             ...            ...         ...        ...   \n",
       "38526             1          290000           2000    gasoline      other   \n",
       "38527             0          321000           2004      diesel  hatchback   \n",
       "38528             1          777957           2000    gasoline      other   \n",
       "38529             0           20000           2001    gasoline      other   \n",
       "38530             1          297729           2000    gasoline      other   \n",
       "\n",
       "       state drivetrain  price_usd  feature_3  feature_6  feature_7  \n",
       "0      owned        all   10900.00       True      False       True  \n",
       "1      owned        all    5000.00      False      False      False  \n",
       "2      owned        all    2800.00      False      False      False  \n",
       "3      owned        all    9999.00      False      False      False  \n",
       "4      owned        all    2134.11       True      False      False  \n",
       "...      ...        ...        ...        ...        ...        ...  \n",
       "38526  owned      front    2750.00      False      False      False  \n",
       "38527  owned      front    4800.00      False      False      False  \n",
       "38528  owned      front    4300.00      False      False      False  \n",
       "38529  owned      front    4000.00      False      False      False  \n",
       "38530  owned      front    3200.00      False      False      False  \n",
       "\n",
       "[38521 rows x 11 columns]"
      ]
     },
     "execution_count": 59,
     "metadata": {},
     "output_type": "execute_result"
    }
   ],
   "source": [
    "df_org['body_type'] = df_org['body_type'].apply(lambda x:process_body_type(x))\n",
    "df_org['engine_fuel'] = df_org['engine_fuel'].apply(lambda x:process_engine_fuel(x))\n",
    "df_org"
   ]
  },
  {
   "cell_type": "code",
   "execution_count": 60,
   "id": "b587c486",
   "metadata": {},
   "outputs": [
    {
     "data": {
      "text/html": [
       "<div>\n",
       "<style scoped>\n",
       "    .dataframe tbody tr th:only-of-type {\n",
       "        vertical-align: middle;\n",
       "    }\n",
       "\n",
       "    .dataframe tbody tr th {\n",
       "        vertical-align: top;\n",
       "    }\n",
       "\n",
       "    .dataframe thead th {\n",
       "        text-align: right;\n",
       "    }\n",
       "</style>\n",
       "<table border=\"1\" class=\"dataframe\">\n",
       "  <thead>\n",
       "    <tr style=\"text-align: right;\">\n",
       "      <th></th>\n",
       "      <th>transmission</th>\n",
       "      <th>odometer_value</th>\n",
       "      <th>year_produced</th>\n",
       "      <th>price_usd</th>\n",
       "      <th>feature_3</th>\n",
       "      <th>feature_6</th>\n",
       "      <th>feature_7</th>\n",
       "      <th>engine_fuel_diesel</th>\n",
       "      <th>engine_fuel_gas</th>\n",
       "      <th>engine_fuel_gasoline</th>\n",
       "      <th>...</th>\n",
       "      <th>body_type_hatchback</th>\n",
       "      <th>body_type_minibus</th>\n",
       "      <th>body_type_other</th>\n",
       "      <th>body_type_universal</th>\n",
       "      <th>state_emergency</th>\n",
       "      <th>state_new</th>\n",
       "      <th>state_owned</th>\n",
       "      <th>drivetrain_all</th>\n",
       "      <th>drivetrain_front</th>\n",
       "      <th>drivetrain_rear</th>\n",
       "    </tr>\n",
       "  </thead>\n",
       "  <tbody>\n",
       "    <tr>\n",
       "      <th>0</th>\n",
       "      <td>1</td>\n",
       "      <td>190000</td>\n",
       "      <td>2010</td>\n",
       "      <td>10900.00</td>\n",
       "      <td>True</td>\n",
       "      <td>False</td>\n",
       "      <td>True</td>\n",
       "      <td>0</td>\n",
       "      <td>0</td>\n",
       "      <td>1</td>\n",
       "      <td>...</td>\n",
       "      <td>0</td>\n",
       "      <td>0</td>\n",
       "      <td>0</td>\n",
       "      <td>1</td>\n",
       "      <td>0</td>\n",
       "      <td>0</td>\n",
       "      <td>1</td>\n",
       "      <td>1</td>\n",
       "      <td>0</td>\n",
       "      <td>0</td>\n",
       "    </tr>\n",
       "    <tr>\n",
       "      <th>1</th>\n",
       "      <td>1</td>\n",
       "      <td>290000</td>\n",
       "      <td>2002</td>\n",
       "      <td>5000.00</td>\n",
       "      <td>False</td>\n",
       "      <td>False</td>\n",
       "      <td>False</td>\n",
       "      <td>0</td>\n",
       "      <td>0</td>\n",
       "      <td>1</td>\n",
       "      <td>...</td>\n",
       "      <td>0</td>\n",
       "      <td>0</td>\n",
       "      <td>0</td>\n",
       "      <td>1</td>\n",
       "      <td>0</td>\n",
       "      <td>0</td>\n",
       "      <td>1</td>\n",
       "      <td>1</td>\n",
       "      <td>0</td>\n",
       "      <td>0</td>\n",
       "    </tr>\n",
       "    <tr>\n",
       "      <th>2</th>\n",
       "      <td>1</td>\n",
       "      <td>402000</td>\n",
       "      <td>2001</td>\n",
       "      <td>2800.00</td>\n",
       "      <td>False</td>\n",
       "      <td>False</td>\n",
       "      <td>False</td>\n",
       "      <td>0</td>\n",
       "      <td>0</td>\n",
       "      <td>1</td>\n",
       "      <td>...</td>\n",
       "      <td>0</td>\n",
       "      <td>0</td>\n",
       "      <td>1</td>\n",
       "      <td>0</td>\n",
       "      <td>0</td>\n",
       "      <td>0</td>\n",
       "      <td>1</td>\n",
       "      <td>1</td>\n",
       "      <td>0</td>\n",
       "      <td>0</td>\n",
       "    </tr>\n",
       "    <tr>\n",
       "      <th>3</th>\n",
       "      <td>0</td>\n",
       "      <td>10000</td>\n",
       "      <td>1999</td>\n",
       "      <td>9999.00</td>\n",
       "      <td>False</td>\n",
       "      <td>False</td>\n",
       "      <td>False</td>\n",
       "      <td>0</td>\n",
       "      <td>0</td>\n",
       "      <td>1</td>\n",
       "      <td>...</td>\n",
       "      <td>0</td>\n",
       "      <td>0</td>\n",
       "      <td>1</td>\n",
       "      <td>0</td>\n",
       "      <td>0</td>\n",
       "      <td>0</td>\n",
       "      <td>1</td>\n",
       "      <td>1</td>\n",
       "      <td>0</td>\n",
       "      <td>0</td>\n",
       "    </tr>\n",
       "    <tr>\n",
       "      <th>4</th>\n",
       "      <td>1</td>\n",
       "      <td>280000</td>\n",
       "      <td>2001</td>\n",
       "      <td>2134.11</td>\n",
       "      <td>True</td>\n",
       "      <td>False</td>\n",
       "      <td>False</td>\n",
       "      <td>0</td>\n",
       "      <td>0</td>\n",
       "      <td>1</td>\n",
       "      <td>...</td>\n",
       "      <td>0</td>\n",
       "      <td>0</td>\n",
       "      <td>0</td>\n",
       "      <td>1</td>\n",
       "      <td>0</td>\n",
       "      <td>0</td>\n",
       "      <td>1</td>\n",
       "      <td>1</td>\n",
       "      <td>0</td>\n",
       "      <td>0</td>\n",
       "    </tr>\n",
       "    <tr>\n",
       "      <th>...</th>\n",
       "      <td>...</td>\n",
       "      <td>...</td>\n",
       "      <td>...</td>\n",
       "      <td>...</td>\n",
       "      <td>...</td>\n",
       "      <td>...</td>\n",
       "      <td>...</td>\n",
       "      <td>...</td>\n",
       "      <td>...</td>\n",
       "      <td>...</td>\n",
       "      <td>...</td>\n",
       "      <td>...</td>\n",
       "      <td>...</td>\n",
       "      <td>...</td>\n",
       "      <td>...</td>\n",
       "      <td>...</td>\n",
       "      <td>...</td>\n",
       "      <td>...</td>\n",
       "      <td>...</td>\n",
       "      <td>...</td>\n",
       "      <td>...</td>\n",
       "    </tr>\n",
       "    <tr>\n",
       "      <th>38526</th>\n",
       "      <td>1</td>\n",
       "      <td>290000</td>\n",
       "      <td>2000</td>\n",
       "      <td>2750.00</td>\n",
       "      <td>False</td>\n",
       "      <td>False</td>\n",
       "      <td>False</td>\n",
       "      <td>0</td>\n",
       "      <td>0</td>\n",
       "      <td>1</td>\n",
       "      <td>...</td>\n",
       "      <td>0</td>\n",
       "      <td>0</td>\n",
       "      <td>1</td>\n",
       "      <td>0</td>\n",
       "      <td>0</td>\n",
       "      <td>0</td>\n",
       "      <td>1</td>\n",
       "      <td>0</td>\n",
       "      <td>1</td>\n",
       "      <td>0</td>\n",
       "    </tr>\n",
       "    <tr>\n",
       "      <th>38527</th>\n",
       "      <td>0</td>\n",
       "      <td>321000</td>\n",
       "      <td>2004</td>\n",
       "      <td>4800.00</td>\n",
       "      <td>False</td>\n",
       "      <td>False</td>\n",
       "      <td>False</td>\n",
       "      <td>1</td>\n",
       "      <td>0</td>\n",
       "      <td>0</td>\n",
       "      <td>...</td>\n",
       "      <td>1</td>\n",
       "      <td>0</td>\n",
       "      <td>0</td>\n",
       "      <td>0</td>\n",
       "      <td>0</td>\n",
       "      <td>0</td>\n",
       "      <td>1</td>\n",
       "      <td>0</td>\n",
       "      <td>1</td>\n",
       "      <td>0</td>\n",
       "    </tr>\n",
       "    <tr>\n",
       "      <th>38528</th>\n",
       "      <td>1</td>\n",
       "      <td>777957</td>\n",
       "      <td>2000</td>\n",
       "      <td>4300.00</td>\n",
       "      <td>False</td>\n",
       "      <td>False</td>\n",
       "      <td>False</td>\n",
       "      <td>0</td>\n",
       "      <td>0</td>\n",
       "      <td>1</td>\n",
       "      <td>...</td>\n",
       "      <td>0</td>\n",
       "      <td>0</td>\n",
       "      <td>1</td>\n",
       "      <td>0</td>\n",
       "      <td>0</td>\n",
       "      <td>0</td>\n",
       "      <td>1</td>\n",
       "      <td>0</td>\n",
       "      <td>1</td>\n",
       "      <td>0</td>\n",
       "    </tr>\n",
       "    <tr>\n",
       "      <th>38529</th>\n",
       "      <td>0</td>\n",
       "      <td>20000</td>\n",
       "      <td>2001</td>\n",
       "      <td>4000.00</td>\n",
       "      <td>False</td>\n",
       "      <td>False</td>\n",
       "      <td>False</td>\n",
       "      <td>0</td>\n",
       "      <td>0</td>\n",
       "      <td>1</td>\n",
       "      <td>...</td>\n",
       "      <td>0</td>\n",
       "      <td>0</td>\n",
       "      <td>1</td>\n",
       "      <td>0</td>\n",
       "      <td>0</td>\n",
       "      <td>0</td>\n",
       "      <td>1</td>\n",
       "      <td>0</td>\n",
       "      <td>1</td>\n",
       "      <td>0</td>\n",
       "    </tr>\n",
       "    <tr>\n",
       "      <th>38530</th>\n",
       "      <td>1</td>\n",
       "      <td>297729</td>\n",
       "      <td>2000</td>\n",
       "      <td>3200.00</td>\n",
       "      <td>False</td>\n",
       "      <td>False</td>\n",
       "      <td>False</td>\n",
       "      <td>0</td>\n",
       "      <td>0</td>\n",
       "      <td>1</td>\n",
       "      <td>...</td>\n",
       "      <td>0</td>\n",
       "      <td>0</td>\n",
       "      <td>1</td>\n",
       "      <td>0</td>\n",
       "      <td>0</td>\n",
       "      <td>0</td>\n",
       "      <td>1</td>\n",
       "      <td>0</td>\n",
       "      <td>1</td>\n",
       "      <td>0</td>\n",
       "    </tr>\n",
       "  </tbody>\n",
       "</table>\n",
       "<p>38521 rows × 23 columns</p>\n",
       "</div>"
      ],
      "text/plain": [
       "       transmission  odometer_value  year_produced  price_usd  feature_3  \\\n",
       "0                 1          190000           2010   10900.00       True   \n",
       "1                 1          290000           2002    5000.00      False   \n",
       "2                 1          402000           2001    2800.00      False   \n",
       "3                 0           10000           1999    9999.00      False   \n",
       "4                 1          280000           2001    2134.11       True   \n",
       "...             ...             ...            ...        ...        ...   \n",
       "38526             1          290000           2000    2750.00      False   \n",
       "38527             0          321000           2004    4800.00      False   \n",
       "38528             1          777957           2000    4300.00      False   \n",
       "38529             0           20000           2001    4000.00      False   \n",
       "38530             1          297729           2000    3200.00      False   \n",
       "\n",
       "       feature_6  feature_7  engine_fuel_diesel  engine_fuel_gas  \\\n",
       "0          False       True                   0                0   \n",
       "1          False      False                   0                0   \n",
       "2          False      False                   0                0   \n",
       "3          False      False                   0                0   \n",
       "4          False      False                   0                0   \n",
       "...          ...        ...                 ...              ...   \n",
       "38526      False      False                   0                0   \n",
       "38527      False      False                   1                0   \n",
       "38528      False      False                   0                0   \n",
       "38529      False      False                   0                0   \n",
       "38530      False      False                   0                0   \n",
       "\n",
       "       engine_fuel_gasoline  ...  body_type_hatchback  body_type_minibus  \\\n",
       "0                         1  ...                    0                  0   \n",
       "1                         1  ...                    0                  0   \n",
       "2                         1  ...                    0                  0   \n",
       "3                         1  ...                    0                  0   \n",
       "4                         1  ...                    0                  0   \n",
       "...                     ...  ...                  ...                ...   \n",
       "38526                     1  ...                    0                  0   \n",
       "38527                     0  ...                    1                  0   \n",
       "38528                     1  ...                    0                  0   \n",
       "38529                     1  ...                    0                  0   \n",
       "38530                     1  ...                    0                  0   \n",
       "\n",
       "       body_type_other  body_type_universal  state_emergency  state_new  \\\n",
       "0                    0                    1                0          0   \n",
       "1                    0                    1                0          0   \n",
       "2                    1                    0                0          0   \n",
       "3                    1                    0                0          0   \n",
       "4                    0                    1                0          0   \n",
       "...                ...                  ...              ...        ...   \n",
       "38526                1                    0                0          0   \n",
       "38527                0                    0                0          0   \n",
       "38528                1                    0                0          0   \n",
       "38529                1                    0                0          0   \n",
       "38530                1                    0                0          0   \n",
       "\n",
       "       state_owned  drivetrain_all  drivetrain_front  drivetrain_rear  \n",
       "0                1               1                 0                0  \n",
       "1                1               1                 0                0  \n",
       "2                1               1                 0                0  \n",
       "3                1               1                 0                0  \n",
       "4                1               1                 0                0  \n",
       "...            ...             ...               ...              ...  \n",
       "38526            1               0                 1                0  \n",
       "38527            1               0                 1                0  \n",
       "38528            1               0                 1                0  \n",
       "38529            1               0                 1                0  \n",
       "38530            1               0                 1                0  \n",
       "\n",
       "[38521 rows x 23 columns]"
      ]
     },
     "execution_count": 60,
     "metadata": {},
     "output_type": "execute_result"
    }
   ],
   "source": [
    "def oneHotEncoding_with_names(columnName,df):\n",
    "    \n",
    "    temp_df = pd.get_dummies(df[columnName],drop_first=False)\n",
    "    for x in temp_df.columns:\n",
    "        temp_df.rename(columns={x:columnName+'_'+str(x)},inplace=True)\n",
    "    \n",
    "    for x in temp_df.columns:\n",
    "        df[x] = temp_df[x]\n",
    "    \n",
    "    df.drop(labels=columnName,axis=1,inplace=True)\n",
    "    return df\n",
    "\n",
    "for y in df_org.columns:\n",
    "    if(df_org[y].dtype==object):\n",
    "        oneHotEncoding_with_names(y,df_org)\n",
    "\n",
    "df_org"
   ]
  },
  {
   "cell_type": "code",
   "execution_count": 61,
   "id": "1b1a7cb2",
   "metadata": {},
   "outputs": [
    {
     "data": {
      "text/plain": [
       "Index(['transmission', 'odometer_value', 'year_produced', 'price_usd',\n",
       "       'feature_3', 'feature_6', 'feature_7', 'engine_fuel_diesel',\n",
       "       'engine_fuel_gas', 'engine_fuel_gasoline', 'engine_fuel_hybrid-petrol',\n",
       "       'engine_fuel_other', 'body_type_cabriolet', 'body_type_hatchback',\n",
       "       'body_type_minibus', 'body_type_other', 'body_type_universal',\n",
       "       'state_emergency', 'state_new', 'state_owned', 'drivetrain_all',\n",
       "       'drivetrain_front', 'drivetrain_rear'],\n",
       "      dtype='object')"
      ]
     },
     "execution_count": 61,
     "metadata": {},
     "output_type": "execute_result"
    }
   ],
   "source": [
    "df_org.columns"
   ]
  },
  {
   "cell_type": "code",
   "execution_count": 62,
   "id": "b2cb5872",
   "metadata": {},
   "outputs": [],
   "source": [
    "df_org.drop(labels=['engine_fuel_other','body_type_other','state_emergency','drivetrain_all'],axis=1,inplace=True)\n"
   ]
  },
  {
   "cell_type": "markdown",
   "id": "f8cbdab3",
   "metadata": {},
   "source": [
    "### Final Preprocesed and cleaned dataset for training / testing"
   ]
  },
  {
   "cell_type": "code",
   "execution_count": 63,
   "id": "103dbc53",
   "metadata": {},
   "outputs": [
    {
     "data": {
      "text/html": [
       "<div>\n",
       "<style scoped>\n",
       "    .dataframe tbody tr th:only-of-type {\n",
       "        vertical-align: middle;\n",
       "    }\n",
       "\n",
       "    .dataframe tbody tr th {\n",
       "        vertical-align: top;\n",
       "    }\n",
       "\n",
       "    .dataframe thead th {\n",
       "        text-align: right;\n",
       "    }\n",
       "</style>\n",
       "<table border=\"1\" class=\"dataframe\">\n",
       "  <thead>\n",
       "    <tr style=\"text-align: right;\">\n",
       "      <th></th>\n",
       "      <th>transmission</th>\n",
       "      <th>odometer_value</th>\n",
       "      <th>year_produced</th>\n",
       "      <th>price_usd</th>\n",
       "      <th>feature_3</th>\n",
       "      <th>feature_6</th>\n",
       "      <th>feature_7</th>\n",
       "      <th>engine_fuel_diesel</th>\n",
       "      <th>engine_fuel_gas</th>\n",
       "      <th>engine_fuel_gasoline</th>\n",
       "      <th>engine_fuel_hybrid-petrol</th>\n",
       "      <th>body_type_cabriolet</th>\n",
       "      <th>body_type_hatchback</th>\n",
       "      <th>body_type_minibus</th>\n",
       "      <th>body_type_universal</th>\n",
       "      <th>state_new</th>\n",
       "      <th>state_owned</th>\n",
       "      <th>drivetrain_front</th>\n",
       "      <th>drivetrain_rear</th>\n",
       "    </tr>\n",
       "  </thead>\n",
       "  <tbody>\n",
       "    <tr>\n",
       "      <th>0</th>\n",
       "      <td>1</td>\n",
       "      <td>190000</td>\n",
       "      <td>2010</td>\n",
       "      <td>10900.00</td>\n",
       "      <td>True</td>\n",
       "      <td>False</td>\n",
       "      <td>True</td>\n",
       "      <td>0</td>\n",
       "      <td>0</td>\n",
       "      <td>1</td>\n",
       "      <td>0</td>\n",
       "      <td>0</td>\n",
       "      <td>0</td>\n",
       "      <td>0</td>\n",
       "      <td>1</td>\n",
       "      <td>0</td>\n",
       "      <td>1</td>\n",
       "      <td>0</td>\n",
       "      <td>0</td>\n",
       "    </tr>\n",
       "    <tr>\n",
       "      <th>1</th>\n",
       "      <td>1</td>\n",
       "      <td>290000</td>\n",
       "      <td>2002</td>\n",
       "      <td>5000.00</td>\n",
       "      <td>False</td>\n",
       "      <td>False</td>\n",
       "      <td>False</td>\n",
       "      <td>0</td>\n",
       "      <td>0</td>\n",
       "      <td>1</td>\n",
       "      <td>0</td>\n",
       "      <td>0</td>\n",
       "      <td>0</td>\n",
       "      <td>0</td>\n",
       "      <td>1</td>\n",
       "      <td>0</td>\n",
       "      <td>1</td>\n",
       "      <td>0</td>\n",
       "      <td>0</td>\n",
       "    </tr>\n",
       "    <tr>\n",
       "      <th>2</th>\n",
       "      <td>1</td>\n",
       "      <td>402000</td>\n",
       "      <td>2001</td>\n",
       "      <td>2800.00</td>\n",
       "      <td>False</td>\n",
       "      <td>False</td>\n",
       "      <td>False</td>\n",
       "      <td>0</td>\n",
       "      <td>0</td>\n",
       "      <td>1</td>\n",
       "      <td>0</td>\n",
       "      <td>0</td>\n",
       "      <td>0</td>\n",
       "      <td>0</td>\n",
       "      <td>0</td>\n",
       "      <td>0</td>\n",
       "      <td>1</td>\n",
       "      <td>0</td>\n",
       "      <td>0</td>\n",
       "    </tr>\n",
       "    <tr>\n",
       "      <th>3</th>\n",
       "      <td>0</td>\n",
       "      <td>10000</td>\n",
       "      <td>1999</td>\n",
       "      <td>9999.00</td>\n",
       "      <td>False</td>\n",
       "      <td>False</td>\n",
       "      <td>False</td>\n",
       "      <td>0</td>\n",
       "      <td>0</td>\n",
       "      <td>1</td>\n",
       "      <td>0</td>\n",
       "      <td>0</td>\n",
       "      <td>0</td>\n",
       "      <td>0</td>\n",
       "      <td>0</td>\n",
       "      <td>0</td>\n",
       "      <td>1</td>\n",
       "      <td>0</td>\n",
       "      <td>0</td>\n",
       "    </tr>\n",
       "    <tr>\n",
       "      <th>4</th>\n",
       "      <td>1</td>\n",
       "      <td>280000</td>\n",
       "      <td>2001</td>\n",
       "      <td>2134.11</td>\n",
       "      <td>True</td>\n",
       "      <td>False</td>\n",
       "      <td>False</td>\n",
       "      <td>0</td>\n",
       "      <td>0</td>\n",
       "      <td>1</td>\n",
       "      <td>0</td>\n",
       "      <td>0</td>\n",
       "      <td>0</td>\n",
       "      <td>0</td>\n",
       "      <td>1</td>\n",
       "      <td>0</td>\n",
       "      <td>1</td>\n",
       "      <td>0</td>\n",
       "      <td>0</td>\n",
       "    </tr>\n",
       "    <tr>\n",
       "      <th>...</th>\n",
       "      <td>...</td>\n",
       "      <td>...</td>\n",
       "      <td>...</td>\n",
       "      <td>...</td>\n",
       "      <td>...</td>\n",
       "      <td>...</td>\n",
       "      <td>...</td>\n",
       "      <td>...</td>\n",
       "      <td>...</td>\n",
       "      <td>...</td>\n",
       "      <td>...</td>\n",
       "      <td>...</td>\n",
       "      <td>...</td>\n",
       "      <td>...</td>\n",
       "      <td>...</td>\n",
       "      <td>...</td>\n",
       "      <td>...</td>\n",
       "      <td>...</td>\n",
       "      <td>...</td>\n",
       "    </tr>\n",
       "    <tr>\n",
       "      <th>38526</th>\n",
       "      <td>1</td>\n",
       "      <td>290000</td>\n",
       "      <td>2000</td>\n",
       "      <td>2750.00</td>\n",
       "      <td>False</td>\n",
       "      <td>False</td>\n",
       "      <td>False</td>\n",
       "      <td>0</td>\n",
       "      <td>0</td>\n",
       "      <td>1</td>\n",
       "      <td>0</td>\n",
       "      <td>0</td>\n",
       "      <td>0</td>\n",
       "      <td>0</td>\n",
       "      <td>0</td>\n",
       "      <td>0</td>\n",
       "      <td>1</td>\n",
       "      <td>1</td>\n",
       "      <td>0</td>\n",
       "    </tr>\n",
       "    <tr>\n",
       "      <th>38527</th>\n",
       "      <td>0</td>\n",
       "      <td>321000</td>\n",
       "      <td>2004</td>\n",
       "      <td>4800.00</td>\n",
       "      <td>False</td>\n",
       "      <td>False</td>\n",
       "      <td>False</td>\n",
       "      <td>1</td>\n",
       "      <td>0</td>\n",
       "      <td>0</td>\n",
       "      <td>0</td>\n",
       "      <td>0</td>\n",
       "      <td>1</td>\n",
       "      <td>0</td>\n",
       "      <td>0</td>\n",
       "      <td>0</td>\n",
       "      <td>1</td>\n",
       "      <td>1</td>\n",
       "      <td>0</td>\n",
       "    </tr>\n",
       "    <tr>\n",
       "      <th>38528</th>\n",
       "      <td>1</td>\n",
       "      <td>777957</td>\n",
       "      <td>2000</td>\n",
       "      <td>4300.00</td>\n",
       "      <td>False</td>\n",
       "      <td>False</td>\n",
       "      <td>False</td>\n",
       "      <td>0</td>\n",
       "      <td>0</td>\n",
       "      <td>1</td>\n",
       "      <td>0</td>\n",
       "      <td>0</td>\n",
       "      <td>0</td>\n",
       "      <td>0</td>\n",
       "      <td>0</td>\n",
       "      <td>0</td>\n",
       "      <td>1</td>\n",
       "      <td>1</td>\n",
       "      <td>0</td>\n",
       "    </tr>\n",
       "    <tr>\n",
       "      <th>38529</th>\n",
       "      <td>0</td>\n",
       "      <td>20000</td>\n",
       "      <td>2001</td>\n",
       "      <td>4000.00</td>\n",
       "      <td>False</td>\n",
       "      <td>False</td>\n",
       "      <td>False</td>\n",
       "      <td>0</td>\n",
       "      <td>0</td>\n",
       "      <td>1</td>\n",
       "      <td>0</td>\n",
       "      <td>0</td>\n",
       "      <td>0</td>\n",
       "      <td>0</td>\n",
       "      <td>0</td>\n",
       "      <td>0</td>\n",
       "      <td>1</td>\n",
       "      <td>1</td>\n",
       "      <td>0</td>\n",
       "    </tr>\n",
       "    <tr>\n",
       "      <th>38530</th>\n",
       "      <td>1</td>\n",
       "      <td>297729</td>\n",
       "      <td>2000</td>\n",
       "      <td>3200.00</td>\n",
       "      <td>False</td>\n",
       "      <td>False</td>\n",
       "      <td>False</td>\n",
       "      <td>0</td>\n",
       "      <td>0</td>\n",
       "      <td>1</td>\n",
       "      <td>0</td>\n",
       "      <td>0</td>\n",
       "      <td>0</td>\n",
       "      <td>0</td>\n",
       "      <td>0</td>\n",
       "      <td>0</td>\n",
       "      <td>1</td>\n",
       "      <td>1</td>\n",
       "      <td>0</td>\n",
       "    </tr>\n",
       "  </tbody>\n",
       "</table>\n",
       "<p>38521 rows × 19 columns</p>\n",
       "</div>"
      ],
      "text/plain": [
       "       transmission  odometer_value  year_produced  price_usd  feature_3  \\\n",
       "0                 1          190000           2010   10900.00       True   \n",
       "1                 1          290000           2002    5000.00      False   \n",
       "2                 1          402000           2001    2800.00      False   \n",
       "3                 0           10000           1999    9999.00      False   \n",
       "4                 1          280000           2001    2134.11       True   \n",
       "...             ...             ...            ...        ...        ...   \n",
       "38526             1          290000           2000    2750.00      False   \n",
       "38527             0          321000           2004    4800.00      False   \n",
       "38528             1          777957           2000    4300.00      False   \n",
       "38529             0           20000           2001    4000.00      False   \n",
       "38530             1          297729           2000    3200.00      False   \n",
       "\n",
       "       feature_6  feature_7  engine_fuel_diesel  engine_fuel_gas  \\\n",
       "0          False       True                   0                0   \n",
       "1          False      False                   0                0   \n",
       "2          False      False                   0                0   \n",
       "3          False      False                   0                0   \n",
       "4          False      False                   0                0   \n",
       "...          ...        ...                 ...              ...   \n",
       "38526      False      False                   0                0   \n",
       "38527      False      False                   1                0   \n",
       "38528      False      False                   0                0   \n",
       "38529      False      False                   0                0   \n",
       "38530      False      False                   0                0   \n",
       "\n",
       "       engine_fuel_gasoline  engine_fuel_hybrid-petrol  body_type_cabriolet  \\\n",
       "0                         1                          0                    0   \n",
       "1                         1                          0                    0   \n",
       "2                         1                          0                    0   \n",
       "3                         1                          0                    0   \n",
       "4                         1                          0                    0   \n",
       "...                     ...                        ...                  ...   \n",
       "38526                     1                          0                    0   \n",
       "38527                     0                          0                    0   \n",
       "38528                     1                          0                    0   \n",
       "38529                     1                          0                    0   \n",
       "38530                     1                          0                    0   \n",
       "\n",
       "       body_type_hatchback  body_type_minibus  body_type_universal  state_new  \\\n",
       "0                        0                  0                    1          0   \n",
       "1                        0                  0                    1          0   \n",
       "2                        0                  0                    0          0   \n",
       "3                        0                  0                    0          0   \n",
       "4                        0                  0                    1          0   \n",
       "...                    ...                ...                  ...        ...   \n",
       "38526                    0                  0                    0          0   \n",
       "38527                    1                  0                    0          0   \n",
       "38528                    0                  0                    0          0   \n",
       "38529                    0                  0                    0          0   \n",
       "38530                    0                  0                    0          0   \n",
       "\n",
       "       state_owned  drivetrain_front  drivetrain_rear  \n",
       "0                1                 0                0  \n",
       "1                1                 0                0  \n",
       "2                1                 0                0  \n",
       "3                1                 0                0  \n",
       "4                1                 0                0  \n",
       "...            ...               ...              ...  \n",
       "38526            1                 1                0  \n",
       "38527            1                 1                0  \n",
       "38528            1                 1                0  \n",
       "38529            1                 1                0  \n",
       "38530            1                 1                0  \n",
       "\n",
       "[38521 rows x 19 columns]"
      ]
     },
     "execution_count": 63,
     "metadata": {},
     "output_type": "execute_result"
    }
   ],
   "source": [
    "df_org"
   ]
  },
  {
   "cell_type": "markdown",
   "id": "89f3774a",
   "metadata": {},
   "source": [
    "### Machine Learining Algorithms"
   ]
  },
  {
   "cell_type": "code",
   "execution_count": 64,
   "id": "79e16a84",
   "metadata": {},
   "outputs": [],
   "source": [
    "# Logistic Regression, ANN, SVM,\n",
    "# Decision Tree and Random Forest."
   ]
  },
  {
   "cell_type": "code",
   "execution_count": 65,
   "id": "21d0cddc",
   "metadata": {},
   "outputs": [],
   "source": [
    "features = df_org.drop(labels=['price_usd'],axis=1)\n",
    "target = df[['price_usd']]"
   ]
  },
  {
   "cell_type": "code",
   "execution_count": 66,
   "id": "7ebba53c",
   "metadata": {},
   "outputs": [
    {
     "data": {
      "text/html": [
       "<div>\n",
       "<style scoped>\n",
       "    .dataframe tbody tr th:only-of-type {\n",
       "        vertical-align: middle;\n",
       "    }\n",
       "\n",
       "    .dataframe tbody tr th {\n",
       "        vertical-align: top;\n",
       "    }\n",
       "\n",
       "    .dataframe thead th {\n",
       "        text-align: right;\n",
       "    }\n",
       "</style>\n",
       "<table border=\"1\" class=\"dataframe\">\n",
       "  <thead>\n",
       "    <tr style=\"text-align: right;\">\n",
       "      <th></th>\n",
       "      <th>transmission</th>\n",
       "      <th>odometer_value</th>\n",
       "      <th>year_produced</th>\n",
       "      <th>feature_3</th>\n",
       "      <th>feature_6</th>\n",
       "      <th>feature_7</th>\n",
       "      <th>engine_fuel_diesel</th>\n",
       "      <th>engine_fuel_gas</th>\n",
       "      <th>engine_fuel_gasoline</th>\n",
       "      <th>engine_fuel_hybrid-petrol</th>\n",
       "      <th>body_type_cabriolet</th>\n",
       "      <th>body_type_hatchback</th>\n",
       "      <th>body_type_minibus</th>\n",
       "      <th>body_type_universal</th>\n",
       "      <th>state_new</th>\n",
       "      <th>state_owned</th>\n",
       "      <th>drivetrain_front</th>\n",
       "      <th>drivetrain_rear</th>\n",
       "    </tr>\n",
       "  </thead>\n",
       "  <tbody>\n",
       "    <tr>\n",
       "      <th>0</th>\n",
       "      <td>1</td>\n",
       "      <td>190000</td>\n",
       "      <td>2010</td>\n",
       "      <td>True</td>\n",
       "      <td>False</td>\n",
       "      <td>True</td>\n",
       "      <td>0</td>\n",
       "      <td>0</td>\n",
       "      <td>1</td>\n",
       "      <td>0</td>\n",
       "      <td>0</td>\n",
       "      <td>0</td>\n",
       "      <td>0</td>\n",
       "      <td>1</td>\n",
       "      <td>0</td>\n",
       "      <td>1</td>\n",
       "      <td>0</td>\n",
       "      <td>0</td>\n",
       "    </tr>\n",
       "    <tr>\n",
       "      <th>1</th>\n",
       "      <td>1</td>\n",
       "      <td>290000</td>\n",
       "      <td>2002</td>\n",
       "      <td>False</td>\n",
       "      <td>False</td>\n",
       "      <td>False</td>\n",
       "      <td>0</td>\n",
       "      <td>0</td>\n",
       "      <td>1</td>\n",
       "      <td>0</td>\n",
       "      <td>0</td>\n",
       "      <td>0</td>\n",
       "      <td>0</td>\n",
       "      <td>1</td>\n",
       "      <td>0</td>\n",
       "      <td>1</td>\n",
       "      <td>0</td>\n",
       "      <td>0</td>\n",
       "    </tr>\n",
       "    <tr>\n",
       "      <th>2</th>\n",
       "      <td>1</td>\n",
       "      <td>402000</td>\n",
       "      <td>2001</td>\n",
       "      <td>False</td>\n",
       "      <td>False</td>\n",
       "      <td>False</td>\n",
       "      <td>0</td>\n",
       "      <td>0</td>\n",
       "      <td>1</td>\n",
       "      <td>0</td>\n",
       "      <td>0</td>\n",
       "      <td>0</td>\n",
       "      <td>0</td>\n",
       "      <td>0</td>\n",
       "      <td>0</td>\n",
       "      <td>1</td>\n",
       "      <td>0</td>\n",
       "      <td>0</td>\n",
       "    </tr>\n",
       "    <tr>\n",
       "      <th>3</th>\n",
       "      <td>0</td>\n",
       "      <td>10000</td>\n",
       "      <td>1999</td>\n",
       "      <td>False</td>\n",
       "      <td>False</td>\n",
       "      <td>False</td>\n",
       "      <td>0</td>\n",
       "      <td>0</td>\n",
       "      <td>1</td>\n",
       "      <td>0</td>\n",
       "      <td>0</td>\n",
       "      <td>0</td>\n",
       "      <td>0</td>\n",
       "      <td>0</td>\n",
       "      <td>0</td>\n",
       "      <td>1</td>\n",
       "      <td>0</td>\n",
       "      <td>0</td>\n",
       "    </tr>\n",
       "    <tr>\n",
       "      <th>4</th>\n",
       "      <td>1</td>\n",
       "      <td>280000</td>\n",
       "      <td>2001</td>\n",
       "      <td>True</td>\n",
       "      <td>False</td>\n",
       "      <td>False</td>\n",
       "      <td>0</td>\n",
       "      <td>0</td>\n",
       "      <td>1</td>\n",
       "      <td>0</td>\n",
       "      <td>0</td>\n",
       "      <td>0</td>\n",
       "      <td>0</td>\n",
       "      <td>1</td>\n",
       "      <td>0</td>\n",
       "      <td>1</td>\n",
       "      <td>0</td>\n",
       "      <td>0</td>\n",
       "    </tr>\n",
       "    <tr>\n",
       "      <th>...</th>\n",
       "      <td>...</td>\n",
       "      <td>...</td>\n",
       "      <td>...</td>\n",
       "      <td>...</td>\n",
       "      <td>...</td>\n",
       "      <td>...</td>\n",
       "      <td>...</td>\n",
       "      <td>...</td>\n",
       "      <td>...</td>\n",
       "      <td>...</td>\n",
       "      <td>...</td>\n",
       "      <td>...</td>\n",
       "      <td>...</td>\n",
       "      <td>...</td>\n",
       "      <td>...</td>\n",
       "      <td>...</td>\n",
       "      <td>...</td>\n",
       "      <td>...</td>\n",
       "    </tr>\n",
       "    <tr>\n",
       "      <th>38526</th>\n",
       "      <td>1</td>\n",
       "      <td>290000</td>\n",
       "      <td>2000</td>\n",
       "      <td>False</td>\n",
       "      <td>False</td>\n",
       "      <td>False</td>\n",
       "      <td>0</td>\n",
       "      <td>0</td>\n",
       "      <td>1</td>\n",
       "      <td>0</td>\n",
       "      <td>0</td>\n",
       "      <td>0</td>\n",
       "      <td>0</td>\n",
       "      <td>0</td>\n",
       "      <td>0</td>\n",
       "      <td>1</td>\n",
       "      <td>1</td>\n",
       "      <td>0</td>\n",
       "    </tr>\n",
       "    <tr>\n",
       "      <th>38527</th>\n",
       "      <td>0</td>\n",
       "      <td>321000</td>\n",
       "      <td>2004</td>\n",
       "      <td>False</td>\n",
       "      <td>False</td>\n",
       "      <td>False</td>\n",
       "      <td>1</td>\n",
       "      <td>0</td>\n",
       "      <td>0</td>\n",
       "      <td>0</td>\n",
       "      <td>0</td>\n",
       "      <td>1</td>\n",
       "      <td>0</td>\n",
       "      <td>0</td>\n",
       "      <td>0</td>\n",
       "      <td>1</td>\n",
       "      <td>1</td>\n",
       "      <td>0</td>\n",
       "    </tr>\n",
       "    <tr>\n",
       "      <th>38528</th>\n",
       "      <td>1</td>\n",
       "      <td>777957</td>\n",
       "      <td>2000</td>\n",
       "      <td>False</td>\n",
       "      <td>False</td>\n",
       "      <td>False</td>\n",
       "      <td>0</td>\n",
       "      <td>0</td>\n",
       "      <td>1</td>\n",
       "      <td>0</td>\n",
       "      <td>0</td>\n",
       "      <td>0</td>\n",
       "      <td>0</td>\n",
       "      <td>0</td>\n",
       "      <td>0</td>\n",
       "      <td>1</td>\n",
       "      <td>1</td>\n",
       "      <td>0</td>\n",
       "    </tr>\n",
       "    <tr>\n",
       "      <th>38529</th>\n",
       "      <td>0</td>\n",
       "      <td>20000</td>\n",
       "      <td>2001</td>\n",
       "      <td>False</td>\n",
       "      <td>False</td>\n",
       "      <td>False</td>\n",
       "      <td>0</td>\n",
       "      <td>0</td>\n",
       "      <td>1</td>\n",
       "      <td>0</td>\n",
       "      <td>0</td>\n",
       "      <td>0</td>\n",
       "      <td>0</td>\n",
       "      <td>0</td>\n",
       "      <td>0</td>\n",
       "      <td>1</td>\n",
       "      <td>1</td>\n",
       "      <td>0</td>\n",
       "    </tr>\n",
       "    <tr>\n",
       "      <th>38530</th>\n",
       "      <td>1</td>\n",
       "      <td>297729</td>\n",
       "      <td>2000</td>\n",
       "      <td>False</td>\n",
       "      <td>False</td>\n",
       "      <td>False</td>\n",
       "      <td>0</td>\n",
       "      <td>0</td>\n",
       "      <td>1</td>\n",
       "      <td>0</td>\n",
       "      <td>0</td>\n",
       "      <td>0</td>\n",
       "      <td>0</td>\n",
       "      <td>0</td>\n",
       "      <td>0</td>\n",
       "      <td>1</td>\n",
       "      <td>1</td>\n",
       "      <td>0</td>\n",
       "    </tr>\n",
       "  </tbody>\n",
       "</table>\n",
       "<p>38521 rows × 18 columns</p>\n",
       "</div>"
      ],
      "text/plain": [
       "       transmission  odometer_value  year_produced  feature_3  feature_6  \\\n",
       "0                 1          190000           2010       True      False   \n",
       "1                 1          290000           2002      False      False   \n",
       "2                 1          402000           2001      False      False   \n",
       "3                 0           10000           1999      False      False   \n",
       "4                 1          280000           2001       True      False   \n",
       "...             ...             ...            ...        ...        ...   \n",
       "38526             1          290000           2000      False      False   \n",
       "38527             0          321000           2004      False      False   \n",
       "38528             1          777957           2000      False      False   \n",
       "38529             0           20000           2001      False      False   \n",
       "38530             1          297729           2000      False      False   \n",
       "\n",
       "       feature_7  engine_fuel_diesel  engine_fuel_gas  engine_fuel_gasoline  \\\n",
       "0           True                   0                0                     1   \n",
       "1          False                   0                0                     1   \n",
       "2          False                   0                0                     1   \n",
       "3          False                   0                0                     1   \n",
       "4          False                   0                0                     1   \n",
       "...          ...                 ...              ...                   ...   \n",
       "38526      False                   0                0                     1   \n",
       "38527      False                   1                0                     0   \n",
       "38528      False                   0                0                     1   \n",
       "38529      False                   0                0                     1   \n",
       "38530      False                   0                0                     1   \n",
       "\n",
       "       engine_fuel_hybrid-petrol  body_type_cabriolet  body_type_hatchback  \\\n",
       "0                              0                    0                    0   \n",
       "1                              0                    0                    0   \n",
       "2                              0                    0                    0   \n",
       "3                              0                    0                    0   \n",
       "4                              0                    0                    0   \n",
       "...                          ...                  ...                  ...   \n",
       "38526                          0                    0                    0   \n",
       "38527                          0                    0                    1   \n",
       "38528                          0                    0                    0   \n",
       "38529                          0                    0                    0   \n",
       "38530                          0                    0                    0   \n",
       "\n",
       "       body_type_minibus  body_type_universal  state_new  state_owned  \\\n",
       "0                      0                    1          0            1   \n",
       "1                      0                    1          0            1   \n",
       "2                      0                    0          0            1   \n",
       "3                      0                    0          0            1   \n",
       "4                      0                    1          0            1   \n",
       "...                  ...                  ...        ...          ...   \n",
       "38526                  0                    0          0            1   \n",
       "38527                  0                    0          0            1   \n",
       "38528                  0                    0          0            1   \n",
       "38529                  0                    0          0            1   \n",
       "38530                  0                    0          0            1   \n",
       "\n",
       "       drivetrain_front  drivetrain_rear  \n",
       "0                     0                0  \n",
       "1                     0                0  \n",
       "2                     0                0  \n",
       "3                     0                0  \n",
       "4                     0                0  \n",
       "...                 ...              ...  \n",
       "38526                 1                0  \n",
       "38527                 1                0  \n",
       "38528                 1                0  \n",
       "38529                 1                0  \n",
       "38530                 1                0  \n",
       "\n",
       "[38521 rows x 18 columns]"
      ]
     },
     "execution_count": 66,
     "metadata": {},
     "output_type": "execute_result"
    }
   ],
   "source": [
    "features"
   ]
  },
  {
   "cell_type": "code",
   "execution_count": 67,
   "id": "331b0164",
   "metadata": {},
   "outputs": [
    {
     "data": {
      "text/html": [
       "<div>\n",
       "<style scoped>\n",
       "    .dataframe tbody tr th:only-of-type {\n",
       "        vertical-align: middle;\n",
       "    }\n",
       "\n",
       "    .dataframe tbody tr th {\n",
       "        vertical-align: top;\n",
       "    }\n",
       "\n",
       "    .dataframe thead th {\n",
       "        text-align: right;\n",
       "    }\n",
       "</style>\n",
       "<table border=\"1\" class=\"dataframe\">\n",
       "  <thead>\n",
       "    <tr style=\"text-align: right;\">\n",
       "      <th></th>\n",
       "      <th>price_usd</th>\n",
       "    </tr>\n",
       "  </thead>\n",
       "  <tbody>\n",
       "    <tr>\n",
       "      <th>0</th>\n",
       "      <td>10900.00</td>\n",
       "    </tr>\n",
       "    <tr>\n",
       "      <th>1</th>\n",
       "      <td>5000.00</td>\n",
       "    </tr>\n",
       "    <tr>\n",
       "      <th>2</th>\n",
       "      <td>2800.00</td>\n",
       "    </tr>\n",
       "    <tr>\n",
       "      <th>3</th>\n",
       "      <td>9999.00</td>\n",
       "    </tr>\n",
       "    <tr>\n",
       "      <th>4</th>\n",
       "      <td>2134.11</td>\n",
       "    </tr>\n",
       "    <tr>\n",
       "      <th>...</th>\n",
       "      <td>...</td>\n",
       "    </tr>\n",
       "    <tr>\n",
       "      <th>38526</th>\n",
       "      <td>2750.00</td>\n",
       "    </tr>\n",
       "    <tr>\n",
       "      <th>38527</th>\n",
       "      <td>4800.00</td>\n",
       "    </tr>\n",
       "    <tr>\n",
       "      <th>38528</th>\n",
       "      <td>4300.00</td>\n",
       "    </tr>\n",
       "    <tr>\n",
       "      <th>38529</th>\n",
       "      <td>4000.00</td>\n",
       "    </tr>\n",
       "    <tr>\n",
       "      <th>38530</th>\n",
       "      <td>3200.00</td>\n",
       "    </tr>\n",
       "  </tbody>\n",
       "</table>\n",
       "<p>38521 rows × 1 columns</p>\n",
       "</div>"
      ],
      "text/plain": [
       "       price_usd\n",
       "0       10900.00\n",
       "1        5000.00\n",
       "2        2800.00\n",
       "3        9999.00\n",
       "4        2134.11\n",
       "...          ...\n",
       "38526    2750.00\n",
       "38527    4800.00\n",
       "38528    4300.00\n",
       "38529    4000.00\n",
       "38530    3200.00\n",
       "\n",
       "[38521 rows x 1 columns]"
      ]
     },
     "execution_count": 67,
     "metadata": {},
     "output_type": "execute_result"
    }
   ],
   "source": [
    "target"
   ]
  },
  {
   "cell_type": "code",
   "execution_count": 68,
   "id": "bbbe1658",
   "metadata": {},
   "outputs": [],
   "source": [
    "x_train, x_test, y_train, y_test = train_test_split(features, target, test_size=0.20, random_state=12)\n"
   ]
  },
  {
   "cell_type": "code",
   "execution_count": 69,
   "id": "aa264427",
   "metadata": {},
   "outputs": [],
   "source": [
    "from sklearn.preprocessing import MinMaxScaler\n",
    "scaler = MinMaxScaler()\n",
    "scaler.fit(x_train)\n",
    "x_train = scaler.transform(x_train)\n",
    "x_test = scaler.transform(x_test)"
   ]
  },
  {
   "cell_type": "code",
   "execution_count": 70,
   "id": "78625487",
   "metadata": {},
   "outputs": [],
   "source": [
    "from sklearn.linear_model import LinearRegression\n",
    "reg = LinearRegression().fit(x_train, y_train)"
   ]
  },
  {
   "cell_type": "code",
   "execution_count": 71,
   "id": "1249e315",
   "metadata": {},
   "outputs": [
    {
     "data": {
      "text/plain": [
       "0.7023074753777857"
      ]
     },
     "execution_count": 71,
     "metadata": {},
     "output_type": "execute_result"
    }
   ],
   "source": [
    "reg.score(x_train, y_train)"
   ]
  },
  {
   "cell_type": "code",
   "execution_count": 72,
   "id": "597b3296",
   "metadata": {},
   "outputs": [
    {
     "name": "stderr",
     "output_type": "stream",
     "text": [
      "C:\\Users\\HP 14\\AppData\\Local\\Temp\\ipykernel_968\\3505141694.py:3: DataConversionWarning: A column-vector y was passed when a 1d array was expected. Please change the shape of y to (n_samples,), for example using ravel().\n",
      "  randForest_r.fit(x_train, y_train)\n"
     ]
    },
    {
     "data": {
      "text/plain": [
       "RandomForestRegressor(max_depth=10, random_state=0)"
      ]
     },
     "execution_count": 72,
     "metadata": {},
     "output_type": "execute_result"
    }
   ],
   "source": [
    "from sklearn.ensemble import RandomForestRegressor\n",
    "randForest_r = RandomForestRegressor(max_depth=10, random_state=0)\n",
    "randForest_r.fit(x_train, y_train)\n"
   ]
  },
  {
   "cell_type": "code",
   "execution_count": 73,
   "id": "c31c4e8c",
   "metadata": {},
   "outputs": [
    {
     "data": {
      "text/plain": [
       "0.8685454161756924"
      ]
     },
     "execution_count": 73,
     "metadata": {},
     "output_type": "execute_result"
    }
   ],
   "source": [
    "randForest_r.score(x_train, y_train)"
   ]
  },
  {
   "cell_type": "code",
   "execution_count": 74,
   "id": "5a3b2346",
   "metadata": {},
   "outputs": [
    {
     "data": {
      "text/plain": [
       "DecisionTreeRegressor(random_state=0)"
      ]
     },
     "execution_count": 74,
     "metadata": {},
     "output_type": "execute_result"
    }
   ],
   "source": [
    "from sklearn.tree import DecisionTreeRegressor\n",
    "dt = DecisionTreeRegressor(random_state=0)\n",
    "dt.fit(x_train,y_train)"
   ]
  },
  {
   "cell_type": "code",
   "execution_count": 75,
   "id": "2d45bf1a",
   "metadata": {},
   "outputs": [
    {
     "data": {
      "text/plain": [
       "0.9855131636992794"
      ]
     },
     "execution_count": 75,
     "metadata": {},
     "output_type": "execute_result"
    }
   ],
   "source": [
    "dt.score(x_train, y_train)"
   ]
  },
  {
   "cell_type": "code",
   "execution_count": 76,
   "id": "feac8f1c",
   "metadata": {},
   "outputs": [
    {
     "name": "stderr",
     "output_type": "stream",
     "text": [
      "C:\\ProgramData\\Anaconda3\\lib\\site-packages\\sklearn\\utils\\validation.py:993: DataConversionWarning: A column-vector y was passed when a 1d array was expected. Please change the shape of y to (n_samples, ), for example using ravel().\n",
      "  y = column_or_1d(y, warn=True)\n"
     ]
    },
    {
     "data": {
      "text/plain": [
       "SVR()"
      ]
     },
     "execution_count": 76,
     "metadata": {},
     "output_type": "execute_result"
    }
   ],
   "source": [
    "from sklearn.svm import SVR\n",
    "svr = SVR(kernel = 'rbf')\n",
    "svr.fit(x_train,y_train)"
   ]
  },
  {
   "cell_type": "code",
   "execution_count": 77,
   "id": "1a3271d0",
   "metadata": {},
   "outputs": [
    {
     "data": {
      "text/plain": [
       "0.17038785128720324"
      ]
     },
     "execution_count": 77,
     "metadata": {},
     "output_type": "execute_result"
    }
   ],
   "source": [
    "svr.score(x_train,y_train)"
   ]
  },
  {
   "cell_type": "code",
   "execution_count": 78,
   "id": "e5752385",
   "metadata": {},
   "outputs": [
    {
     "name": "stdout",
     "output_type": "stream",
     "text": [
      "Epoch 1/60\n",
      "963/963 [==============================] - 3s 3ms/step - loss: 2773.7400 - mae: 2773.7400\n",
      "Epoch 2/60\n",
      "963/963 [==============================] - 2s 2ms/step - loss: 2188.2283 - mae: 2188.2283\n",
      "Epoch 3/60\n",
      "963/963 [==============================] - 2s 2ms/step - loss: 2039.0098 - mae: 2039.0098\n",
      "Epoch 4/60\n",
      "963/963 [==============================] - 2s 2ms/step - loss: 1987.2377 - mae: 1987.2377\n",
      "Epoch 5/60\n",
      "963/963 [==============================] - 2s 2ms/step - loss: 1915.0862 - mae: 1915.0862\n",
      "Epoch 6/60\n",
      "963/963 [==============================] - 2s 2ms/step - loss: 1872.8383 - mae: 1872.8383\n",
      "Epoch 7/60\n",
      "963/963 [==============================] - 2s 3ms/step - loss: 1825.5996 - mae: 1825.5996\n",
      "Epoch 8/60\n",
      "963/963 [==============================] - 2s 3ms/step - loss: 1813.6797 - mae: 1813.6797\n",
      "Epoch 9/60\n",
      "963/963 [==============================] - 2s 2ms/step - loss: 1790.3405 - mae: 1790.3405\n",
      "Epoch 10/60\n",
      "963/963 [==============================] - 2s 2ms/step - loss: 1790.4032 - mae: 1790.4032\n",
      "Epoch 11/60\n",
      "963/963 [==============================] - 2s 3ms/step - loss: 1779.5840 - mae: 1779.5840\n",
      "Epoch 12/60\n",
      "963/963 [==============================] - 2s 3ms/step - loss: 1762.6031 - mae: 1762.6031\n",
      "Epoch 13/60\n",
      "963/963 [==============================] - 3s 3ms/step - loss: 1766.6318 - mae: 1766.6318\n",
      "Epoch 14/60\n",
      "963/963 [==============================] - 2s 2ms/step - loss: 1748.5406 - mae: 1748.5406\n",
      "Epoch 15/60\n",
      "963/963 [==============================] - 2s 2ms/step - loss: 1744.8322 - mae: 1744.8322\n",
      "Epoch 16/60\n",
      "963/963 [==============================] - 2s 2ms/step - loss: 1748.6656 - mae: 1748.6656\n",
      "Epoch 17/60\n",
      "963/963 [==============================] - 2s 3ms/step - loss: 1733.7344 - mae: 1733.7344\n",
      "Epoch 18/60\n",
      "963/963 [==============================] - 2s 3ms/step - loss: 1723.3058 - mae: 1723.3058\n",
      "Epoch 19/60\n",
      "963/963 [==============================] - 2s 3ms/step - loss: 1729.9402 - mae: 1729.9402\n",
      "Epoch 20/60\n",
      "963/963 [==============================] - 2s 2ms/step - loss: 1720.7722 - mae: 1720.7722\n",
      "Epoch 21/60\n",
      "963/963 [==============================] - 2s 2ms/step - loss: 1718.7843 - mae: 1718.7843\n",
      "Epoch 22/60\n",
      "963/963 [==============================] - 2s 2ms/step - loss: 1718.5111 - mae: 1718.5111\n",
      "Epoch 23/60\n",
      "963/963 [==============================] - 2s 2ms/step - loss: 1718.2437 - mae: 1718.2437\n",
      "Epoch 24/60\n",
      "963/963 [==============================] - 2s 2ms/step - loss: 1707.9584 - mae: 1707.9584\n",
      "Epoch 25/60\n",
      "963/963 [==============================] - 2s 2ms/step - loss: 1695.4858 - mae: 1695.4858\n",
      "Epoch 26/60\n",
      "963/963 [==============================] - 2s 2ms/step - loss: 1715.1068 - mae: 1715.1068\n",
      "Epoch 27/60\n",
      "963/963 [==============================] - 2s 2ms/step - loss: 1703.8933 - mae: 1703.8933\n",
      "Epoch 28/60\n",
      "963/963 [==============================] - 2s 2ms/step - loss: 1693.0732 - mae: 1693.0732\n",
      "Epoch 29/60\n",
      "963/963 [==============================] - 2s 2ms/step - loss: 1682.5200 - mae: 1682.5200\n",
      "Epoch 30/60\n",
      "963/963 [==============================] - 2s 2ms/step - loss: 1686.7152 - mae: 1686.7152\n",
      "Epoch 31/60\n",
      "963/963 [==============================] - 2s 2ms/step - loss: 1684.2603 - mae: 1684.2603\n",
      "Epoch 32/60\n",
      "963/963 [==============================] - 2s 2ms/step - loss: 1677.9458 - mae: 1677.9458\n",
      "Epoch 33/60\n",
      "963/963 [==============================] - 2s 2ms/step - loss: 1680.8542 - mae: 1680.8542\n",
      "Epoch 34/60\n",
      "963/963 [==============================] - 2s 2ms/step - loss: 1693.0901 - mae: 1693.0901\n",
      "Epoch 35/60\n",
      "963/963 [==============================] - 2s 2ms/step - loss: 1685.1239 - mae: 1685.1239\n",
      "Epoch 36/60\n",
      "963/963 [==============================] - 2s 2ms/step - loss: 1676.6019 - mae: 1676.6019\n",
      "Epoch 37/60\n",
      "963/963 [==============================] - 2s 2ms/step - loss: 1685.5531 - mae: 1685.5531\n",
      "Epoch 38/60\n",
      "963/963 [==============================] - 2s 2ms/step - loss: 1670.2543 - mae: 1670.2543\n",
      "Epoch 39/60\n",
      "963/963 [==============================] - 2s 2ms/step - loss: 1686.0969 - mae: 1686.0969\n",
      "Epoch 40/60\n",
      "963/963 [==============================] - 2s 2ms/step - loss: 1677.8973 - mae: 1677.8973\n",
      "Epoch 41/60\n",
      "963/963 [==============================] - 2s 2ms/step - loss: 1673.4059 - mae: 1673.4059\n",
      "Epoch 42/60\n",
      "963/963 [==============================] - 2s 2ms/step - loss: 1665.7153 - mae: 1665.7153\n",
      "Epoch 43/60\n",
      "963/963 [==============================] - 2s 2ms/step - loss: 1664.9622 - mae: 1664.9622\n",
      "Epoch 44/60\n",
      "963/963 [==============================] - 2s 2ms/step - loss: 1658.7498 - mae: 1658.7498\n",
      "Epoch 45/60\n",
      "963/963 [==============================] - 2s 2ms/step - loss: 1660.8961 - mae: 1660.8961\n",
      "Epoch 46/60\n",
      "963/963 [==============================] - 2s 2ms/step - loss: 1688.6245 - mae: 1688.6245\n",
      "Epoch 47/60\n",
      "963/963 [==============================] - 2s 2ms/step - loss: 1666.7474 - mae: 1666.7474\n",
      "Epoch 48/60\n",
      "963/963 [==============================] - 2s 2ms/step - loss: 1659.3749 - mae: 1659.3749\n",
      "Epoch 49/60\n",
      "963/963 [==============================] - 2s 2ms/step - loss: 1654.2695 - mae: 1654.2695\n",
      "Epoch 50/60\n",
      "963/963 [==============================] - 2s 2ms/step - loss: 1650.0546 - mae: 1650.0546\n",
      "Epoch 51/60\n",
      "963/963 [==============================] - 2s 2ms/step - loss: 1657.9973 - mae: 1657.9973\n",
      "Epoch 52/60\n",
      "963/963 [==============================] - 2s 2ms/step - loss: 1656.6036 - mae: 1656.6036\n",
      "Epoch 53/60\n",
      "963/963 [==============================] - 2s 2ms/step - loss: 1652.6808 - mae: 1652.6808\n",
      "Epoch 54/60\n",
      "963/963 [==============================] - 2s 2ms/step - loss: 1650.8031 - mae: 1650.8031\n",
      "Epoch 55/60\n",
      "963/963 [==============================] - 2s 2ms/step - loss: 1651.5179 - mae: 1651.5179\n",
      "Epoch 56/60\n",
      "963/963 [==============================] - 2s 2ms/step - loss: 1657.3586 - mae: 1657.3586\n",
      "Epoch 57/60\n",
      "963/963 [==============================] - 2s 2ms/step - loss: 1648.2234 - mae: 1648.2234\n",
      "Epoch 58/60\n",
      "963/963 [==============================] - 2s 2ms/step - loss: 1655.2415 - mae: 1655.2415\n",
      "Epoch 59/60\n",
      "963/963 [==============================] - 2s 2ms/step - loss: 1651.5189 - mae: 1651.5189\n",
      "Epoch 60/60\n",
      "963/963 [==============================] - 2s 2ms/step - loss: 1653.5155 - mae: 1653.5155\n"
     ]
    },
    {
     "data": {
      "text/plain": [
       "<keras.callbacks.History at 0x25ed617a580>"
      ]
     },
     "execution_count": 78,
     "metadata": {},
     "output_type": "execute_result"
    }
   ],
   "source": [
    "model = tf.keras.Sequential([\n",
    "  tf.keras.layers.Dense(100, activation = tf.keras.activations.relu),\n",
    "  tf.keras.layers.Dense(10),\n",
    "  tf.keras.layers.Dense(1)\n",
    "])\n",
    "model.compile(loss=tf.keras.losses.mae,\n",
    "                optimizer=tf.keras.optimizers.SGD(),\n",
    "                metrics=['mae'])\n",
    "model.fit(x_train, y_train, epochs=60)"
   ]
  },
  {
   "cell_type": "code",
   "execution_count": 79,
   "id": "3fce3eee",
   "metadata": {},
   "outputs": [
    {
     "name": "stdout",
     "output_type": "stream",
     "text": [
      "tf.Tensor(0.8149257524582667, shape=(), dtype=float64)\n"
     ]
    },
    {
     "name": "stderr",
     "output_type": "stream",
     "text": [
      "C:\\ProgramData\\Anaconda3\\lib\\site-packages\\numpy\\core\\fromnumeric.py:3438: FutureWarning: In a future version, DataFrame.mean(axis=None) will return a scalar mean over the entire DataFrame. To retain the old behavior, use 'frame.mean(axis=0)' or just 'frame.mean()'\n",
      "  return mean(axis=axis, dtype=dtype, out=out, **kwargs)\n"
     ]
    }
   ],
   "source": [
    "p = model.predict(x_train)\n",
    "SS_res =  K.sum(K.square( y_train-p))\n",
    "SS_tot = K.sum(K.square( y_train - np.mean(y_train) ) )\n",
    "print( 1 - SS_res/(SS_tot + K.epsilon()) )"
   ]
  },
  {
   "cell_type": "markdown",
   "id": "3a79a428",
   "metadata": {},
   "source": [
    "### Test Results"
   ]
  },
  {
   "cell_type": "code",
   "execution_count": 80,
   "id": "cfc946e7",
   "metadata": {},
   "outputs": [],
   "source": [
    "from sklearn.metrics import mean_absolute_percentage_error\n",
    "from sklearn.metrics import r2_score\n",
    "from sklearn.metrics import mean_squared_error\n",
    "from sklearn.metrics import mean_absolute_error"
   ]
  },
  {
   "cell_type": "code",
   "execution_count": 81,
   "id": "b2371ee2",
   "metadata": {},
   "outputs": [
    {
     "name": "stdout",
     "output_type": "stream",
     "text": [
      "Linear Regression\n",
      "MAPE :  1.3193333319283582\n",
      "R2-Score :  0.7109498584499652\n",
      "MAE:  2214.3786958111255\n",
      "MSE :  12308485.256707342\n",
      "RMSE :  3508.345088030444\n"
     ]
    }
   ],
   "source": [
    "preds = reg.predict(x_test)\n",
    "print(\"Linear Regression\")\n",
    "print(\"MAPE : \",mean_absolute_percentage_error(y_test,preds))\n",
    "print(\"R2-Score : \",r2_score(y_test,preds))\n",
    "print(\"MAE: \",mean_absolute_error(y_test,preds))\n",
    "print(\"MSE : \",mean_squared_error(y_test,preds))\n",
    "print(\"RMSE : \",mean_squared_error(y_test,preds,squared=False))"
   ]
  },
  {
   "cell_type": "code",
   "execution_count": 82,
   "id": "18ea8861",
   "metadata": {},
   "outputs": [
    {
     "name": "stdout",
     "output_type": "stream",
     "text": [
      "Random Forest Regression\n",
      "MAPE :  0.9777590510895993\n",
      "R2-Score :  0.8308417782708473\n",
      "MAE:  1601.4920020153534\n",
      "MSE :  7203184.426891888\n",
      "RMSE :  2683.874890320316\n"
     ]
    }
   ],
   "source": [
    "preds = randForest_r.predict(x_test)\n",
    "print(\"Random Forest Regression\")\n",
    "print(\"MAPE : \",mean_absolute_percentage_error(y_test,preds))\n",
    "print(\"R2-Score : \",r2_score(y_test,preds))\n",
    "print(\"MAE: \",mean_absolute_error(y_test,preds))\n",
    "print(\"MSE : \",mean_squared_error(y_test,preds))\n",
    "print(\"RMSE : \",mean_squared_error(y_test,preds,squared=False))"
   ]
  },
  {
   "cell_type": "code",
   "execution_count": 83,
   "id": "cf0a367c",
   "metadata": {},
   "outputs": [
    {
     "name": "stdout",
     "output_type": "stream",
     "text": [
      "Decision Tree Regression\n",
      "MAPE :  1.0451582020910215\n",
      "R2-Score :  0.7012016012669657\n",
      "MAE:  2086.431569624871\n",
      "MSE :  12723590.674653552\n",
      "RMSE :  3567.014252095659\n"
     ]
    }
   ],
   "source": [
    "preds = dt.predict(x_test)\n",
    "print(\"Decision Tree Regression\")\n",
    "print(\"MAPE : \",mean_absolute_percentage_error(y_test,preds))\n",
    "print(\"R2-Score : \",r2_score(y_test,preds))\n",
    "print(\"MAE: \",mean_absolute_error(y_test,preds))\n",
    "print(\"MSE : \",mean_squared_error(y_test,preds))\n",
    "print(\"RMSE : \",mean_squared_error(y_test,preds,squared=False))"
   ]
  },
  {
   "cell_type": "code",
   "execution_count": 84,
   "id": "8602f847",
   "metadata": {},
   "outputs": [
    {
     "name": "stdout",
     "output_type": "stream",
     "text": [
      "SVM Regression\n",
      "MAPE :  2.6345659480873636\n",
      "R2-Score :  0.16648006031004825\n",
      "MAE:  3649.694830503943\n",
      "MSE :  35493384.75957624\n",
      "RMSE :  5957.632479397856\n"
     ]
    }
   ],
   "source": [
    "preds = svr.predict(x_test)\n",
    "print(\"SVM Regression\")\n",
    "print(\"MAPE : \",mean_absolute_percentage_error(y_test,preds))\n",
    "print(\"R2-Score : \",r2_score(y_test,preds))\n",
    "print(\"MAE: \",mean_absolute_error(y_test,preds))\n",
    "print(\"MSE : \",mean_squared_error(y_test,preds))\n",
    "print(\"RMSE : \",mean_squared_error(y_test,preds,squared=False))"
   ]
  },
  {
   "cell_type": "code",
   "execution_count": 85,
   "id": "2bf3d270",
   "metadata": {},
   "outputs": [
    {
     "name": "stdout",
     "output_type": "stream",
     "text": [
      "ANN Regression\n",
      "MAPE :  0.8100156188047583\n",
      "R2-Score :  0.8156429609489805\n",
      "MAE:  1617.9910603574374\n",
      "MSE :  7850388.465341402\n",
      "RMSE :  2801.8544689796795\n"
     ]
    }
   ],
   "source": [
    "preds = model.predict(x_test)\n",
    "print(\"ANN Regression\")\n",
    "print(\"MAPE : \",mean_absolute_percentage_error(y_test,preds))\n",
    "print(\"R2-Score : \",r2_score(y_test,preds))\n",
    "print(\"MAE: \",mean_absolute_error(y_test,preds))\n",
    "print(\"MSE : \",mean_squared_error(y_test,preds))\n",
    "print(\"RMSE : \",mean_squared_error(y_test,preds,squared=False))"
   ]
  },
  {
   "cell_type": "markdown",
   "id": "7e1a8144",
   "metadata": {},
   "source": [
    "### Applying PCA"
   ]
  },
  {
   "cell_type": "code",
   "execution_count": 86,
   "id": "11598989",
   "metadata": {},
   "outputs": [],
   "source": [
    "from sklearn.decomposition import PCA\n",
    "from sklearn.preprocessing import StandardScaler"
   ]
  },
  {
   "cell_type": "code",
   "execution_count": 87,
   "id": "ecaaafcc",
   "metadata": {},
   "outputs": [],
   "source": [
    "scaler = StandardScaler()\n",
    "# x_train, x_test, y_train, y_test = train_test_split(features, target, test_size=0.20, random_state=12)\n",
    "\n",
    "scaler.fit(features)\n",
    "features_p = scaler.transform(features)\n",
    "\n",
    "pca = PCA(n_components=6,svd_solver=\"full\")\n",
    "features_p = pca.fit_transform(features_p)\n",
    "\n",
    "features_p = pd.DataFrame(features_p)\n",
    "\n",
    "x_train, x_test, y_train, y_test = train_test_split(features_p, target, test_size=0.20, random_state=12)\n"
   ]
  },
  {
   "cell_type": "code",
   "execution_count": 88,
   "id": "23d74338",
   "metadata": {},
   "outputs": [
    {
     "data": {
      "text/html": [
       "<div>\n",
       "<style scoped>\n",
       "    .dataframe tbody tr th:only-of-type {\n",
       "        vertical-align: middle;\n",
       "    }\n",
       "\n",
       "    .dataframe tbody tr th {\n",
       "        vertical-align: top;\n",
       "    }\n",
       "\n",
       "    .dataframe thead th {\n",
       "        text-align: right;\n",
       "    }\n",
       "</style>\n",
       "<table border=\"1\" class=\"dataframe\">\n",
       "  <thead>\n",
       "    <tr style=\"text-align: right;\">\n",
       "      <th></th>\n",
       "      <th>0</th>\n",
       "      <th>1</th>\n",
       "      <th>2</th>\n",
       "      <th>3</th>\n",
       "      <th>4</th>\n",
       "      <th>5</th>\n",
       "    </tr>\n",
       "  </thead>\n",
       "  <tbody>\n",
       "    <tr>\n",
       "      <th>13771</th>\n",
       "      <td>-0.484282</td>\n",
       "      <td>-0.897003</td>\n",
       "      <td>0.370643</td>\n",
       "      <td>-1.769250</td>\n",
       "      <td>-1.359703</td>\n",
       "      <td>0.039698</td>\n",
       "    </tr>\n",
       "    <tr>\n",
       "      <th>13171</th>\n",
       "      <td>-0.263903</td>\n",
       "      <td>0.954042</td>\n",
       "      <td>-0.617956</td>\n",
       "      <td>-0.053556</td>\n",
       "      <td>0.205992</td>\n",
       "      <td>-0.231654</td>\n",
       "    </tr>\n",
       "    <tr>\n",
       "      <th>36110</th>\n",
       "      <td>-1.319766</td>\n",
       "      <td>-0.386471</td>\n",
       "      <td>0.633376</td>\n",
       "      <td>-1.613337</td>\n",
       "      <td>-1.450891</td>\n",
       "      <td>0.146042</td>\n",
       "    </tr>\n",
       "    <tr>\n",
       "      <th>28477</th>\n",
       "      <td>-0.893143</td>\n",
       "      <td>-0.550657</td>\n",
       "      <td>-0.805773</td>\n",
       "      <td>2.916396</td>\n",
       "      <td>-0.006856</td>\n",
       "      <td>-0.384606</td>\n",
       "    </tr>\n",
       "    <tr>\n",
       "      <th>6610</th>\n",
       "      <td>-1.168436</td>\n",
       "      <td>-1.001696</td>\n",
       "      <td>0.818455</td>\n",
       "      <td>-1.040454</td>\n",
       "      <td>-0.310231</td>\n",
       "      <td>-0.074251</td>\n",
       "    </tr>\n",
       "    <tr>\n",
       "      <th>...</th>\n",
       "      <td>...</td>\n",
       "      <td>...</td>\n",
       "      <td>...</td>\n",
       "      <td>...</td>\n",
       "      <td>...</td>\n",
       "      <td>...</td>\n",
       "    </tr>\n",
       "    <tr>\n",
       "      <th>12108</th>\n",
       "      <td>-0.093995</td>\n",
       "      <td>-0.492559</td>\n",
       "      <td>0.378851</td>\n",
       "      <td>0.503925</td>\n",
       "      <td>1.485201</td>\n",
       "      <td>4.598378</td>\n",
       "    </tr>\n",
       "    <tr>\n",
       "      <th>9475</th>\n",
       "      <td>-1.268390</td>\n",
       "      <td>-1.062176</td>\n",
       "      <td>0.785081</td>\n",
       "      <td>-1.003123</td>\n",
       "      <td>-0.287034</td>\n",
       "      <td>-0.068960</td>\n",
       "    </tr>\n",
       "    <tr>\n",
       "      <th>36482</th>\n",
       "      <td>-1.499377</td>\n",
       "      <td>-1.607703</td>\n",
       "      <td>1.013266</td>\n",
       "      <td>-1.522528</td>\n",
       "      <td>1.627444</td>\n",
       "      <td>-0.832426</td>\n",
       "    </tr>\n",
       "    <tr>\n",
       "      <th>19709</th>\n",
       "      <td>-1.201594</td>\n",
       "      <td>-1.465039</td>\n",
       "      <td>1.120301</td>\n",
       "      <td>-1.651809</td>\n",
       "      <td>1.560272</td>\n",
       "      <td>-0.848586</td>\n",
       "    </tr>\n",
       "    <tr>\n",
       "      <th>14155</th>\n",
       "      <td>2.412067</td>\n",
       "      <td>-1.135944</td>\n",
       "      <td>-0.129421</td>\n",
       "      <td>-1.977549</td>\n",
       "      <td>-1.328357</td>\n",
       "      <td>0.247965</td>\n",
       "    </tr>\n",
       "  </tbody>\n",
       "</table>\n",
       "<p>30816 rows × 6 columns</p>\n",
       "</div>"
      ],
      "text/plain": [
       "              0         1         2         3         4         5\n",
       "13771 -0.484282 -0.897003  0.370643 -1.769250 -1.359703  0.039698\n",
       "13171 -0.263903  0.954042 -0.617956 -0.053556  0.205992 -0.231654\n",
       "36110 -1.319766 -0.386471  0.633376 -1.613337 -1.450891  0.146042\n",
       "28477 -0.893143 -0.550657 -0.805773  2.916396 -0.006856 -0.384606\n",
       "6610  -1.168436 -1.001696  0.818455 -1.040454 -0.310231 -0.074251\n",
       "...         ...       ...       ...       ...       ...       ...\n",
       "12108 -0.093995 -0.492559  0.378851  0.503925  1.485201  4.598378\n",
       "9475  -1.268390 -1.062176  0.785081 -1.003123 -0.287034 -0.068960\n",
       "36482 -1.499377 -1.607703  1.013266 -1.522528  1.627444 -0.832426\n",
       "19709 -1.201594 -1.465039  1.120301 -1.651809  1.560272 -0.848586\n",
       "14155  2.412067 -1.135944 -0.129421 -1.977549 -1.328357  0.247965\n",
       "\n",
       "[30816 rows x 6 columns]"
      ]
     },
     "execution_count": 88,
     "metadata": {},
     "output_type": "execute_result"
    }
   ],
   "source": [
    "x_train"
   ]
  },
  {
   "cell_type": "code",
   "execution_count": 89,
   "id": "7f35e476",
   "metadata": {},
   "outputs": [
    {
     "data": {
      "text/html": [
       "<div>\n",
       "<style scoped>\n",
       "    .dataframe tbody tr th:only-of-type {\n",
       "        vertical-align: middle;\n",
       "    }\n",
       "\n",
       "    .dataframe tbody tr th {\n",
       "        vertical-align: top;\n",
       "    }\n",
       "\n",
       "    .dataframe thead th {\n",
       "        text-align: right;\n",
       "    }\n",
       "</style>\n",
       "<table border=\"1\" class=\"dataframe\">\n",
       "  <thead>\n",
       "    <tr style=\"text-align: right;\">\n",
       "      <th></th>\n",
       "      <th>price_usd</th>\n",
       "    </tr>\n",
       "  </thead>\n",
       "  <tbody>\n",
       "    <tr>\n",
       "      <th>13773</th>\n",
       "      <td>4700.0</td>\n",
       "    </tr>\n",
       "    <tr>\n",
       "      <th>13173</th>\n",
       "      <td>1400.0</td>\n",
       "    </tr>\n",
       "    <tr>\n",
       "      <th>36120</th>\n",
       "      <td>5950.0</td>\n",
       "    </tr>\n",
       "    <tr>\n",
       "      <th>28486</th>\n",
       "      <td>6100.0</td>\n",
       "    </tr>\n",
       "    <tr>\n",
       "      <th>6610</th>\n",
       "      <td>2950.0</td>\n",
       "    </tr>\n",
       "    <tr>\n",
       "      <th>...</th>\n",
       "      <td>...</td>\n",
       "    </tr>\n",
       "    <tr>\n",
       "      <th>12110</th>\n",
       "      <td>7990.0</td>\n",
       "    </tr>\n",
       "    <tr>\n",
       "      <th>9477</th>\n",
       "      <td>3700.0</td>\n",
       "    </tr>\n",
       "    <tr>\n",
       "      <th>36492</th>\n",
       "      <td>4100.0</td>\n",
       "    </tr>\n",
       "    <tr>\n",
       "      <th>19711</th>\n",
       "      <td>7950.0</td>\n",
       "    </tr>\n",
       "    <tr>\n",
       "      <th>14157</th>\n",
       "      <td>4500.0</td>\n",
       "    </tr>\n",
       "  </tbody>\n",
       "</table>\n",
       "<p>30816 rows × 1 columns</p>\n",
       "</div>"
      ],
      "text/plain": [
       "       price_usd\n",
       "13773     4700.0\n",
       "13173     1400.0\n",
       "36120     5950.0\n",
       "28486     6100.0\n",
       "6610      2950.0\n",
       "...          ...\n",
       "12110     7990.0\n",
       "9477      3700.0\n",
       "36492     4100.0\n",
       "19711     7950.0\n",
       "14157     4500.0\n",
       "\n",
       "[30816 rows x 1 columns]"
      ]
     },
     "execution_count": 89,
     "metadata": {},
     "output_type": "execute_result"
    }
   ],
   "source": [
    "y_train"
   ]
  },
  {
   "cell_type": "code",
   "execution_count": 90,
   "id": "4f2161af",
   "metadata": {},
   "outputs": [
    {
     "data": {
      "text/plain": [
       "0.6241139642509139"
      ]
     },
     "execution_count": 90,
     "metadata": {},
     "output_type": "execute_result"
    }
   ],
   "source": [
    "from sklearn.linear_model import LinearRegression\n",
    "reg = LinearRegression().fit(x_train, y_train)\n",
    "reg.score(x_train, y_train)"
   ]
  },
  {
   "cell_type": "code",
   "execution_count": 91,
   "id": "3f0ebb95",
   "metadata": {},
   "outputs": [
    {
     "name": "stderr",
     "output_type": "stream",
     "text": [
      "C:\\Users\\HP 14\\AppData\\Local\\Temp\\ipykernel_968\\66356846.py:3: DataConversionWarning: A column-vector y was passed when a 1d array was expected. Please change the shape of y to (n_samples,), for example using ravel().\n",
      "  randForest_r.fit(x_train, y_train)\n"
     ]
    },
    {
     "data": {
      "text/plain": [
       "0.849877932651892"
      ]
     },
     "execution_count": 91,
     "metadata": {},
     "output_type": "execute_result"
    }
   ],
   "source": [
    "from sklearn.ensemble import RandomForestRegressor\n",
    "randForest_r = RandomForestRegressor(max_depth=10, random_state=0)\n",
    "randForest_r.fit(x_train, y_train)\n",
    "randForest_r.score(x_train, y_train)"
   ]
  },
  {
   "cell_type": "code",
   "execution_count": 92,
   "id": "f2ef2c12",
   "metadata": {},
   "outputs": [
    {
     "data": {
      "text/plain": [
       "0.9855131636992794"
      ]
     },
     "execution_count": 92,
     "metadata": {},
     "output_type": "execute_result"
    }
   ],
   "source": [
    "from sklearn.tree import DecisionTreeRegressor\n",
    "dt = DecisionTreeRegressor(random_state=0)\n",
    "dt.fit(x_train,y_train)\n",
    "dt.score(x_train, y_train)"
   ]
  },
  {
   "cell_type": "code",
   "execution_count": 93,
   "id": "82c79a84",
   "metadata": {},
   "outputs": [
    {
     "name": "stderr",
     "output_type": "stream",
     "text": [
      "C:\\ProgramData\\Anaconda3\\lib\\site-packages\\sklearn\\utils\\validation.py:993: DataConversionWarning: A column-vector y was passed when a 1d array was expected. Please change the shape of y to (n_samples, ), for example using ravel().\n",
      "  y = column_or_1d(y, warn=True)\n"
     ]
    },
    {
     "data": {
      "text/plain": [
       "0.23496477579040265"
      ]
     },
     "execution_count": 93,
     "metadata": {},
     "output_type": "execute_result"
    }
   ],
   "source": [
    "from sklearn.svm import SVR\n",
    "svr = SVR(kernel = 'rbf')\n",
    "svr.fit(x_train,y_train)\n",
    "svr.score(x_train,y_train)"
   ]
  },
  {
   "cell_type": "code",
   "execution_count": 94,
   "id": "fb3b9bda",
   "metadata": {},
   "outputs": [
    {
     "name": "stdout",
     "output_type": "stream",
     "text": [
      "Epoch 1/60\n",
      "963/963 [==============================] - 3s 2ms/step - loss: 2859.0205 - mae: 2859.0205\n",
      "Epoch 2/60\n",
      "963/963 [==============================] - 2s 2ms/step - loss: 2328.0566 - mae: 2328.0566\n",
      "Epoch 3/60\n",
      "963/963 [==============================] - 2s 2ms/step - loss: 2322.1924 - mae: 2322.1924\n",
      "Epoch 4/60\n",
      "963/963 [==============================] - 2s 2ms/step - loss: 2326.9419 - mae: 2326.9419\n",
      "Epoch 5/60\n",
      "963/963 [==============================] - 2s 2ms/step - loss: 2302.6396 - mae: 2302.6396\n",
      "Epoch 6/60\n",
      "963/963 [==============================] - 2s 2ms/step - loss: 2291.1475 - mae: 2291.1475\n",
      "Epoch 7/60\n",
      "963/963 [==============================] - 2s 2ms/step - loss: 2305.6260 - mae: 2305.6260\n",
      "Epoch 8/60\n",
      "963/963 [==============================] - 2s 2ms/step - loss: 2295.4512 - mae: 2295.4512\n",
      "Epoch 9/60\n",
      "963/963 [==============================] - 2s 2ms/step - loss: 2283.9749 - mae: 2283.9749\n",
      "Epoch 10/60\n",
      "963/963 [==============================] - 2s 2ms/step - loss: 2284.8472 - mae: 2284.8472\n",
      "Epoch 11/60\n",
      "963/963 [==============================] - 2s 2ms/step - loss: 2300.2261 - mae: 2300.2261\n",
      "Epoch 12/60\n",
      "963/963 [==============================] - 2s 2ms/step - loss: 2273.6719 - mae: 2273.6719\n",
      "Epoch 13/60\n",
      "963/963 [==============================] - 2s 2ms/step - loss: 2264.2749 - mae: 2264.2749\n",
      "Epoch 14/60\n",
      "963/963 [==============================] - 2s 2ms/step - loss: 2266.7417 - mae: 2266.7417\n",
      "Epoch 15/60\n",
      "963/963 [==============================] - 2s 2ms/step - loss: 2262.8354 - mae: 2262.8354\n",
      "Epoch 16/60\n",
      "963/963 [==============================] - 2s 2ms/step - loss: 2246.7090 - mae: 2246.7090\n",
      "Epoch 17/60\n",
      "963/963 [==============================] - 2s 2ms/step - loss: 2253.2998 - mae: 2253.2998\n",
      "Epoch 18/60\n",
      "963/963 [==============================] - 2s 2ms/step - loss: 2230.6934 - mae: 2230.6934\n",
      "Epoch 19/60\n",
      "963/963 [==============================] - 2s 2ms/step - loss: 2247.1199 - mae: 2247.1199\n",
      "Epoch 20/60\n",
      "963/963 [==============================] - 2s 2ms/step - loss: 2241.2292 - mae: 2241.2292\n",
      "Epoch 21/60\n",
      "963/963 [==============================] - 2s 2ms/step - loss: 2225.3640 - mae: 2225.3640\n",
      "Epoch 22/60\n",
      "963/963 [==============================] - 2s 2ms/step - loss: 2234.1970 - mae: 2234.1970\n",
      "Epoch 23/60\n",
      "963/963 [==============================] - 2s 2ms/step - loss: 2229.6150 - mae: 2229.6150\n",
      "Epoch 24/60\n",
      "963/963 [==============================] - 2s 2ms/step - loss: 2232.4009 - mae: 2232.4009\n",
      "Epoch 25/60\n",
      "963/963 [==============================] - 2s 2ms/step - loss: 2230.6597 - mae: 2230.6597\n",
      "Epoch 26/60\n",
      "963/963 [==============================] - 1s 1ms/step - loss: 2216.9846 - mae: 2216.9846\n",
      "Epoch 27/60\n",
      "963/963 [==============================] - 1s 1ms/step - loss: 2239.3721 - mae: 2239.3721\n",
      "Epoch 28/60\n",
      "963/963 [==============================] - 1s 1ms/step - loss: 2208.4934 - mae: 2208.4934\n",
      "Epoch 29/60\n",
      "963/963 [==============================] - 1s 1ms/step - loss: 2226.0588 - mae: 2226.0588\n",
      "Epoch 30/60\n",
      "963/963 [==============================] - 1s 1ms/step - loss: 2221.6287 - mae: 2221.6287\n",
      "Epoch 31/60\n",
      "963/963 [==============================] - 1s 1ms/step - loss: 2219.9333 - mae: 2219.9333\n",
      "Epoch 32/60\n",
      "963/963 [==============================] - 1s 1ms/step - loss: 2250.7463 - mae: 2250.7463\n",
      "Epoch 33/60\n",
      "963/963 [==============================] - 158s 164ms/step - loss: 2219.1726 - mae: 2219.1726\n",
      "Epoch 34/60\n",
      "963/963 [==============================] - 2s 2ms/step - loss: 2226.6426 - mae: 2226.6426\n",
      "Epoch 35/60\n",
      "963/963 [==============================] - 2s 2ms/step - loss: 2209.5669 - mae: 2209.5669\n",
      "Epoch 36/60\n",
      "963/963 [==============================] - 1s 1ms/step - loss: 2241.8625 - mae: 2241.8625\n",
      "Epoch 37/60\n",
      "963/963 [==============================] - 1s 1ms/step - loss: 2209.3184 - mae: 2209.3184\n",
      "Epoch 38/60\n",
      "963/963 [==============================] - 1s 1ms/step - loss: 2214.8552 - mae: 2214.8552\n",
      "Epoch 39/60\n",
      "963/963 [==============================] - 1s 1ms/step - loss: 2226.4727 - mae: 2226.4727\n",
      "Epoch 40/60\n",
      "963/963 [==============================] - 1s 1ms/step - loss: 2221.8794 - mae: 2221.8794\n",
      "Epoch 41/60\n",
      "963/963 [==============================] - 1s 1ms/step - loss: 2184.8193 - mae: 2184.8193\n",
      "Epoch 42/60\n",
      "963/963 [==============================] - 1s 1ms/step - loss: 2209.2734 - mae: 2209.2734\n",
      "Epoch 43/60\n",
      "963/963 [==============================] - 1s 1ms/step - loss: 2180.6506 - mae: 2180.6506\n",
      "Epoch 44/60\n",
      "963/963 [==============================] - 1s 1ms/step - loss: 2194.3220 - mae: 2194.3220\n",
      "Epoch 45/60\n",
      "963/963 [==============================] - 1s 1ms/step - loss: 2199.2856 - mae: 2199.2856\n",
      "Epoch 46/60\n",
      "963/963 [==============================] - 1s 1ms/step - loss: 2225.1775 - mae: 2225.1775\n",
      "Epoch 47/60\n",
      "963/963 [==============================] - 2s 2ms/step - loss: 2206.1228 - mae: 2206.1228\n",
      "Epoch 48/60\n",
      "963/963 [==============================] - 2s 2ms/step - loss: 2229.5449 - mae: 2229.5449\n",
      "Epoch 49/60\n",
      "963/963 [==============================] - 2s 2ms/step - loss: 2191.4048 - mae: 2191.4048\n",
      "Epoch 50/60\n",
      "963/963 [==============================] - 1s 1ms/step - loss: 2212.0166 - mae: 2212.0166\n",
      "Epoch 51/60\n",
      "963/963 [==============================] - 1s 1ms/step - loss: 2183.4968 - mae: 2183.4968\n",
      "Epoch 52/60\n",
      "963/963 [==============================] - 1s 1ms/step - loss: 2210.9810 - mae: 2210.9810\n",
      "Epoch 53/60\n",
      "963/963 [==============================] - 1s 1ms/step - loss: 2194.6763 - mae: 2194.6763\n",
      "Epoch 54/60\n",
      "963/963 [==============================] - 1s 1ms/step - loss: 2193.5986 - mae: 2193.5986\n",
      "Epoch 55/60\n",
      "963/963 [==============================] - 1s 1ms/step - loss: 2200.4460 - mae: 2200.4460\n",
      "Epoch 56/60\n",
      "963/963 [==============================] - 1s 1ms/step - loss: 2200.5803 - mae: 2200.5803\n",
      "Epoch 57/60\n",
      "963/963 [==============================] - 1s 1ms/step - loss: 2185.7244 - mae: 2185.7244\n",
      "Epoch 58/60\n",
      "963/963 [==============================] - 1s 1ms/step - loss: 2179.2493 - mae: 2179.2493\n",
      "Epoch 59/60\n",
      "963/963 [==============================] - 1s 1ms/step - loss: 2193.7876 - mae: 2193.7876\n",
      "Epoch 60/60\n",
      "963/963 [==============================] - 1s 1ms/step - loss: 2193.4036 - mae: 2193.4036\n",
      "tf.Tensor(0.7010618374390372, shape=(), dtype=float64)\n"
     ]
    },
    {
     "name": "stderr",
     "output_type": "stream",
     "text": [
      "C:\\ProgramData\\Anaconda3\\lib\\site-packages\\numpy\\core\\fromnumeric.py:3438: FutureWarning: In a future version, DataFrame.mean(axis=None) will return a scalar mean over the entire DataFrame. To retain the old behavior, use 'frame.mean(axis=0)' or just 'frame.mean()'\n",
      "  return mean(axis=axis, dtype=dtype, out=out, **kwargs)\n"
     ]
    }
   ],
   "source": [
    "model = tf.keras.Sequential([\n",
    "  tf.keras.layers.Dense(100, activation = tf.keras.activations.relu),\n",
    "  tf.keras.layers.Dense(10),\n",
    "  tf.keras.layers.Dense(1)\n",
    "])\n",
    "model.compile(loss=tf.keras.losses.mae,\n",
    "                optimizer=tf.keras.optimizers.SGD(),\n",
    "                metrics=['mae'])\n",
    "model.fit(x_train, y_train, epochs=60)\n",
    "\n",
    "p = model.predict(x_train)\n",
    "SS_res =  K.sum(K.square( y_train-p))\n",
    "SS_tot = K.sum(K.square( y_train - np.mean(y_train) ) )\n",
    "print( 1 - SS_res/(SS_tot + K.epsilon()) )"
   ]
  },
  {
   "cell_type": "markdown",
   "id": "59ebe4eb",
   "metadata": {},
   "source": [
    "### Test Results (PCA)"
   ]
  },
  {
   "cell_type": "code",
   "execution_count": 95,
   "id": "0987dcef",
   "metadata": {},
   "outputs": [
    {
     "name": "stdout",
     "output_type": "stream",
     "text": [
      "Linear Regression\n",
      "MAPE :  1.5393405169138323\n",
      "R2-Score :  0.633258730689273\n",
      "MAE:  2516.316716095277\n",
      "MSE :  15616769.748427322\n",
      "RMSE :  3951.8058844567913\n"
     ]
    }
   ],
   "source": [
    "preds = reg.predict(x_test)\n",
    "print(\"Linear Regression\")\n",
    "print(\"MAPE : \",mean_absolute_percentage_error(y_test,preds))\n",
    "print(\"R2-Score : \",r2_score(y_test,preds))\n",
    "print(\"MAE: \",mean_absolute_error(y_test,preds))\n",
    "print(\"MSE : \",mean_squared_error(y_test,preds))\n",
    "print(\"RMSE : \",mean_squared_error(y_test,preds,squared=False))"
   ]
  },
  {
   "cell_type": "code",
   "execution_count": 96,
   "id": "8ca6f040",
   "metadata": {},
   "outputs": [
    {
     "name": "stdout",
     "output_type": "stream",
     "text": [
      "Random Forest Regression\n",
      "MAPE :  1.0956532171799043\n",
      "R2-Score :  0.7998942339488297\n",
      "MAE:  1768.2585653951692\n",
      "MSE :  8521009.047133124\n",
      "RMSE :  2919.076745673728\n"
     ]
    }
   ],
   "source": [
    "preds = randForest_r.predict(x_test)\n",
    "print(\"Random Forest Regression\")\n",
    "print(\"MAPE : \",mean_absolute_percentage_error(y_test,preds))\n",
    "print(\"R2-Score : \",r2_score(y_test,preds))\n",
    "print(\"MAE: \",mean_absolute_error(y_test,preds))\n",
    "print(\"MSE : \",mean_squared_error(y_test,preds))\n",
    "print(\"RMSE : \",mean_squared_error(y_test,preds,squared=False))"
   ]
  },
  {
   "cell_type": "code",
   "execution_count": 97,
   "id": "dc411be9",
   "metadata": {},
   "outputs": [
    {
     "name": "stdout",
     "output_type": "stream",
     "text": [
      "Decision Tree Regression\n",
      "MAPE :  1.0682415565401897\n",
      "R2-Score :  0.6779510920954506\n",
      "MAE:  2160.5604015671265\n",
      "MSE :  13713656.093109665\n",
      "RMSE :  3703.195389539913\n"
     ]
    }
   ],
   "source": [
    "preds = dt.predict(x_test)\n",
    "print(\"Decision Tree Regression\")\n",
    "print(\"MAPE : \",mean_absolute_percentage_error(y_test,preds))\n",
    "print(\"R2-Score : \",r2_score(y_test,preds))\n",
    "print(\"MAE: \",mean_absolute_error(y_test,preds))\n",
    "print(\"MSE : \",mean_squared_error(y_test,preds))\n",
    "print(\"RMSE : \",mean_squared_error(y_test,preds,squared=False))"
   ]
  },
  {
   "cell_type": "code",
   "execution_count": 98,
   "id": "4024e5ed",
   "metadata": {},
   "outputs": [
    {
     "name": "stdout",
     "output_type": "stream",
     "text": [
      "SVM Regression\n",
      "MAPE :  2.3876041118605844\n",
      "R2-Score :  0.22778266653414558\n",
      "MAE:  3341.0735235892057\n",
      "MSE :  32882964.917327434\n",
      "RMSE :  5734.3670023227005\n"
     ]
    }
   ],
   "source": [
    "preds = svr.predict(x_test)\n",
    "print(\"SVM Regression\")\n",
    "print(\"MAPE : \",mean_absolute_percentage_error(y_test,preds))\n",
    "print(\"R2-Score : \",r2_score(y_test,preds))\n",
    "print(\"MAE: \",mean_absolute_error(y_test,preds))\n",
    "print(\"MSE : \",mean_squared_error(y_test,preds))\n",
    "print(\"RMSE : \",mean_squared_error(y_test,preds,squared=False))"
   ]
  },
  {
   "cell_type": "code",
   "execution_count": 99,
   "id": "a77610ab",
   "metadata": {},
   "outputs": [
    {
     "name": "stdout",
     "output_type": "stream",
     "text": [
      "ANN Regression\n",
      "MAPE :  0.8973004334604617\n",
      "R2-Score :  0.6971172333937667\n",
      "MAE:  2009.3568922097259\n",
      "MSE :  12897513.377063079\n",
      "RMSE :  3591.310815992272\n"
     ]
    }
   ],
   "source": [
    "preds = model.predict(x_test)\n",
    "print(\"ANN Regression\")\n",
    "print(\"MAPE : \",mean_absolute_percentage_error(y_test,preds))\n",
    "print(\"R2-Score : \",r2_score(y_test,preds))\n",
    "print(\"MAE: \",mean_absolute_error(y_test,preds))\n",
    "print(\"MSE : \",mean_squared_error(y_test,preds))\n",
    "print(\"RMSE : \",mean_squared_error(y_test,preds,squared=False))"
   ]
  },
  {
   "cell_type": "markdown",
   "id": "5939dcf5",
   "metadata": {},
   "source": [
    "### Kfold validation"
   ]
  },
  {
   "cell_type": "code",
   "execution_count": 100,
   "id": "02b82d66",
   "metadata": {},
   "outputs": [],
   "source": [
    "from sklearn.model_selection import KFold\n",
    "from sklearn.model_selection import cross_val_score\n",
    "from numpy import mean\n",
    "from numpy import absolute\n",
    "from numpy import sqrt"
   ]
  },
  {
   "cell_type": "code",
   "execution_count": 101,
   "id": "2738bf3d",
   "metadata": {},
   "outputs": [],
   "source": [
    "features = df_org.drop(labels=['price_usd'],axis=1)\n",
    "target = df[['price_usd']]"
   ]
  },
  {
   "cell_type": "code",
   "execution_count": 102,
   "id": "0cecd01b",
   "metadata": {},
   "outputs": [],
   "source": [
    "cv = KFold(n_splits=10, random_state=1, shuffle=True)"
   ]
  },
  {
   "cell_type": "code",
   "execution_count": 103,
   "id": "2285d0c9",
   "metadata": {},
   "outputs": [],
   "source": [
    "reg = LinearRegression()\n",
    "svr = SVR(kernel = 'rbf')\n",
    "dt = DecisionTreeRegressor(random_state=0)\n",
    "randForest_r = RandomForestRegressor(max_depth=10, random_state=0)"
   ]
  },
  {
   "cell_type": "code",
   "execution_count": 131,
   "id": "368eb863",
   "metadata": {},
   "outputs": [],
   "source": [
    "model = tf.keras.Sequential([\n",
    "  tf.keras.layers.Dense(100, activation = tf.keras.activations.relu),\n",
    "  tf.keras.layers.Dense(10),\n",
    "  tf.keras.layers.Dense(1)\n",
    "])\n",
    "model.compile(loss=tf.keras.losses.mae,\n",
    "                optimizer=tf.keras.optimizers.SGD(),\n",
    "                metrics=['mae'])"
   ]
  },
  {
   "cell_type": "code",
   "execution_count": 105,
   "id": "326a3090",
   "metadata": {},
   "outputs": [
    {
     "data": {
      "text/plain": [
       "2214.474422763771"
      ]
     },
     "execution_count": 105,
     "metadata": {},
     "output_type": "execute_result"
    }
   ],
   "source": [
    "scores = cross_val_score(reg, features, target, scoring='neg_mean_absolute_error',\n",
    "                         cv=cv, n_jobs=-1)\n",
    "mean(absolute(scores))"
   ]
  },
  {
   "cell_type": "code",
   "execution_count": 106,
   "id": "019c068e",
   "metadata": {},
   "outputs": [
    {
     "data": {
      "text/plain": [
       "1593.407646625347"
      ]
     },
     "execution_count": 106,
     "metadata": {},
     "output_type": "execute_result"
    }
   ],
   "source": [
    "scores = cross_val_score(randForest_r, features, target, scoring='neg_mean_absolute_error',\n",
    "                         cv=cv, n_jobs=-1)\n",
    "mean(absolute(scores))"
   ]
  },
  {
   "cell_type": "code",
   "execution_count": 107,
   "id": "ad9ad93b",
   "metadata": {},
   "outputs": [
    {
     "data": {
      "text/plain": [
       "2106.5320316212647"
      ]
     },
     "execution_count": 107,
     "metadata": {},
     "output_type": "execute_result"
    }
   ],
   "source": [
    "scores = cross_val_score(dt, features, target, scoring='neg_mean_absolute_error',\n",
    "                         cv=cv, n_jobs=-1)\n",
    "mean(absolute(scores))"
   ]
  },
  {
   "cell_type": "code",
   "execution_count": 108,
   "id": "e3bb1275",
   "metadata": {},
   "outputs": [
    {
     "data": {
      "text/plain": [
       "3905.213590464084"
      ]
     },
     "execution_count": 108,
     "metadata": {},
     "output_type": "execute_result"
    }
   ],
   "source": [
    "scores = cross_val_score(svr, features, target, scoring='neg_mean_absolute_error',\n",
    "                         cv=cv, n_jobs=-1)\n",
    "mean(absolute(scores))"
   ]
  },
  {
   "cell_type": "code",
   "execution_count": null,
   "id": "264169b9",
   "metadata": {},
   "outputs": [],
   "source": []
  },
  {
   "cell_type": "code",
   "execution_count": 109,
   "id": "d3b03bfe",
   "metadata": {},
   "outputs": [
    {
     "data": {
      "text/plain": [
       "0.7039512266634363"
      ]
     },
     "execution_count": 109,
     "metadata": {},
     "output_type": "execute_result"
    }
   ],
   "source": [
    "scores = cross_val_score(reg, features, target, scoring='r2',\n",
    "                         cv=cv, n_jobs=-1)\n",
    "\n",
    "mean(absolute(scores))"
   ]
  },
  {
   "cell_type": "code",
   "execution_count": 110,
   "id": "bb29dce9",
   "metadata": {},
   "outputs": [
    {
     "data": {
      "text/plain": [
       "0.8276104340455666"
      ]
     },
     "execution_count": 110,
     "metadata": {},
     "output_type": "execute_result"
    }
   ],
   "source": [
    "scores = cross_val_score(randForest_r, features, target, scoring='r2',\n",
    "                         cv=cv, n_jobs=-1)\n",
    "\n",
    "mean(absolute(scores))"
   ]
  },
  {
   "cell_type": "code",
   "execution_count": 111,
   "id": "d924a504",
   "metadata": {},
   "outputs": [
    {
     "data": {
      "text/plain": [
       "0.6903837264174143"
      ]
     },
     "execution_count": 111,
     "metadata": {},
     "output_type": "execute_result"
    }
   ],
   "source": [
    "scores = cross_val_score(dt, features, target, scoring='r2',\n",
    "                         cv=cv, n_jobs=-1)\n",
    "mean(absolute(scores))"
   ]
  },
  {
   "cell_type": "code",
   "execution_count": 112,
   "id": "98fc2ffc",
   "metadata": {},
   "outputs": [
    {
     "data": {
      "text/plain": [
       "0.10316584174039316"
      ]
     },
     "execution_count": 112,
     "metadata": {},
     "output_type": "execute_result"
    }
   ],
   "source": [
    "scores = cross_val_score(svr, features, target, scoring='r2',\n",
    "                         cv=cv, n_jobs=-1)\n",
    "mean(absolute(scores))"
   ]
  },
  {
   "cell_type": "code",
   "execution_count": 126,
   "id": "59b7b874",
   "metadata": {},
   "outputs": [],
   "source": [
    "# scores = cross_val_score(model, features, target, scoring='r2',\n",
    "#                          cv=cv, n_jobs=-1)\n",
    "# mean(absolute(scores))"
   ]
  },
  {
   "cell_type": "code",
   "execution_count": 125,
   "id": "7c5fb1eb",
   "metadata": {},
   "outputs": [
    {
     "name": "stdout",
     "output_type": "stream",
     "text": [
      "121/121 [==============================] - 0s 1ms/step - loss: 31780052992.0000 - mae: 31780052992.0000\n",
      "Model evaluation  [31780052992.0, 31780052992.0]\n",
      "121/121 [==============================] - 0s 1ms/step - loss: 50752976.0000 - mae: 50752976.0000\n",
      "Model evaluation  [50752976.0, 50752976.0]\n",
      "121/121 [==============================] - 0s 1ms/step - loss: 97885.3203 - mae: 97885.3203\n",
      "Model evaluation  [97885.3203125, 97885.3203125]\n",
      "121/121 [==============================] - 0s 1ms/step - loss: 4774.7939 - mae: 4774.7939\n",
      "Model evaluation  [4774.7939453125, 4774.7939453125]\n",
      "121/121 [==============================] - 0s 1ms/step - loss: 4750.8398 - mae: 4750.8398\n",
      "Model evaluation  [4750.83984375, 4750.83984375]\n",
      "121/121 [==============================] - 0s 1ms/step - loss: 5252.1045 - mae: 5252.1045\n",
      "Model evaluation  [5252.1044921875, 5252.1044921875]\n",
      "121/121 [==============================] - 0s 1ms/step - loss: 5301.7104 - mae: 5301.7104\n",
      "Model evaluation  [5301.71044921875, 5301.71044921875]\n",
      "121/121 [==============================] - 0s 1ms/step - loss: 5366.5674 - mae: 5366.5674\n",
      "Model evaluation  [5366.5673828125, 5366.5673828125]\n",
      "121/121 [==============================] - 0s 1ms/step - loss: 6744.3345 - mae: 6744.3345\n",
      "Model evaluation  [6744.33447265625, 6744.33447265625]\n",
      "121/121 [==============================] - 0s 1ms/step - loss: 3727.6511 - mae: 3727.6511\n",
      "Model evaluation  [3727.651123046875, 3727.651123046875]\n"
     ]
    }
   ],
   "source": [
    "c = 0\n",
    "l = 0\n",
    "for train_index,test_index in KFold(10).split(features.values):\n",
    "  x_train,x_test=features.values[train_index],features.values[test_index]\n",
    "  y_train,y_test=target.values[train_index],target.values[test_index]\n",
    "  \n",
    "  x_train = np.asarray(x_train).astype('float32')\n",
    "  x_test = np.asarray(x_test).astype('float32')\n",
    "  y_train = np.asarray(y_train).astype('float32')\n",
    "  y_test = np.asarray(y_test).astype('float32')\n",
    "\n",
    "  model.fit(x_train, y_train,epochs=60,verbose=False)\n",
    "  c=c+1\n",
    "#   l = l + model.evaluate(x_test,y_test)\n",
    "  print('Model evaluation ',model.evaluate(x_test,y_test))"
   ]
  },
  {
   "cell_type": "code",
   "execution_count": 127,
   "id": "c76106d8",
   "metadata": {},
   "outputs": [
    {
     "data": {
      "text/plain": [
       "3183093973.7"
      ]
     },
     "execution_count": 127,
     "metadata": {},
     "output_type": "execute_result"
    }
   ],
   "source": [
    "# (31780052992+50752976+97885+4744+4750+5252+5301+5366+6744+3727)/10"
   ]
  },
  {
   "cell_type": "code",
   "execution_count": 132,
   "id": "03296cae",
   "metadata": {},
   "outputs": [
    {
     "ename": "ValueError",
     "evalue": "in user code:\n\n    File \"C:\\Users\\HP 14\\AppData\\Roaming\\Python\\Python39\\site-packages\\keras\\engine\\training.py\", line 1021, in train_function  *\n        return step_function(self, iterator)\n    File \"C:\\Users\\HP 14\\AppData\\Roaming\\Python\\Python39\\site-packages\\keras\\engine\\training.py\", line 1010, in step_function  **\n        outputs = model.distribute_strategy.run(run_step, args=(data,))\n    File \"C:\\Users\\HP 14\\AppData\\Roaming\\Python\\Python39\\site-packages\\keras\\engine\\training.py\", line 1000, in run_step  **\n        outputs = model.train_step(data)\n    File \"C:\\Users\\HP 14\\AppData\\Roaming\\Python\\Python39\\site-packages\\keras\\engine\\training.py\", line 864, in train_step\n        return self.compute_metrics(x, y, y_pred, sample_weight)\n    File \"C:\\Users\\HP 14\\AppData\\Roaming\\Python\\Python39\\site-packages\\keras\\engine\\training.py\", line 957, in compute_metrics\n        self.compiled_metrics.update_state(y, y_pred, sample_weight)\n    File \"C:\\Users\\HP 14\\AppData\\Roaming\\Python\\Python39\\site-packages\\keras\\engine\\compile_utils.py\", line 438, in update_state\n        self.build(y_pred, y_true)\n    File \"C:\\Users\\HP 14\\AppData\\Roaming\\Python\\Python39\\site-packages\\keras\\engine\\compile_utils.py\", line 358, in build\n        self._metrics = tf.__internal__.nest.map_structure_up_to(y_pred, self._get_metric_objects,\n    File \"C:\\Users\\HP 14\\AppData\\Roaming\\Python\\Python39\\site-packages\\keras\\engine\\compile_utils.py\", line 484, in _get_metric_objects\n        return [self._get_metric_object(m, y_t, y_p) for m in metrics]\n    File \"C:\\Users\\HP 14\\AppData\\Roaming\\Python\\Python39\\site-packages\\keras\\engine\\compile_utils.py\", line 484, in <listcomp>\n        return [self._get_metric_object(m, y_t, y_p) for m in metrics]\n    File \"C:\\Users\\HP 14\\AppData\\Roaming\\Python\\Python39\\site-packages\\keras\\engine\\compile_utils.py\", line 503, in _get_metric_object\n        metric_obj = metrics_mod.get(metric)\n    File \"C:\\Users\\HP 14\\AppData\\Roaming\\Python\\Python39\\site-packages\\keras\\metrics.py\", line 4262, in get\n        return deserialize(str(identifier))\n    File \"C:\\Users\\HP 14\\AppData\\Roaming\\Python\\Python39\\site-packages\\keras\\metrics.py\", line 4218, in deserialize\n        return deserialize_keras_object(\n    File \"C:\\Users\\HP 14\\AppData\\Roaming\\Python\\Python39\\site-packages\\keras\\utils\\generic_utils.py\", line 709, in deserialize_keras_object\n        raise ValueError(\n\n    ValueError: Unknown metric function: r_square. Please ensure this object is passed to the `custom_objects` argument. See https://www.tensorflow.org/guide/keras/save_and_serialize#registering_the_custom_object for details.\n",
     "output_type": "error",
     "traceback": [
      "\u001b[1;31m---------------------------------------------------------------------------\u001b[0m",
      "\u001b[1;31mValueError\u001b[0m                                Traceback (most recent call last)",
      "Input \u001b[1;32mIn [132]\u001b[0m, in \u001b[0;36m<cell line: 3>\u001b[1;34m()\u001b[0m\n\u001b[0;32m      9\u001b[0m   y_train \u001b[38;5;241m=\u001b[39m np\u001b[38;5;241m.\u001b[39masarray(y_train)\u001b[38;5;241m.\u001b[39mastype(\u001b[38;5;124m'\u001b[39m\u001b[38;5;124mfloat32\u001b[39m\u001b[38;5;124m'\u001b[39m)\n\u001b[0;32m     10\u001b[0m   y_test \u001b[38;5;241m=\u001b[39m np\u001b[38;5;241m.\u001b[39masarray(y_test)\u001b[38;5;241m.\u001b[39mastype(\u001b[38;5;124m'\u001b[39m\u001b[38;5;124mfloat32\u001b[39m\u001b[38;5;124m'\u001b[39m)\n\u001b[1;32m---> 12\u001b[0m   \u001b[43mmodel\u001b[49m\u001b[38;5;241;43m.\u001b[39;49m\u001b[43mfit\u001b[49m\u001b[43m(\u001b[49m\u001b[43mx_train\u001b[49m\u001b[43m,\u001b[49m\u001b[43m \u001b[49m\u001b[43my_train\u001b[49m\u001b[43m,\u001b[49m\u001b[43mepochs\u001b[49m\u001b[38;5;241;43m=\u001b[39;49m\u001b[38;5;241;43m60\u001b[39;49m\u001b[43m,\u001b[49m\u001b[43mverbose\u001b[49m\u001b[38;5;241;43m=\u001b[39;49m\u001b[38;5;28;43;01mFalse\u001b[39;49;00m\u001b[43m)\u001b[49m\n\u001b[0;32m     13\u001b[0m   c\u001b[38;5;241m=\u001b[39mc\u001b[38;5;241m+\u001b[39m\u001b[38;5;241m1\u001b[39m\n\u001b[0;32m     14\u001b[0m \u001b[38;5;66;03m#   l = l + model.evaluate(x_test,y_test)\u001b[39;00m\n",
      "File \u001b[1;32m~\\AppData\\Roaming\\Python\\Python39\\site-packages\\keras\\utils\\traceback_utils.py:67\u001b[0m, in \u001b[0;36mfilter_traceback.<locals>.error_handler\u001b[1;34m(*args, **kwargs)\u001b[0m\n\u001b[0;32m     65\u001b[0m \u001b[38;5;28;01mexcept\u001b[39;00m \u001b[38;5;167;01mException\u001b[39;00m \u001b[38;5;28;01mas\u001b[39;00m e:  \u001b[38;5;66;03m# pylint: disable=broad-except\u001b[39;00m\n\u001b[0;32m     66\u001b[0m   filtered_tb \u001b[38;5;241m=\u001b[39m _process_traceback_frames(e\u001b[38;5;241m.\u001b[39m__traceback__)\n\u001b[1;32m---> 67\u001b[0m   \u001b[38;5;28;01mraise\u001b[39;00m e\u001b[38;5;241m.\u001b[39mwith_traceback(filtered_tb) \u001b[38;5;28;01mfrom\u001b[39;00m \u001b[38;5;28mNone\u001b[39m\n\u001b[0;32m     68\u001b[0m \u001b[38;5;28;01mfinally\u001b[39;00m:\n\u001b[0;32m     69\u001b[0m   \u001b[38;5;28;01mdel\u001b[39;00m filtered_tb\n",
      "File \u001b[1;32m~\\AppData\\Roaming\\Python\\Python39\\site-packages\\tensorflow\\python\\framework\\func_graph.py:1147\u001b[0m, in \u001b[0;36mfunc_graph_from_py_func.<locals>.autograph_handler\u001b[1;34m(*args, **kwargs)\u001b[0m\n\u001b[0;32m   1145\u001b[0m \u001b[38;5;28;01mexcept\u001b[39;00m \u001b[38;5;167;01mException\u001b[39;00m \u001b[38;5;28;01mas\u001b[39;00m e:  \u001b[38;5;66;03m# pylint:disable=broad-except\u001b[39;00m\n\u001b[0;32m   1146\u001b[0m   \u001b[38;5;28;01mif\u001b[39;00m \u001b[38;5;28mhasattr\u001b[39m(e, \u001b[38;5;124m\"\u001b[39m\u001b[38;5;124mag_error_metadata\u001b[39m\u001b[38;5;124m\"\u001b[39m):\n\u001b[1;32m-> 1147\u001b[0m     \u001b[38;5;28;01mraise\u001b[39;00m e\u001b[38;5;241m.\u001b[39mag_error_metadata\u001b[38;5;241m.\u001b[39mto_exception(e)\n\u001b[0;32m   1148\u001b[0m   \u001b[38;5;28;01melse\u001b[39;00m:\n\u001b[0;32m   1149\u001b[0m     \u001b[38;5;28;01mraise\u001b[39;00m\n",
      "\u001b[1;31mValueError\u001b[0m: in user code:\n\n    File \"C:\\Users\\HP 14\\AppData\\Roaming\\Python\\Python39\\site-packages\\keras\\engine\\training.py\", line 1021, in train_function  *\n        return step_function(self, iterator)\n    File \"C:\\Users\\HP 14\\AppData\\Roaming\\Python\\Python39\\site-packages\\keras\\engine\\training.py\", line 1010, in step_function  **\n        outputs = model.distribute_strategy.run(run_step, args=(data,))\n    File \"C:\\Users\\HP 14\\AppData\\Roaming\\Python\\Python39\\site-packages\\keras\\engine\\training.py\", line 1000, in run_step  **\n        outputs = model.train_step(data)\n    File \"C:\\Users\\HP 14\\AppData\\Roaming\\Python\\Python39\\site-packages\\keras\\engine\\training.py\", line 864, in train_step\n        return self.compute_metrics(x, y, y_pred, sample_weight)\n    File \"C:\\Users\\HP 14\\AppData\\Roaming\\Python\\Python39\\site-packages\\keras\\engine\\training.py\", line 957, in compute_metrics\n        self.compiled_metrics.update_state(y, y_pred, sample_weight)\n    File \"C:\\Users\\HP 14\\AppData\\Roaming\\Python\\Python39\\site-packages\\keras\\engine\\compile_utils.py\", line 438, in update_state\n        self.build(y_pred, y_true)\n    File \"C:\\Users\\HP 14\\AppData\\Roaming\\Python\\Python39\\site-packages\\keras\\engine\\compile_utils.py\", line 358, in build\n        self._metrics = tf.__internal__.nest.map_structure_up_to(y_pred, self._get_metric_objects,\n    File \"C:\\Users\\HP 14\\AppData\\Roaming\\Python\\Python39\\site-packages\\keras\\engine\\compile_utils.py\", line 484, in _get_metric_objects\n        return [self._get_metric_object(m, y_t, y_p) for m in metrics]\n    File \"C:\\Users\\HP 14\\AppData\\Roaming\\Python\\Python39\\site-packages\\keras\\engine\\compile_utils.py\", line 484, in <listcomp>\n        return [self._get_metric_object(m, y_t, y_p) for m in metrics]\n    File \"C:\\Users\\HP 14\\AppData\\Roaming\\Python\\Python39\\site-packages\\keras\\engine\\compile_utils.py\", line 503, in _get_metric_object\n        metric_obj = metrics_mod.get(metric)\n    File \"C:\\Users\\HP 14\\AppData\\Roaming\\Python\\Python39\\site-packages\\keras\\metrics.py\", line 4262, in get\n        return deserialize(str(identifier))\n    File \"C:\\Users\\HP 14\\AppData\\Roaming\\Python\\Python39\\site-packages\\keras\\metrics.py\", line 4218, in deserialize\n        return deserialize_keras_object(\n    File \"C:\\Users\\HP 14\\AppData\\Roaming\\Python\\Python39\\site-packages\\keras\\utils\\generic_utils.py\", line 709, in deserialize_keras_object\n        raise ValueError(\n\n    ValueError: Unknown metric function: r_square. Please ensure this object is passed to the `custom_objects` argument. See https://www.tensorflow.org/guide/keras/save_and_serialize#registering_the_custom_object for details.\n"
     ]
    }
   ],
   "source": [
    "c = 0\n",
    "l = 0\n",
    "for train_index,test_index in KFold(10).split(features.values):\n",
    "  x_train,x_test=features.values[train_index],features.values[test_index]\n",
    "  y_train,y_test=target.values[train_index],target.values[test_index]\n",
    "  \n",
    "  x_train = np.asarray(x_train).astype('float32')\n",
    "  x_test = np.asarray(x_test).astype('float32')\n",
    "  y_train = np.asarray(y_train).astype('float32')\n",
    "  y_test = np.asarray(y_test).astype('float32')\n",
    "\n",
    "  model.fit(x_train, y_train,epochs=60,verbose=False)\n",
    "  c=c+1\n",
    "#   l = l + model.evaluate(x_test,y_test)\n",
    "  print('Model evaluation ',model.evaluate(x_test,y_test))"
   ]
  },
  {
   "cell_type": "code",
   "execution_count": null,
   "id": "7e9059ec",
   "metadata": {},
   "outputs": [],
   "source": []
  }
 ],
 "metadata": {
  "kernelspec": {
   "display_name": "Python 3 (ipykernel)",
   "language": "python",
   "name": "python3"
  },
  "language_info": {
   "codemirror_mode": {
    "name": "ipython",
    "version": 3
   },
   "file_extension": ".py",
   "mimetype": "text/x-python",
   "name": "python",
   "nbconvert_exporter": "python",
   "pygments_lexer": "ipython3",
   "version": "3.9.12"
  }
 },
 "nbformat": 4,
 "nbformat_minor": 5
}
